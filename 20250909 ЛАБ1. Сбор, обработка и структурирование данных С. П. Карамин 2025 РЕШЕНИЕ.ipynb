{
 "cells": [
  {
   "cell_type": "markdown",
   "id": "018eb1b8-3c4a-40f1-9e1a-04e4bb03528f",
   "metadata": {},
   "source": [
    "# Работа с документами MS Excel. Модуль openpyxl"
   ]
  },
  {
   "cell_type": "markdown",
   "id": "b7993221-4a00-4ccf-bef4-3dfaf47cc7f1",
   "metadata": {},
   "source": [
    "### ✅ Задания 1 на openpyxl (для работы с Excel)\n",
    "\n",
    "Задание 1.1: Создай новую книгу Excel\n",
    "Условие: Создай новый файл Excel с именем my_first_table.xlsx. Добавь лист с названием \"Продажи\". В ячейку A1 запиши \"Товар\", в B1 - \"Количество\", в C1 - \"Цена\". Сохрани файл.\n",
    "\n",
    "Задание 1.2: Заполни таблицу данными\n",
    "Условие: Возьми файл из предыдущего задания. Добавь три строки с данными о продажах (например, Яблоки, 100, 50; Груши, 75, 70; Сливы, 50, 90). Сохрани изменения.\n",
    "\n",
    "Задание 1.3: Прочитай данные из файла\n",
    "Условие: Напиши программу, которая откроет созданный файл my_first_table.xlsx, прочитает и выведет на экран все данные из колонки \"Товар\"\n",
    "\n"
   ]
  },
  {
   "cell_type": "markdown",
   "id": "c239eb2f-6b17-4fc9-ad51-9ada936237c9",
   "metadata": {},
   "source": [
    "#### Решения на занятии"
   ]
  },
  {
   "cell_type": "code",
   "execution_count": 16,
   "id": "4240a1da-fd96-4261-ac6d-81673efbdead",
   "metadata": {},
   "outputs": [],
   "source": [
    "import openpyxl\n",
    "wb = openpyxl.Workbook()\n",
    "wb.create_sheet(title = 'Продажи', index = 0)\n",
    "sheet = wb.active\n",
    "sheet.append(['Товар', 'Количество', 'Цена'])\n",
    "wb.save('my_first_table_ksp.xlsx')"
   ]
  },
  {
   "cell_type": "code",
   "execution_count": 17,
   "id": "9619a3c3-ce67-42ab-b67c-19559a00833b",
   "metadata": {},
   "outputs": [],
   "source": [
    "wb = openpyxl.Workbook()\n",
    "wb.create_sheet(title = 'Продажи', index = 0)\n",
    "sheet = wb.active\n",
    "sheet['A1'] = 'Товар'\n",
    "sheet['B1'] = 'Количество'\n",
    "sheet['C1'] = 'Цена'\n",
    "wb.save('my_first_table_ksp.xlsx')"
   ]
  },
  {
   "cell_type": "code",
   "execution_count": 18,
   "id": "f8f9a689-3de9-4b1b-9bf0-aaed095785cd",
   "metadata": {},
   "outputs": [
    {
     "name": "stdout",
     "output_type": "stream",
     "text": [
      "Данные успешно добавлены в файл: Analytics_2.xlsx\n"
     ]
    }
   ],
   "source": [
    "wb = openpyxl.Workbook()\n",
    "sheet = wb.active\n",
    "sheet_title = sheet.title \n",
    "sheet_title =  \"Продажи\"\n",
    "a1 = sheet.cell(row = 1, column = 1)\n",
    "a1.value = \"Товар\"\n",
    "b1 = sheet.cell(row= 1 , column = 2)\n",
    "b1.value = \"Количество\"\n",
    "c1 = sheet.cell(row = 1, column = 3)\n",
    "c1.value = \"Цена\"\n",
    "wb.save(\"Analytics_2.xlsx\")\n",
    "\n",
    "from openpyxl import load_workbook\n",
    "\n",
    "file_path = \"Analytics_2.xlsx\"\n",
    "wb = load_workbook(file_path)\n",
    "\n",
    "# не рабочий вариант: ❌ws = wb[\"Продажи\"]\n",
    "# Замени на: ✅\n",
    "ws = wb.create_sheet(\"Продажи\")\n",
    "\n",
    "ws.append([\"Яблоки\", 100, 50])\n",
    "ws.append([\"Груши\", 75, 70])\n",
    "ws.append([\"Сливы\", 50, 90])\n",
    "\n",
    "wb.save(file_path)\n",
    "\n",
    "print(\"Данные успешно добавлены в файл:\", file_path)"
   ]
  },
  {
   "cell_type": "code",
   "execution_count": 19,
   "id": "fb437572-2228-4c1f-8fc4-8bbb75275937",
   "metadata": {},
   "outputs": [
    {
     "name": "stdout",
     "output_type": "stream",
     "text": [
      "Данные успешно добавлены в файл: my_first_table_ksp.xlsx\n"
     ]
    }
   ],
   "source": [
    "from openpyxl import load_workbook\n",
    "\n",
    "file_path = \"my_first_table_ksp.xlsx\"\n",
    "wb = load_workbook(file_path)\n",
    "\n",
    "ws = wb[\"Продажи\"]\n",
    "\n",
    "ws.append([\"Яблоки\", 100, 50])\n",
    "ws.append([\"Груши\", 75, 70])\n",
    "ws.append([\"Сливы\", 50, 90])\n",
    "\n",
    "wb.save(file_path)\n",
    "\n",
    "print(\"Данные успешно добавлены в файл:\", file_path)"
   ]
  },
  {
   "cell_type": "code",
   "execution_count": 20,
   "id": "12f7736c-7a0d-4665-bf42-915cac885fa8",
   "metadata": {},
   "outputs": [
    {
     "name": "stdout",
     "output_type": "stream",
     "text": [
      "Товар Яблоки Груши Сливы\n"
     ]
    }
   ],
   "source": [
    "wb = openpyxl.load_workbook('my_first_table_ksp.xlsx')\n",
    "sheet = wb.active\n",
    "rows = sheet.max_row\n",
    "cols = sheet.max_column\n",
    "for i in range(1, rows + 1):\n",
    "    for j in range(1, cols + 1):\n",
    "        cell = sheet.cell(row = i, column = j)\n",
    "        if cell.value == \"Товар\":\n",
    "            print(*[p.value for p in sheet[openpyxl.utils.get_column_letter(j)]])\n",
    "            break"
   ]
  },
  {
   "cell_type": "code",
   "execution_count": 21,
   "id": "e68d2d68-64bd-45a3-93e9-518e7bcc440c",
   "metadata": {},
   "outputs": [
    {
     "name": "stdout",
     "output_type": "stream",
     "text": [
      "Список товаров\n",
      " - Яблоки\n",
      " - Груши\n",
      " - Сливы\n"
     ]
    }
   ],
   "source": [
    "wb = openpyxl.load_workbook('my_first_table_ksp.xlsx')\n",
    "ws = wb['Продажи']\n",
    "print('Список товаров')\n",
    "for row in range(2, ws.max_row+1):\n",
    "    product_name = ws[f'A{row}'].value\n",
    "    print(f' - {product_name}')"
   ]
  },
  {
   "cell_type": "code",
   "execution_count": 22,
   "id": "d96e3196-b7de-4f3d-aa60-d23b4a95ba7e",
   "metadata": {},
   "outputs": [
    {
     "name": "stdout",
     "output_type": "stream",
     "text": [
      "Яблоки \n",
      "Груши \n",
      "Сливы \n"
     ]
    }
   ],
   "source": [
    "wb = openpyxl.load_workbook('my_first_table_ksp.xlsx')\n",
    "sheet = wb.active\n",
    "for row in sheet['A2':'A4']:\n",
    "    string = ''\n",
    "    for cell in row:\n",
    "        string = string + str(cell.value) + ' '\n",
    "    print(string)"
   ]
  },
  {
   "cell_type": "markdown",
   "id": "e803faf5-5c87-4f89-b900-586e472b6112",
   "metadata": {},
   "source": [
    "#### 🔍 Вариант решения от преподавателя с комментариями для разбора"
   ]
  },
  {
   "cell_type": "code",
   "execution_count": 23,
   "id": "2e9ad454-bcfe-42ad-8e42-f70b2a2f2e77",
   "metadata": {},
   "outputs": [],
   "source": [
    "from openpyxl import Workbook\n",
    "\n",
    "# Создаем новую книгу\n",
    "wb = Workbook()\n",
    "\n",
    "# Активируем лист (по умолчанию он уже создан)\n",
    "ws = wb.active\n",
    "ws.title = \"Продажи\"  # Меняем название листа\n",
    "\n",
    "# Заполняем шапку таблицы\n",
    "ws['A1'] = 'Товар'\n",
    "ws['B1'] = 'Количество'\n",
    "ws['C1'] = 'Цена'\n",
    "\n",
    "# Сохраняем файл\n",
    "wb.save('my_first_table.xlsx')"
   ]
  },
  {
   "cell_type": "code",
   "execution_count": 24,
   "id": "9f41a232-b921-4fbd-86a4-f648b11f8f82",
   "metadata": {},
   "outputs": [],
   "source": [
    "from openpyxl import load_workbook\n",
    "\n",
    "# Открываем существующий файл\n",
    "wb = load_workbook('my_first_table.xlsx')\n",
    "ws = wb['Продажи']  # Выбираем лист по имени\n",
    "\n",
    "# Данные для добавления (список списков)\n",
    "data = [\n",
    "    ['Яблоки', 100, 50],\n",
    "    ['Груши', 75, 70],\n",
    "    ['Сливы', 50, 90]\n",
    "]\n",
    "\n",
    "# Записываем данные, начиная со второй строки (после шапки)\n",
    "for i, row_data in enumerate(data, start=2):\n",
    "    ws[f'A{i}'] = row_data[0]\n",
    "    ws[f'B{i}'] = row_data[1]\n",
    "    ws[f'C{i}'] = row_data[2]\n",
    "\n",
    "# Сохраняем изменения\n",
    "wb.save('my_first_table.xlsx')"
   ]
  },
  {
   "cell_type": "code",
   "execution_count": 25,
   "id": "7ab1366d-fbcb-4220-8650-8ec9cfb75999",
   "metadata": {},
   "outputs": [
    {
     "name": "stdout",
     "output_type": "stream",
     "text": [
      "Список товаров:\n",
      "- Яблоки\n",
      "- Груши\n",
      "- Сливы\n"
     ]
    }
   ],
   "source": [
    "from openpyxl import load_workbook\n",
    "\n",
    "# Открываем файл\n",
    "wb = load_workbook('my_first_table.xlsx')\n",
    "ws = wb['Продажи']\n",
    "\n",
    "# Читаем все значения из колонки A, начиная со второй строки (чтобы пропустить заголовок)\n",
    "print(\"Список товаров:\")\n",
    "for row in range(2, ws.max_row + 1):\n",
    "    product_name = ws[f'A{row}'].value\n",
    "    print(f\"- {product_name}\")"
   ]
  },
  {
   "cell_type": "markdown",
   "id": "ce46dfdc-eb25-4188-aff0-a121d4456f10",
   "metadata": {},
   "source": [
    "### ✅ Задание 2 на docx (для работы с Word)\n",
    "\n",
    "Задание 2.1: Создай новый документ\n",
    "Условие: Создай новый документ Word с именем my_document.docx. Добавь в него заголовок \"Мой первый документ\" и параграф с текстом \"Привет, мир! Это мой первый документ, созданный с помощью Python.\" Сохрани файл.\n",
    "\n",
    "Задание 2.2: Измени форматирование\n",
    "Условие: Открой документ из предыдущего задания. Сделай заголовок жирным и выровняй его по центру. Текст в параграфе сделай курсивным. Сохрани изменения.\n",
    "\n",
    "Задание 2.3: Прочитай документ\n",
    "Условие: Напиши программу, которая откроет документ my_document.docx и выведет весь его текст в консоль."
   ]
  },
  {
   "cell_type": "markdown",
   "id": "f34e4f10-2e5e-47f8-8e0a-de9f52ef84d5",
   "metadata": {},
   "source": [
    "#### Решения на занятии"
   ]
  },
  {
   "cell_type": "code",
   "execution_count": 26,
   "id": "64f011d8-e38f-4e12-9863-db5125ce5658",
   "metadata": {},
   "outputs": [],
   "source": [
    "import docx\n",
    "new_doc = docx.Document()\n",
    "new_doc.add_heading('Мой первый документ', 0)\n",
    "new_doc.add_paragraph(text = 'Привет, мир! Это мой первый документ, созданный с помощью Python')\n",
    "new_doc.save('my_first_doc_ksp.docx')"
   ]
  },
  {
   "cell_type": "code",
   "execution_count": 27,
   "id": "cd0f7b10-a190-43d0-8258-8a9fd9ebf4c0",
   "metadata": {},
   "outputs": [],
   "source": [
    "from docx import Document\n",
    "from docx.shared import Pt\n",
    "from docx.enum.text import WD_ALIGN_PARAGRAPH\n",
    "from docx.oxml.ns import qn\n",
    "\n",
    "doc = Document('my_first_doc_ksp.docx')\n",
    "if len(doc.paragraphs) > 0:\n",
    "    heading = doc.paragraphs[0]\n",
    "for run in heading.runs:\n",
    "    run.bold = True\n",
    "heading.alignment = WD_ALIGN_PARAGRAPH.CENTER\n",
    "if len(doc.paragraphs) > 1:\n",
    "    paragraph = doc.paragraphs[1]\n",
    "for run in paragraph.runs:\n",
    "    run.italic = True\n",
    "doc.save('my_first_doc_ksp.docx')"
   ]
  },
  {
   "cell_type": "code",
   "execution_count": 28,
   "id": "80462037-5d98-4c1f-8d03-84e9db825af3",
   "metadata": {},
   "outputs": [
    {
     "name": "stdout",
     "output_type": "stream",
     "text": [
      "Мой первый документ\n",
      "Привет, мир! Это мой первый документ, созданный с помощью Python\n"
     ]
    }
   ],
   "source": [
    "from docx import Document\n",
    "\n",
    "doc = Document(\"my_first_doc_ksp.docx\")\n",
    "\n",
    "for para in doc.paragraphs:\n",
    "    print(para.text)"
   ]
  },
  {
   "cell_type": "markdown",
   "id": "359d74f0-6641-4a75-a63d-76777af2c0b1",
   "metadata": {},
   "source": [
    "#### 🔍 Вариант решения от преподавателя с комментариями для разбора"
   ]
  },
  {
   "cell_type": "code",
   "execution_count": 29,
   "id": "0f243a78-43ae-4551-b614-5d07fec4560a",
   "metadata": {},
   "outputs": [],
   "source": [
    "from docx import Document\n",
    "\n",
    "# Создаем новый документ\n",
    "doc = Document()\n",
    "\n",
    "# Добавляем заголовок (уровень 0 - самый крупный)\n",
    "doc.add_heading('Мой первый документ', 0)\n",
    "\n",
    "# Добавляем параграф с текстом\n",
    "doc.add_paragraph('Привет, мир! Это мой первый документ, созданный с помощью Python.')\n",
    "\n",
    "# Сохраняем документ\n",
    "doc.save('my_document.docx')"
   ]
  },
  {
   "cell_type": "code",
   "execution_count": 30,
   "id": "d92ad78e-2f3a-4b56-b1ea-0535bfa0bce9",
   "metadata": {},
   "outputs": [],
   "source": [
    "from docx import Document\n",
    "from docx.enum.text import WD_ALIGN_PARAGRAPH\n",
    "from docx.shared import Pt\n",
    "\n",
    "# Открываем существующий документ\n",
    "doc = Document('my_document.docx')\n",
    "\n",
    "# Первый параграф - это заголовок\n",
    "heading = doc.paragraphs[0]\n",
    "heading.alignment = WD_ALIGN_PARAGRAPH.CENTER  # Выравнивание по центру\n",
    "\n",
    "# Второй параграф - это основной текст\n",
    "main_text = doc.paragraphs[1]\n",
    "\n",
    "# Меняем форматирование для всего параграфа\n",
    "for run in main_text.runs:\n",
    "    run.italic = True  # Делаем курсивом\n",
    "\n",
    "# Сохраняем изменения\n",
    "doc.save('my_document.docx')"
   ]
  },
  {
   "cell_type": "code",
   "execution_count": 31,
   "id": "f7bb9bbe-4c65-4d13-a57a-0a8ac246cd50",
   "metadata": {},
   "outputs": [
    {
     "name": "stdout",
     "output_type": "stream",
     "text": [
      "Мой первый документ\n",
      "Привет, мир! Это мой первый документ, созданный с помощью Python.\n"
     ]
    }
   ],
   "source": [
    "from docx import Document\n",
    "\n",
    "# Открываем документ\n",
    "doc = Document('my_document.docx')\n",
    "\n",
    "# Читаем и выводим весь текст\n",
    "full_text = []\n",
    "for paragraph in doc.paragraphs:\n",
    "    full_text.append(paragraph.text)\n",
    "\n",
    "# Объединяем все параграфы в одну строку с переносами\n",
    "print('\\n'.join(full_text))"
   ]
  },
  {
   "cell_type": "markdown",
   "id": "1c9e22f1-c5bd-49ed-8c95-7fd905db5bb3",
   "metadata": {},
   "source": [
    "### ✅ Задание 3. Анализ и модификация таблицы продаж\n",
    "\n",
    "Условие: На основе файла my_first_table.xlsx выполни следующие действия:\n",
    "\n",
    "Добавь новую колонку \"Сумма\" (D1), которая будет рассчитываться как Количество * Цена\n",
    "\n",
    "Заполни эту колонку для всех товаров\n",
    "\n",
    "Добавь итоговую строку \"Итого\" в конце таблицы, которая посчитает общую сумму продаж\n",
    "\n",
    "Подсчитай и выведи в консоль среднюю цену товаров\n",
    "\n",
    "Сохрани изменения в новый файл sales_report.xlsx"
   ]
  },
  {
   "cell_type": "markdown",
   "id": "639ef70c-f7e6-4878-a59c-b3bf5ec4e463",
   "metadata": {},
   "source": [
    "#### В НАЧАЛЕ ПОПРОБОВАТЬ РЕШИТЬ САМОСТОЯТЕЛЬНО"
   ]
  },
  {
   "cell_type": "code",
   "execution_count": 34,
   "id": "fb9a7104-1a98-406d-b347-223c2686dfa8",
   "metadata": {},
   "outputs": [
    {
     "name": "stdout",
     "output_type": "stream",
     "text": [
      "Средняя цена товара: 70.00 руб.\n"
     ]
    }
   ],
   "source": [
    "from openpyxl import load_workbook\n",
    "from openpyxl.styles import Font\n",
    "\n",
    "# Открываем существующий файл\n",
    "wb = load_workbook('my_first_table_ksp.xlsx')\n",
    "ws = wb['Продажи']\n",
    "\n",
    "# 1. Добавляем заголовок для новой колонки\n",
    "ws['D1'] = 'Сумма'\n",
    "\n",
    "# 2. Заполняем колонку \"Сумма\" для всех товаров\n",
    "total_sum = 0\n",
    "total_price = 0\n",
    "item_count = 0\n",
    "\n",
    "for row in range(2, ws.max_row + 1):\n",
    "    quantity = ws[f'B{row}'].value\n",
    "    price = ws[f'C{row}'].value\n",
    "    \n",
    "    # Проверяем, что значения не пустые\n",
    "    if quantity is not None and price is not None:\n",
    "        amount = quantity * price\n",
    "        ws[f'D{row}'] = amount\n",
    "        total_sum += amount\n",
    "        total_price += price\n",
    "        item_count += 1\n",
    "\n",
    "# 3. Добавляем итоговую строку\n",
    "next_row = ws.max_row + 1\n",
    "ws[f'A{next_row}'] = 'Итого'\n",
    "ws[f'D{next_row}'] = total_sum\n",
    "\n",
    "\n",
    "# 4. Подсчитываем и выводим среднюю цену\n",
    "if item_count > 0:\n",
    "    average_price = total_price / item_count\n",
    "    print(f\"Средняя цена товара: {average_price:.2f} руб.\")\n",
    "else:\n",
    "    print(\"В таблице нет данных для анализа\")\n",
    "\n",
    "# 5. Сохраняем в новый файл\n",
    "wb.save('sales_report_ksp.xlsx')"
   ]
  },
  {
   "cell_type": "markdown",
   "id": "f51eb1cf-a30e-4fcb-ae9f-f64dc6361153",
   "metadata": {},
   "source": [
    "### ✅ Задание 4. Дополнительное (поиск и фильтрация)\n",
    "\n",
    "Условие: Напиши программу, которая:\n",
    "\n",
    "Откроет файл sales_report.xlsx\n",
    "\n",
    "Найдет товар с максимальной суммой продаж\n",
    "\n",
    "Найдет товар с минимальной ценой\n",
    "\n",
    "Найдет сколько всего товаров в отчете\n",
    "\n",
    "Выведет эту информацию в консоль\n",
    "\n"
   ]
  },
  {
   "cell_type": "markdown",
   "id": "8298ee39-67a6-46a3-aa82-9706ddcf313a",
   "metadata": {},
   "source": [
    "#### В НАЧАЛЕ ПОПРОБОВАТЬ РЕШИТЬ САМОСТОЯТЕЛЬНО"
   ]
  },
  {
   "cell_type": "code",
   "execution_count": 36,
   "id": "b652e879-2475-4a2f-b88d-5507fa1d4ae6",
   "metadata": {},
   "outputs": [
    {
     "name": "stdout",
     "output_type": "stream",
     "text": [
      "Анализ продаж:\n",
      "Товар с максимальной суммой продаж: Груши (5250 руб.)\n",
      "Товар с минимальной ценой: Яблоки (50 руб. за шт.)\n",
      "Всего товаров в отчете: 3\n"
     ]
    }
   ],
   "source": [
    "from openpyxl import load_workbook\n",
    "\n",
    "def analyze_sales():\n",
    "    wb = load_workbook('sales_report_ksp.xlsx')\n",
    "    ws = wb['Продажи']\n",
    "    \n",
    "    max_amount = 0\n",
    "    max_amount_product = \"\"\n",
    "    min_price_product = \"\"\n",
    "    min_price = float('inf')\n",
    "    \n",
    "    # Пропускаем заголовок и итоговую строку\n",
    "    for row in range(2, ws.max_row):\n",
    "        product = ws[f'A{row}'].value\n",
    "        price = ws[f'C{row}'].value\n",
    "        amount = ws[f'D{row}'].value\n",
    "        \n",
    "        if product and price is not None and amount is not None:\n",
    "            # Поиск товара с максимальной суммой\n",
    "            if amount > max_amount:\n",
    "                max_amount = amount\n",
    "                max_amount_product = product\n",
    "            \n",
    "            # Поиск товара с минимальной ценой\n",
    "            if price < min_price:\n",
    "                min_price = price\n",
    "                min_price_product = product\n",
    "    \n",
    "    print(\"Анализ продаж:\")\n",
    "    print(f\"Товар с максимальной суммой продаж: {max_amount_product} ({max_amount} руб.)\")\n",
    "    print(f\"Товар с минимальной ценой: {min_price_product} ({min_price} руб. за шт.)\")\n",
    "    \n",
    "    # Дополнительная статистика\n",
    "    total_items = ws.max_row - 2  # без заголовка и итогов\n",
    "    print(f\"Всего товаров в отчете: {total_items}\")\n",
    "\n",
    "# Запускаем анализ\n",
    "analyze_sales()"
   ]
  }
 ],
 "metadata": {
  "kernelspec": {
   "display_name": "Python [conda env:base] *",
   "language": "python",
   "name": "conda-base-py"
  },
  "language_info": {
   "codemirror_mode": {
    "name": "ipython",
    "version": 3
   },
   "file_extension": ".py",
   "mimetype": "text/x-python",
   "name": "python",
   "nbconvert_exporter": "python",
   "pygments_lexer": "ipython3",
   "version": "3.13.5"
  }
 },
 "nbformat": 4,
 "nbformat_minor": 5
}
