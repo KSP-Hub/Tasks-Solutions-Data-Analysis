{
 "cells": [
  {
   "cell_type": "markdown",
   "id": "bbb3b8a6-804f-4b9c-aa5a-3a97473130c8",
   "metadata": {},
   "source": [
    "# 1.         ℹ `Создайте Series с данными о продажах за неделю [120, 150, 90, 200, 180, 250, 300] (Пн-Вс) и выполните анализ`"
   ]
  },
  {
   "cell_type": "code",
   "execution_count": 63,
   "id": "636ff825-e003-4b57-a28f-b2ce42939ae0",
   "metadata": {},
   "outputs": [],
   "source": [
    "# загружаем библиотеки"
   ]
  },
  {
   "cell_type": "code",
   "execution_count": 13,
   "id": "0182c763-c9ec-49a5-8748-2525553a4655",
   "metadata": {},
   "outputs": [],
   "source": [
    "import pandas as pd"
   ]
  },
  {
   "cell_type": "code",
   "execution_count": 240,
   "id": "a2fb6557-b07d-4708-ac32-4b6e4d0d5161",
   "metadata": {},
   "outputs": [],
   "source": [
    "import numpy as np"
   ]
  },
  {
   "cell_type": "code",
   "execution_count": 238,
   "id": "2ba2759c-0aff-4f2e-9c68-5950ebed3962",
   "metadata": {},
   "outputs": [],
   "source": [
    "import matplotlib.pyplot as plt"
   ]
  },
  {
   "cell_type": "code",
   "execution_count": 241,
   "id": "5121e00a-95ec-453c-b603-8d53481d318e",
   "metadata": {},
   "outputs": [],
   "source": [
    "from matplotlib.ticker import FuncFormatter"
   ]
  },
  {
   "cell_type": "code",
   "execution_count": 95,
   "id": "3b11ca81-2a2f-4e88-87c5-99065f6f748a",
   "metadata": {},
   "outputs": [],
   "source": [
    "sales = pd.Series([120, 150, 90, 200, 180, 250, 300], \n",
    "                  index = [\"ПН\", \"ВТ\", \"СР\", \"ЧТ\", \"ПТ\", \"СБ\", \"ВС\"], \n",
    "                  name = \"Продажи\") # Создан Series с данными о продажах за неделю"
   ]
  },
  {
   "cell_type": "markdown",
   "id": "698dd0b4-9541-4d6f-ac97-1f914991b0a9",
   "metadata": {},
   "source": [
    "## 1А.        ✅`Выведите дни с продажами выше среднего`"
   ]
  },
  {
   "cell_type": "code",
   "execution_count": 254,
   "id": "4b70e53b-c4f1-4e05-a138-8cc17b268092",
   "metadata": {},
   "outputs": [
    {
     "data": {
      "text/plain": [
       "ПН    120\n",
       "ВТ    150\n",
       "СР     90\n",
       "ЧТ    200\n",
       "ПТ    180\n",
       "СБ    250\n",
       "ВС    300\n",
       "Name: Продажи, dtype: int64"
      ]
     },
     "execution_count": 254,
     "metadata": {},
     "output_type": "execute_result"
    }
   ],
   "source": [
    "sales # Проверка продаж"
   ]
  },
  {
   "cell_type": "code",
   "execution_count": 45,
   "id": "d84fc796-a971-4ace-aee9-3f25dd26cf97",
   "metadata": {},
   "outputs": [
    {
     "data": {
      "text/plain": [
       "np.float64(184.28571428571428)"
      ]
     },
     "execution_count": 45,
     "metadata": {},
     "output_type": "execute_result"
    }
   ],
   "source": [
    "sales.mean() # Вывод среднего арифметического значения. Получаем среднее по продаж."
   ]
  },
  {
   "cell_type": "code",
   "execution_count": 57,
   "id": "efc58ed9-1fe2-4b74-a806-33dbf8964dd3",
   "metadata": {},
   "outputs": [],
   "source": [
    "above_avg = sales[sales > sales.mean()]  # Продажи сравниваем со средним значением и выводим всё, что выше этого значения"
   ]
  },
  {
   "cell_type": "code",
   "execution_count": 58,
   "id": "41d9cc06-25bd-4324-b606-5bee97a720cc",
   "metadata": {},
   "outputs": [
    {
     "name": "stdout",
     "output_type": "stream",
     "text": [
      "Дни с продажами выше среднего\n",
      "ЧТ    200\n",
      "СБ    250\n",
      "ВС    300\n",
      "Name: Продажи, dtype: int64\n"
     ]
    }
   ],
   "source": [
    "print('Дни с продажами выше среднего')\n",
    "print(above_avg)"
   ]
  },
  {
   "cell_type": "markdown",
   "id": "42e71efb-e1de-417c-a37e-32e69ae93d02",
   "metadata": {},
   "source": [
    "## 1Б.        ✅`Найдите процентное соотношение продаж в выходные (Сб, Вс) к общим продажам`"
   ]
  },
  {
   "cell_type": "code",
   "execution_count": 118,
   "id": "1791223d-fe75-40b6-b9a8-7d8b24bc78e9",
   "metadata": {},
   "outputs": [],
   "source": [
    "# новая переменная с общей суммой продаж\n",
    "all_sum_values = sales.sum()"
   ]
  },
  {
   "cell_type": "code",
   "execution_count": 119,
   "id": "628e1c6b-1c1f-400e-88f6-4e9230b0b053",
   "metadata": {},
   "outputs": [],
   "source": [
    "# новая переменная с фильтром продаж по выходным\n",
    "weeekend_sales = sales[['СБ', 'ВС']].sum()"
   ]
  },
  {
   "cell_type": "code",
   "execution_count": 120,
   "id": "0349a18a-295b-44cb-8dd5-89850d1d0c74",
   "metadata": {},
   "outputs": [],
   "source": [
    "# процентное соотношение продаж в выходные (Сб, Вс) к общим продажам\n",
    "percentage = (weeekend_sales/all_sum_values)*100"
   ]
  },
  {
   "cell_type": "code",
   "execution_count": 121,
   "id": "89894b43-a3c4-4253-8306-e7889b3a459c",
   "metadata": {},
   "outputs": [
    {
     "name": "stdout",
     "output_type": "stream",
     "text": [
      "Процентное соотношение продаж в выходные (Сб, Вс) к общим продажам: → 42.63565891472868 ←\n"
     ]
    }
   ],
   "source": [
    "print('Процентное соотношение продаж в выходные (Сб, Вс) к общим продажам:', '→',percentage,'←')"
   ]
  },
  {
   "cell_type": "markdown",
   "id": "679ea2c7-2796-4490-b090-7192727f8d41",
   "metadata": {},
   "source": [
    "# 2.        ℹ `Очистите DataFrame с \"грязными\" данными`"
   ]
  },
  {
   "cell_type": "code",
   "execution_count": 4,
   "id": "1e37ead6-af4c-4e89-96ec-d71183553acb",
   "metadata": {},
   "outputs": [],
   "source": [
    "data = {\n",
    "    'Продукт': ['Яблоки', 'Груши', 'Бананы', np.nan, 'Апельсины', ''],\n",
    "    'Цена': [100, 120, '90', 150, 'не число', 200],\n",
    "    'Количество': [10, 15, 20, None, 25, 30]\n",
    "}"
   ]
  },
  {
   "cell_type": "markdown",
   "id": "69da4ddd-76f3-4246-b951-e14aad2830d8",
   "metadata": {},
   "source": [
    "## 2А.        ✅`Создание DataFrame с \"грязными\" данными`"
   ]
  },
  {
   "cell_type": "code",
   "execution_count": 11,
   "id": "c32ca54c-6d1d-4724-893d-c2ff58fbe962",
   "metadata": {},
   "outputs": [],
   "source": [
    "df = pd.DataFrame(data)"
   ]
  },
  {
   "cell_type": "code",
   "execution_count": 6,
   "id": "31aa7678-8031-4e0d-98cb-c60490083a89",
   "metadata": {},
   "outputs": [
    {
     "name": "stdout",
     "output_type": "stream",
     "text": [
      "     Продукт      Цена  Количество\n",
      "0     Яблоки       100        10.0\n",
      "1      Груши       120        15.0\n",
      "2     Бананы        90        20.0\n",
      "3        NaN       150         NaN\n",
      "4  Апельсины  не число        25.0\n",
      "5                  200        30.0\n"
     ]
    }
   ],
   "source": [
    "print(df)"
   ]
  },
  {
   "cell_type": "code",
   "execution_count": 28,
   "id": "94361546-4299-4d7d-9331-00f6ec2bae10",
   "metadata": {
    "scrolled": true
   },
   "outputs": [
    {
     "data": {
      "text/html": [
       "<div>\n",
       "<style scoped>\n",
       "    .dataframe tbody tr th:only-of-type {\n",
       "        vertical-align: middle;\n",
       "    }\n",
       "\n",
       "    .dataframe tbody tr th {\n",
       "        vertical-align: top;\n",
       "    }\n",
       "\n",
       "    .dataframe thead th {\n",
       "        text-align: right;\n",
       "    }\n",
       "</style>\n",
       "<table border=\"1\" class=\"dataframe\">\n",
       "  <thead>\n",
       "    <tr style=\"text-align: right;\">\n",
       "      <th></th>\n",
       "      <th>Продукт</th>\n",
       "      <th>Цена</th>\n",
       "      <th>Количество</th>\n",
       "    </tr>\n",
       "  </thead>\n",
       "  <tbody>\n",
       "    <tr>\n",
       "      <th>0</th>\n",
       "      <td>Яблоки</td>\n",
       "      <td>100</td>\n",
       "      <td>10.0</td>\n",
       "    </tr>\n",
       "    <tr>\n",
       "      <th>1</th>\n",
       "      <td>Груши</td>\n",
       "      <td>120</td>\n",
       "      <td>15.0</td>\n",
       "    </tr>\n",
       "    <tr>\n",
       "      <th>2</th>\n",
       "      <td>Бананы</td>\n",
       "      <td>90</td>\n",
       "      <td>20.0</td>\n",
       "    </tr>\n",
       "    <tr>\n",
       "      <th>3</th>\n",
       "      <td>Неизвестно</td>\n",
       "      <td>150</td>\n",
       "      <td>NaN</td>\n",
       "    </tr>\n",
       "    <tr>\n",
       "      <th>4</th>\n",
       "      <td>Апельсины</td>\n",
       "      <td>не число</td>\n",
       "      <td>25.0</td>\n",
       "    </tr>\n",
       "    <tr>\n",
       "      <th>5</th>\n",
       "      <td>Неизвестно</td>\n",
       "      <td>200</td>\n",
       "      <td>30.0</td>\n",
       "    </tr>\n",
       "  </tbody>\n",
       "</table>\n",
       "</div>"
      ],
      "text/plain": [
       "      Продукт      Цена  Количество\n",
       "0      Яблоки       100        10.0\n",
       "1       Груши       120        15.0\n",
       "2      Бананы        90        20.0\n",
       "3  Неизвестно       150         NaN\n",
       "4   Апельсины  не число        25.0\n",
       "5  Неизвестно       200        30.0"
      ]
     },
     "execution_count": 28,
     "metadata": {},
     "output_type": "execute_result"
    }
   ],
   "source": [
    "df"
   ]
  },
  {
   "cell_type": "markdown",
   "id": "e15211bd-9866-422a-a9d7-a75622a3a13f",
   "metadata": {},
   "source": [
    "## 2Б.        ✅`Замените пустые строки и NaN в столбце 'Продукт' на 'Неизвестно'`"
   ]
  },
  {
   "cell_type": "code",
   "execution_count": 50,
   "id": "7fe05a5c-bc40-47f6-8d9a-6e609073bb0e",
   "metadata": {},
   "outputs": [],
   "source": [
    "df ['Продукт'] = df ['Продукт'].replace(['', np.nan], 'Неизвестно') # Заменяем значение NaN в колонке Продукты на \"Неизвестно\""
   ]
  },
  {
   "cell_type": "code",
   "execution_count": 26,
   "id": "0b0df152-8e5c-42d4-b1fb-cbce6a4910b6",
   "metadata": {},
   "outputs": [
    {
     "data": {
      "text/html": [
       "<div>\n",
       "<style scoped>\n",
       "    .dataframe tbody tr th:only-of-type {\n",
       "        vertical-align: middle;\n",
       "    }\n",
       "\n",
       "    .dataframe tbody tr th {\n",
       "        vertical-align: top;\n",
       "    }\n",
       "\n",
       "    .dataframe thead th {\n",
       "        text-align: right;\n",
       "    }\n",
       "</style>\n",
       "<table border=\"1\" class=\"dataframe\">\n",
       "  <thead>\n",
       "    <tr style=\"text-align: right;\">\n",
       "      <th></th>\n",
       "      <th>Продукт</th>\n",
       "      <th>Цена</th>\n",
       "      <th>Количество</th>\n",
       "    </tr>\n",
       "  </thead>\n",
       "  <tbody>\n",
       "    <tr>\n",
       "      <th>0</th>\n",
       "      <td>Яблоки</td>\n",
       "      <td>100</td>\n",
       "      <td>10.0</td>\n",
       "    </tr>\n",
       "    <tr>\n",
       "      <th>1</th>\n",
       "      <td>Груши</td>\n",
       "      <td>120</td>\n",
       "      <td>15.0</td>\n",
       "    </tr>\n",
       "    <tr>\n",
       "      <th>2</th>\n",
       "      <td>Бананы</td>\n",
       "      <td>90</td>\n",
       "      <td>20.0</td>\n",
       "    </tr>\n",
       "    <tr>\n",
       "      <th>3</th>\n",
       "      <td>Неизвестно</td>\n",
       "      <td>150</td>\n",
       "      <td>NaN</td>\n",
       "    </tr>\n",
       "    <tr>\n",
       "      <th>4</th>\n",
       "      <td>Апельсины</td>\n",
       "      <td>не число</td>\n",
       "      <td>25.0</td>\n",
       "    </tr>\n",
       "    <tr>\n",
       "      <th>5</th>\n",
       "      <td>Неизвестно</td>\n",
       "      <td>200</td>\n",
       "      <td>30.0</td>\n",
       "    </tr>\n",
       "  </tbody>\n",
       "</table>\n",
       "</div>"
      ],
      "text/plain": [
       "      Продукт      Цена  Количество\n",
       "0      Яблоки       100        10.0\n",
       "1       Груши       120        15.0\n",
       "2      Бананы        90        20.0\n",
       "3  Неизвестно       150         NaN\n",
       "4   Апельсины  не число        25.0\n",
       "5  Неизвестно       200        30.0"
      ]
     },
     "execution_count": 26,
     "metadata": {},
     "output_type": "execute_result"
    }
   ],
   "source": [
    "df"
   ]
  },
  {
   "cell_type": "code",
   "execution_count": 48,
   "id": "ee9ec14e-8a39-443d-bcf1-9cb8fcb99f0a",
   "metadata": {},
   "outputs": [
    {
     "data": {
      "text/plain": [
       "<bound method DataFrame.info of       Продукт   Цена  Количество\n",
       "0      Яблоки  100.0        10.0\n",
       "1       Груши  120.0        15.0\n",
       "2      Бананы   90.0        20.0\n",
       "3  Неизвестно  150.0         NaN\n",
       "4   Апельсины    NaN        25.0\n",
       "5  Неизвестно  200.0        30.0>"
      ]
     },
     "execution_count": 48,
     "metadata": {},
     "output_type": "execute_result"
    }
   ],
   "source": [
    "df.info"
   ]
  },
  {
   "cell_type": "markdown",
   "id": "356349ed-d66f-433d-8e0d-6a8e4531ee54",
   "metadata": {},
   "source": [
    "## 2Б.        ✅`Преобразуйте столбец 'Цена' в числовой формат, ошибки замените на NaN`"
   ]
  },
  {
   "cell_type": "code",
   "execution_count": 42,
   "id": "c5bf6a03-4e1b-48f3-8e92-f38d7094df6e",
   "metadata": {},
   "outputs": [],
   "source": [
    "df ['Цена'] = pd.to_numeric(df ['Цена'], errors = 'coerce')"
   ]
  },
  {
   "cell_type": "code",
   "execution_count": 52,
   "id": "38cb3d0b-cb89-4e82-b59f-d3a7f7ca257b",
   "metadata": {},
   "outputs": [
    {
     "data": {
      "text/html": [
       "<div>\n",
       "<style scoped>\n",
       "    .dataframe tbody tr th:only-of-type {\n",
       "        vertical-align: middle;\n",
       "    }\n",
       "\n",
       "    .dataframe tbody tr th {\n",
       "        vertical-align: top;\n",
       "    }\n",
       "\n",
       "    .dataframe thead th {\n",
       "        text-align: right;\n",
       "    }\n",
       "</style>\n",
       "<table border=\"1\" class=\"dataframe\">\n",
       "  <thead>\n",
       "    <tr style=\"text-align: right;\">\n",
       "      <th></th>\n",
       "      <th>Продукт</th>\n",
       "      <th>Цена</th>\n",
       "      <th>Количество</th>\n",
       "    </tr>\n",
       "  </thead>\n",
       "  <tbody>\n",
       "    <tr>\n",
       "      <th>0</th>\n",
       "      <td>Яблоки</td>\n",
       "      <td>100.0</td>\n",
       "      <td>10.0</td>\n",
       "    </tr>\n",
       "    <tr>\n",
       "      <th>1</th>\n",
       "      <td>Груши</td>\n",
       "      <td>120.0</td>\n",
       "      <td>15.0</td>\n",
       "    </tr>\n",
       "    <tr>\n",
       "      <th>2</th>\n",
       "      <td>Бананы</td>\n",
       "      <td>90.0</td>\n",
       "      <td>20.0</td>\n",
       "    </tr>\n",
       "    <tr>\n",
       "      <th>3</th>\n",
       "      <td>Неизвестно</td>\n",
       "      <td>150.0</td>\n",
       "      <td>NaN</td>\n",
       "    </tr>\n",
       "    <tr>\n",
       "      <th>4</th>\n",
       "      <td>Апельсины</td>\n",
       "      <td>NaN</td>\n",
       "      <td>25.0</td>\n",
       "    </tr>\n",
       "    <tr>\n",
       "      <th>5</th>\n",
       "      <td>Неизвестно</td>\n",
       "      <td>200.0</td>\n",
       "      <td>30.0</td>\n",
       "    </tr>\n",
       "  </tbody>\n",
       "</table>\n",
       "</div>"
      ],
      "text/plain": [
       "      Продукт   Цена  Количество\n",
       "0      Яблоки  100.0        10.0\n",
       "1       Груши  120.0        15.0\n",
       "2      Бананы   90.0        20.0\n",
       "3  Неизвестно  150.0         NaN\n",
       "4   Апельсины    NaN        25.0\n",
       "5  Неизвестно  200.0        30.0"
      ]
     },
     "execution_count": 52,
     "metadata": {},
     "output_type": "execute_result"
    }
   ],
   "source": [
    "df"
   ]
  },
  {
   "cell_type": "markdown",
   "id": "e4acd6fa-f12d-4037-8615-788a8c5b5ffe",
   "metadata": {},
   "source": [
    "## 2Г.        ✅`Заполните пропущенные значения в 'Количество' средним значением`"
   ]
  },
  {
   "cell_type": "code",
   "execution_count": 44,
   "id": "271cb54d-2702-4484-88e4-c7e0fc2a9a3c",
   "metadata": {},
   "outputs": [],
   "source": [
    "mean_qty = df['Количество'].mean() # вывод количетсво"
   ]
  },
  {
   "cell_type": "code",
   "execution_count": 56,
   "id": "92600326-508e-4ed4-9bb4-93c4078e1cc3",
   "metadata": {},
   "outputs": [
    {
     "data": {
      "text/plain": [
       "np.float64(20.0)"
      ]
     },
     "execution_count": 56,
     "metadata": {},
     "output_type": "execute_result"
    }
   ],
   "source": [
    "mean_qty"
   ]
  },
  {
   "cell_type": "code",
   "execution_count": 57,
   "id": "bbc37e59-dc28-4431-8cb7-025334daf45b",
   "metadata": {},
   "outputs": [],
   "source": [
    "df['Количество'] = df['Количество'].fillna(mean_qty)"
   ]
  },
  {
   "cell_type": "code",
   "execution_count": 58,
   "id": "687a09ed-ecc0-4543-96f3-ddc9457fb202",
   "metadata": {},
   "outputs": [
    {
     "data": {
      "text/html": [
       "<div>\n",
       "<style scoped>\n",
       "    .dataframe tbody tr th:only-of-type {\n",
       "        vertical-align: middle;\n",
       "    }\n",
       "\n",
       "    .dataframe tbody tr th {\n",
       "        vertical-align: top;\n",
       "    }\n",
       "\n",
       "    .dataframe thead th {\n",
       "        text-align: right;\n",
       "    }\n",
       "</style>\n",
       "<table border=\"1\" class=\"dataframe\">\n",
       "  <thead>\n",
       "    <tr style=\"text-align: right;\">\n",
       "      <th></th>\n",
       "      <th>Продукт</th>\n",
       "      <th>Цена</th>\n",
       "      <th>Количество</th>\n",
       "    </tr>\n",
       "  </thead>\n",
       "  <tbody>\n",
       "    <tr>\n",
       "      <th>0</th>\n",
       "      <td>Яблоки</td>\n",
       "      <td>100.0</td>\n",
       "      <td>10.0</td>\n",
       "    </tr>\n",
       "    <tr>\n",
       "      <th>1</th>\n",
       "      <td>Груши</td>\n",
       "      <td>120.0</td>\n",
       "      <td>15.0</td>\n",
       "    </tr>\n",
       "    <tr>\n",
       "      <th>2</th>\n",
       "      <td>Бананы</td>\n",
       "      <td>90.0</td>\n",
       "      <td>20.0</td>\n",
       "    </tr>\n",
       "    <tr>\n",
       "      <th>3</th>\n",
       "      <td>Неизвестно</td>\n",
       "      <td>150.0</td>\n",
       "      <td>20.0</td>\n",
       "    </tr>\n",
       "    <tr>\n",
       "      <th>4</th>\n",
       "      <td>Апельсины</td>\n",
       "      <td>NaN</td>\n",
       "      <td>25.0</td>\n",
       "    </tr>\n",
       "    <tr>\n",
       "      <th>5</th>\n",
       "      <td>Неизвестно</td>\n",
       "      <td>200.0</td>\n",
       "      <td>30.0</td>\n",
       "    </tr>\n",
       "  </tbody>\n",
       "</table>\n",
       "</div>"
      ],
      "text/plain": [
       "      Продукт   Цена  Количество\n",
       "0      Яблоки  100.0        10.0\n",
       "1       Груши  120.0        15.0\n",
       "2      Бананы   90.0        20.0\n",
       "3  Неизвестно  150.0        20.0\n",
       "4   Апельсины    NaN        25.0\n",
       "5  Неизвестно  200.0        30.0"
      ]
     },
     "execution_count": 58,
     "metadata": {},
     "output_type": "execute_result"
    }
   ],
   "source": [
    "df"
   ]
  },
  {
   "cell_type": "markdown",
   "id": "8d83e11d-d6eb-4dfe-8a03-961dd991e3c4",
   "metadata": {},
   "source": [
    "## 2Д.        ✅`Удалите строки, где цена не указана (NaN)`"
   ]
  },
  {
   "cell_type": "code",
   "execution_count": 60,
   "id": "5328bea1-1341-446e-b47d-cb0d834d5dc3",
   "metadata": {},
   "outputs": [],
   "source": [
    "df = df.dropna(subset = 'Цена')"
   ]
  },
  {
   "cell_type": "code",
   "execution_count": 61,
   "id": "96c717de-faa2-4a4a-9002-89fdaf09f15c",
   "metadata": {},
   "outputs": [
    {
     "data": {
      "text/html": [
       "<div>\n",
       "<style scoped>\n",
       "    .dataframe tbody tr th:only-of-type {\n",
       "        vertical-align: middle;\n",
       "    }\n",
       "\n",
       "    .dataframe tbody tr th {\n",
       "        vertical-align: top;\n",
       "    }\n",
       "\n",
       "    .dataframe thead th {\n",
       "        text-align: right;\n",
       "    }\n",
       "</style>\n",
       "<table border=\"1\" class=\"dataframe\">\n",
       "  <thead>\n",
       "    <tr style=\"text-align: right;\">\n",
       "      <th></th>\n",
       "      <th>Продукт</th>\n",
       "      <th>Цена</th>\n",
       "      <th>Количество</th>\n",
       "    </tr>\n",
       "  </thead>\n",
       "  <tbody>\n",
       "    <tr>\n",
       "      <th>0</th>\n",
       "      <td>Яблоки</td>\n",
       "      <td>100.0</td>\n",
       "      <td>10.0</td>\n",
       "    </tr>\n",
       "    <tr>\n",
       "      <th>1</th>\n",
       "      <td>Груши</td>\n",
       "      <td>120.0</td>\n",
       "      <td>15.0</td>\n",
       "    </tr>\n",
       "    <tr>\n",
       "      <th>2</th>\n",
       "      <td>Бананы</td>\n",
       "      <td>90.0</td>\n",
       "      <td>20.0</td>\n",
       "    </tr>\n",
       "    <tr>\n",
       "      <th>3</th>\n",
       "      <td>Неизвестно</td>\n",
       "      <td>150.0</td>\n",
       "      <td>20.0</td>\n",
       "    </tr>\n",
       "    <tr>\n",
       "      <th>5</th>\n",
       "      <td>Неизвестно</td>\n",
       "      <td>200.0</td>\n",
       "      <td>30.0</td>\n",
       "    </tr>\n",
       "  </tbody>\n",
       "</table>\n",
       "</div>"
      ],
      "text/plain": [
       "      Продукт   Цена  Количество\n",
       "0      Яблоки  100.0        10.0\n",
       "1       Груши  120.0        15.0\n",
       "2      Бананы   90.0        20.0\n",
       "3  Неизвестно  150.0        20.0\n",
       "5  Неизвестно  200.0        30.0"
      ]
     },
     "execution_count": 61,
     "metadata": {},
     "output_type": "execute_result"
    }
   ],
   "source": [
    "df"
   ]
  },
  {
   "cell_type": "markdown",
   "id": "62da58bb-3ffc-48c3-89d7-08a1f24e4f1e",
   "metadata": {},
   "source": [
    "# 3.        ℹ `Проанализируйте простой набор данных о фруктах и их ценах.`"
   ]
  },
  {
   "cell_type": "code",
   "execution_count": 64,
   "id": "0d326b8e-bf34-40f4-8ad1-11d7e95eb0be",
   "metadata": {},
   "outputs": [],
   "source": [
    "data = {\n",
    "    'Фрукт': ['Яблоко', 'Банан', 'Апельсин', 'Груша', 'Киви'],\n",
    "    'Цена': [80, 60, 90, 70, 120],\n",
    "    'Наличие_кг': [15, 8, 12, 5, 3]\n",
    "}"
   ]
  },
  {
   "cell_type": "code",
   "execution_count": 66,
   "id": "4dde10c3-083f-46a7-939e-e9fd52c38d78",
   "metadata": {},
   "outputs": [],
   "source": [
    "df = pd.DataFrame(data)"
   ]
  },
  {
   "cell_type": "code",
   "execution_count": 68,
   "id": "ac10bc60-d596-4d4a-b728-62e6e50038d8",
   "metadata": {},
   "outputs": [
    {
     "data": {
      "text/html": [
       "<div>\n",
       "<style scoped>\n",
       "    .dataframe tbody tr th:only-of-type {\n",
       "        vertical-align: middle;\n",
       "    }\n",
       "\n",
       "    .dataframe tbody tr th {\n",
       "        vertical-align: top;\n",
       "    }\n",
       "\n",
       "    .dataframe thead th {\n",
       "        text-align: right;\n",
       "    }\n",
       "</style>\n",
       "<table border=\"1\" class=\"dataframe\">\n",
       "  <thead>\n",
       "    <tr style=\"text-align: right;\">\n",
       "      <th></th>\n",
       "      <th>Фрукт</th>\n",
       "      <th>Цена</th>\n",
       "      <th>Наличие_кг</th>\n",
       "    </tr>\n",
       "  </thead>\n",
       "  <tbody>\n",
       "    <tr>\n",
       "      <th>0</th>\n",
       "      <td>Яблоко</td>\n",
       "      <td>80</td>\n",
       "      <td>15</td>\n",
       "    </tr>\n",
       "    <tr>\n",
       "      <th>1</th>\n",
       "      <td>Банан</td>\n",
       "      <td>60</td>\n",
       "      <td>8</td>\n",
       "    </tr>\n",
       "    <tr>\n",
       "      <th>2</th>\n",
       "      <td>Апельсин</td>\n",
       "      <td>90</td>\n",
       "      <td>12</td>\n",
       "    </tr>\n",
       "    <tr>\n",
       "      <th>3</th>\n",
       "      <td>Груша</td>\n",
       "      <td>70</td>\n",
       "      <td>5</td>\n",
       "    </tr>\n",
       "    <tr>\n",
       "      <th>4</th>\n",
       "      <td>Киви</td>\n",
       "      <td>120</td>\n",
       "      <td>3</td>\n",
       "    </tr>\n",
       "  </tbody>\n",
       "</table>\n",
       "</div>"
      ],
      "text/plain": [
       "      Фрукт  Цена  Наличие_кг\n",
       "0    Яблоко    80          15\n",
       "1     Банан    60           8\n",
       "2  Апельсин    90          12\n",
       "3     Груша    70           5\n",
       "4      Киви   120           3"
      ]
     },
     "execution_count": 68,
     "metadata": {},
     "output_type": "execute_result"
    }
   ],
   "source": [
    "df # check"
   ]
  },
  {
   "cell_type": "markdown",
   "id": "0f351a45-4286-41c5-bea4-c2ad93f9165e",
   "metadata": {},
   "source": [
    "## 3А.        ✅`Выведите только фрукты дороже 75 рублей`"
   ]
  },
  {
   "cell_type": "code",
   "execution_count": 71,
   "id": "86d15ab3-f833-4f4c-b722-329b529305f8",
   "metadata": {},
   "outputs": [],
   "source": [
    "fruits = df[df['Цена'] > 75]"
   ]
  },
  {
   "cell_type": "code",
   "execution_count": 72,
   "id": "a7e385fb-592f-401a-bf90-1ce34a1192c8",
   "metadata": {},
   "outputs": [
    {
     "data": {
      "text/html": [
       "<div>\n",
       "<style scoped>\n",
       "    .dataframe tbody tr th:only-of-type {\n",
       "        vertical-align: middle;\n",
       "    }\n",
       "\n",
       "    .dataframe tbody tr th {\n",
       "        vertical-align: top;\n",
       "    }\n",
       "\n",
       "    .dataframe thead th {\n",
       "        text-align: right;\n",
       "    }\n",
       "</style>\n",
       "<table border=\"1\" class=\"dataframe\">\n",
       "  <thead>\n",
       "    <tr style=\"text-align: right;\">\n",
       "      <th></th>\n",
       "      <th>Фрукт</th>\n",
       "      <th>Цена</th>\n",
       "      <th>Наличие_кг</th>\n",
       "    </tr>\n",
       "  </thead>\n",
       "  <tbody>\n",
       "    <tr>\n",
       "      <th>0</th>\n",
       "      <td>Яблоко</td>\n",
       "      <td>80</td>\n",
       "      <td>15</td>\n",
       "    </tr>\n",
       "    <tr>\n",
       "      <th>2</th>\n",
       "      <td>Апельсин</td>\n",
       "      <td>90</td>\n",
       "      <td>12</td>\n",
       "    </tr>\n",
       "    <tr>\n",
       "      <th>4</th>\n",
       "      <td>Киви</td>\n",
       "      <td>120</td>\n",
       "      <td>3</td>\n",
       "    </tr>\n",
       "  </tbody>\n",
       "</table>\n",
       "</div>"
      ],
      "text/plain": [
       "      Фрукт  Цена  Наличие_кг\n",
       "0    Яблоко    80          15\n",
       "2  Апельсин    90          12\n",
       "4      Киви   120           3"
      ]
     },
     "execution_count": 72,
     "metadata": {},
     "output_type": "execute_result"
    }
   ],
   "source": [
    "fruits # check"
   ]
  },
  {
   "cell_type": "markdown",
   "id": "d2dacf43-bbfc-420b-a41b-d766f865ca3f",
   "metadata": {},
   "source": [
    "## 3Б.        ✅`Посчитайте общую стоимость всех имеющихся фруктов`"
   ]
  },
  {
   "cell_type": "code",
   "execution_count": 75,
   "id": "1749cc12-e1fb-4fa5-9907-3790a9ea7c28",
   "metadata": {},
   "outputs": [],
   "source": [
    "df['Стоимость'] = df['Цена'] = df['Наличие_кг']"
   ]
  },
  {
   "cell_type": "code",
   "execution_count": 78,
   "id": "2f8a1a69-6cdb-43c2-a51b-a7414da4c0d0",
   "metadata": {},
   "outputs": [
    {
     "data": {
      "text/html": [
       "<div>\n",
       "<style scoped>\n",
       "    .dataframe tbody tr th:only-of-type {\n",
       "        vertical-align: middle;\n",
       "    }\n",
       "\n",
       "    .dataframe tbody tr th {\n",
       "        vertical-align: top;\n",
       "    }\n",
       "\n",
       "    .dataframe thead th {\n",
       "        text-align: right;\n",
       "    }\n",
       "</style>\n",
       "<table border=\"1\" class=\"dataframe\">\n",
       "  <thead>\n",
       "    <tr style=\"text-align: right;\">\n",
       "      <th></th>\n",
       "      <th>Фрукт</th>\n",
       "      <th>Цена</th>\n",
       "      <th>Наличие_кг</th>\n",
       "      <th>Стоимость</th>\n",
       "    </tr>\n",
       "  </thead>\n",
       "  <tbody>\n",
       "    <tr>\n",
       "      <th>0</th>\n",
       "      <td>Яблоко</td>\n",
       "      <td>15</td>\n",
       "      <td>15</td>\n",
       "      <td>15</td>\n",
       "    </tr>\n",
       "    <tr>\n",
       "      <th>1</th>\n",
       "      <td>Банан</td>\n",
       "      <td>8</td>\n",
       "      <td>8</td>\n",
       "      <td>8</td>\n",
       "    </tr>\n",
       "    <tr>\n",
       "      <th>2</th>\n",
       "      <td>Апельсин</td>\n",
       "      <td>12</td>\n",
       "      <td>12</td>\n",
       "      <td>12</td>\n",
       "    </tr>\n",
       "    <tr>\n",
       "      <th>3</th>\n",
       "      <td>Груша</td>\n",
       "      <td>5</td>\n",
       "      <td>5</td>\n",
       "      <td>5</td>\n",
       "    </tr>\n",
       "    <tr>\n",
       "      <th>4</th>\n",
       "      <td>Киви</td>\n",
       "      <td>3</td>\n",
       "      <td>3</td>\n",
       "      <td>3</td>\n",
       "    </tr>\n",
       "  </tbody>\n",
       "</table>\n",
       "</div>"
      ],
      "text/plain": [
       "      Фрукт  Цена  Наличие_кг  Стоимость\n",
       "0    Яблоко    15          15         15\n",
       "1     Банан     8           8          8\n",
       "2  Апельсин    12          12         12\n",
       "3     Груша     5           5          5\n",
       "4      Киви     3           3          3"
      ]
     },
     "execution_count": 78,
     "metadata": {},
     "output_type": "execute_result"
    }
   ],
   "source": [
    "df #check"
   ]
  },
  {
   "cell_type": "code",
   "execution_count": 81,
   "id": "a9c5b4a4-78ea-4195-b67a-400a86fe500b",
   "metadata": {},
   "outputs": [],
   "source": [
    "total = df['Стоимость'].sum()"
   ]
  },
  {
   "cell_type": "code",
   "execution_count": 82,
   "id": "36953fe1-3a91-4153-8289-80cf7ab614cb",
   "metadata": {},
   "outputs": [
    {
     "data": {
      "text/plain": [
       "np.int64(43)"
      ]
     },
     "execution_count": 82,
     "metadata": {},
     "output_type": "execute_result"
    }
   ],
   "source": [
    "total"
   ]
  },
  {
   "cell_type": "markdown",
   "id": "424dd0c5-e14a-47cb-bca1-238c9fa64445",
   "metadata": {},
   "source": [
    "## 3В.        ✅`Добавьте новый фрукт (Манго за 100 руб., 7 кг)`"
   ]
  },
  {
   "cell_type": "code",
   "execution_count": 85,
   "id": "2709cf0a-17bf-4a0d-9d0d-03b7608b67b7",
   "metadata": {},
   "outputs": [],
   "source": [
    "New_fruits = pd.DataFrame({ \n",
    "    'Фрукт': ['Манго'],\n",
    "    'Цена': [100],\n",
    "    'Наличие_кг': [7],\n",
    "    'Стоимость': [700]\n",
    "})"
   ]
  },
  {
   "cell_type": "code",
   "execution_count": 87,
   "id": "9ebabd40-b437-490d-9de2-47fc12b83bda",
   "metadata": {},
   "outputs": [
    {
     "data": {
      "text/html": [
       "<div>\n",
       "<style scoped>\n",
       "    .dataframe tbody tr th:only-of-type {\n",
       "        vertical-align: middle;\n",
       "    }\n",
       "\n",
       "    .dataframe tbody tr th {\n",
       "        vertical-align: top;\n",
       "    }\n",
       "\n",
       "    .dataframe thead th {\n",
       "        text-align: right;\n",
       "    }\n",
       "</style>\n",
       "<table border=\"1\" class=\"dataframe\">\n",
       "  <thead>\n",
       "    <tr style=\"text-align: right;\">\n",
       "      <th></th>\n",
       "      <th>Фрукт</th>\n",
       "      <th>Цена</th>\n",
       "      <th>Наличие_кг</th>\n",
       "      <th>Стоимость</th>\n",
       "    </tr>\n",
       "  </thead>\n",
       "  <tbody>\n",
       "    <tr>\n",
       "      <th>0</th>\n",
       "      <td>Яблоко</td>\n",
       "      <td>15</td>\n",
       "      <td>15</td>\n",
       "      <td>15</td>\n",
       "    </tr>\n",
       "    <tr>\n",
       "      <th>1</th>\n",
       "      <td>Банан</td>\n",
       "      <td>8</td>\n",
       "      <td>8</td>\n",
       "      <td>8</td>\n",
       "    </tr>\n",
       "    <tr>\n",
       "      <th>2</th>\n",
       "      <td>Апельсин</td>\n",
       "      <td>12</td>\n",
       "      <td>12</td>\n",
       "      <td>12</td>\n",
       "    </tr>\n",
       "    <tr>\n",
       "      <th>3</th>\n",
       "      <td>Груша</td>\n",
       "      <td>5</td>\n",
       "      <td>5</td>\n",
       "      <td>5</td>\n",
       "    </tr>\n",
       "    <tr>\n",
       "      <th>4</th>\n",
       "      <td>Киви</td>\n",
       "      <td>3</td>\n",
       "      <td>3</td>\n",
       "      <td>3</td>\n",
       "    </tr>\n",
       "  </tbody>\n",
       "</table>\n",
       "</div>"
      ],
      "text/plain": [
       "      Фрукт  Цена  Наличие_кг  Стоимость\n",
       "0    Яблоко    15          15         15\n",
       "1     Банан     8           8          8\n",
       "2  Апельсин    12          12         12\n",
       "3     Груша     5           5          5\n",
       "4      Киви     3           3          3"
      ]
     },
     "execution_count": 87,
     "metadata": {},
     "output_type": "execute_result"
    }
   ],
   "source": [
    "df #check"
   ]
  },
  {
   "cell_type": "code",
   "execution_count": 92,
   "id": "c42c6880-cc31-4dcb-9440-b674bd0d4f89",
   "metadata": {},
   "outputs": [],
   "source": [
    "df = pd.concat([df, New_fruits], ignore_index = True) # Объединение двух df"
   ]
  },
  {
   "cell_type": "code",
   "execution_count": 93,
   "id": "356da7fa-ef18-4bfc-8316-37e9ff9597d8",
   "metadata": {},
   "outputs": [
    {
     "data": {
      "text/html": [
       "<div>\n",
       "<style scoped>\n",
       "    .dataframe tbody tr th:only-of-type {\n",
       "        vertical-align: middle;\n",
       "    }\n",
       "\n",
       "    .dataframe tbody tr th {\n",
       "        vertical-align: top;\n",
       "    }\n",
       "\n",
       "    .dataframe thead th {\n",
       "        text-align: right;\n",
       "    }\n",
       "</style>\n",
       "<table border=\"1\" class=\"dataframe\">\n",
       "  <thead>\n",
       "    <tr style=\"text-align: right;\">\n",
       "      <th></th>\n",
       "      <th>Фрукт</th>\n",
       "      <th>Цена</th>\n",
       "      <th>Наличие_кг</th>\n",
       "      <th>Стоимость</th>\n",
       "    </tr>\n",
       "  </thead>\n",
       "  <tbody>\n",
       "    <tr>\n",
       "      <th>0</th>\n",
       "      <td>Яблоко</td>\n",
       "      <td>15</td>\n",
       "      <td>15</td>\n",
       "      <td>15</td>\n",
       "    </tr>\n",
       "    <tr>\n",
       "      <th>1</th>\n",
       "      <td>Банан</td>\n",
       "      <td>8</td>\n",
       "      <td>8</td>\n",
       "      <td>8</td>\n",
       "    </tr>\n",
       "    <tr>\n",
       "      <th>2</th>\n",
       "      <td>Апельсин</td>\n",
       "      <td>12</td>\n",
       "      <td>12</td>\n",
       "      <td>12</td>\n",
       "    </tr>\n",
       "    <tr>\n",
       "      <th>3</th>\n",
       "      <td>Груша</td>\n",
       "      <td>5</td>\n",
       "      <td>5</td>\n",
       "      <td>5</td>\n",
       "    </tr>\n",
       "    <tr>\n",
       "      <th>4</th>\n",
       "      <td>Киви</td>\n",
       "      <td>3</td>\n",
       "      <td>3</td>\n",
       "      <td>3</td>\n",
       "    </tr>\n",
       "    <tr>\n",
       "      <th>5</th>\n",
       "      <td>Манго</td>\n",
       "      <td>100</td>\n",
       "      <td>7</td>\n",
       "      <td>700</td>\n",
       "    </tr>\n",
       "    <tr>\n",
       "      <th>6</th>\n",
       "      <td>Манго</td>\n",
       "      <td>100</td>\n",
       "      <td>7</td>\n",
       "      <td>700</td>\n",
       "    </tr>\n",
       "  </tbody>\n",
       "</table>\n",
       "</div>"
      ],
      "text/plain": [
       "      Фрукт  Цена  Наличие_кг  Стоимость\n",
       "0    Яблоко    15          15         15\n",
       "1     Банан     8           8          8\n",
       "2  Апельсин    12          12         12\n",
       "3     Груша     5           5          5\n",
       "4      Киви     3           3          3\n",
       "5     Манго   100           7        700\n",
       "6     Манго   100           7        700"
      ]
     },
     "execution_count": 93,
     "metadata": {},
     "output_type": "execute_result"
    }
   ],
   "source": [
    "df"
   ]
  },
  {
   "cell_type": "markdown",
   "id": "834579aa-96a8-4d91-b126-74beb28cb1c7",
   "metadata": {},
   "source": [
    "## 3Г.        ✅`Отсортируйте фрукты по цене (от дешевых к дорогим)`"
   ]
  },
  {
   "cell_type": "code",
   "execution_count": 94,
   "id": "369b4d78-ddf5-460a-921f-616f1a7ad12b",
   "metadata": {},
   "outputs": [
    {
     "data": {
      "text/html": [
       "<div>\n",
       "<style scoped>\n",
       "    .dataframe tbody tr th:only-of-type {\n",
       "        vertical-align: middle;\n",
       "    }\n",
       "\n",
       "    .dataframe tbody tr th {\n",
       "        vertical-align: top;\n",
       "    }\n",
       "\n",
       "    .dataframe thead th {\n",
       "        text-align: right;\n",
       "    }\n",
       "</style>\n",
       "<table border=\"1\" class=\"dataframe\">\n",
       "  <thead>\n",
       "    <tr style=\"text-align: right;\">\n",
       "      <th></th>\n",
       "      <th>Фрукт</th>\n",
       "      <th>Цена</th>\n",
       "      <th>Наличие_кг</th>\n",
       "      <th>Стоимость</th>\n",
       "    </tr>\n",
       "  </thead>\n",
       "  <tbody>\n",
       "    <tr>\n",
       "      <th>4</th>\n",
       "      <td>Киви</td>\n",
       "      <td>3</td>\n",
       "      <td>3</td>\n",
       "      <td>3</td>\n",
       "    </tr>\n",
       "    <tr>\n",
       "      <th>3</th>\n",
       "      <td>Груша</td>\n",
       "      <td>5</td>\n",
       "      <td>5</td>\n",
       "      <td>5</td>\n",
       "    </tr>\n",
       "    <tr>\n",
       "      <th>1</th>\n",
       "      <td>Банан</td>\n",
       "      <td>8</td>\n",
       "      <td>8</td>\n",
       "      <td>8</td>\n",
       "    </tr>\n",
       "    <tr>\n",
       "      <th>2</th>\n",
       "      <td>Апельсин</td>\n",
       "      <td>12</td>\n",
       "      <td>12</td>\n",
       "      <td>12</td>\n",
       "    </tr>\n",
       "    <tr>\n",
       "      <th>0</th>\n",
       "      <td>Яблоко</td>\n",
       "      <td>15</td>\n",
       "      <td>15</td>\n",
       "      <td>15</td>\n",
       "    </tr>\n",
       "    <tr>\n",
       "      <th>5</th>\n",
       "      <td>Манго</td>\n",
       "      <td>100</td>\n",
       "      <td>7</td>\n",
       "      <td>700</td>\n",
       "    </tr>\n",
       "    <tr>\n",
       "      <th>6</th>\n",
       "      <td>Манго</td>\n",
       "      <td>100</td>\n",
       "      <td>7</td>\n",
       "      <td>700</td>\n",
       "    </tr>\n",
       "  </tbody>\n",
       "</table>\n",
       "</div>"
      ],
      "text/plain": [
       "      Фрукт  Цена  Наличие_кг  Стоимость\n",
       "4      Киви     3           3          3\n",
       "3     Груша     5           5          5\n",
       "1     Банан     8           8          8\n",
       "2  Апельсин    12          12         12\n",
       "0    Яблоко    15          15         15\n",
       "5     Манго   100           7        700\n",
       "6     Манго   100           7        700"
      ]
     },
     "execution_count": 94,
     "metadata": {},
     "output_type": "execute_result"
    }
   ],
   "source": [
    "df.sort_values('Цена')"
   ]
  },
  {
   "cell_type": "markdown",
   "id": "eba5e651-a756-4aa6-8b63-5023b299f8c2",
   "metadata": {},
   "source": [
    "# 4.        ℹ `Исследование заёмщиков`"
   ]
  },
  {
   "cell_type": "markdown",
   "id": "8f17e34c-eabc-408f-ade7-1999943a7d44",
   "metadata": {},
   "source": [
    "**Заказчик** - Кредитный отдел банка."
   ]
  },
  {
   "cell_type": "markdown",
   "id": "d9dbccbb-e7d9-43da-bc94-cd94b8e6ff71",
   "metadata": {},
   "source": [
    "Согласно документации к данным:\n",
    "* `children` — количество детей в семье;\n",
    "* `days_employed` — общий трудовой стаж в днях;\n",
    "* `dob_years` — возраст клиента в годах;\n",
    "* `education` — уровень образования клиента;\n",
    "* `education_id` — идентификатор уровня образования;\n",
    "* `family_status` — семейное положение;\n",
    "* `family_status_id` — идентификатор семейного положения;\n",
    "* `gender` — пол клиента;\n",
    "* `income_type` — тип занятости;\n",
    "* `debt` — имел ли задолженность по возврату кредитов;\n",
    "* `total_income` — ежемесячный доход;\n",
    "* `purpose` — цель получения кредита."
   ]
  },
  {
   "cell_type": "markdown",
   "id": "e8060962-87eb-4741-8c09-4b55abccf355",
   "metadata": {},
   "source": [
    "ℹ **Дать ответы на вопросы:**"
   ]
  },
  {
   "cell_type": "markdown",
   "id": "f0253a2e-63d4-4efe-b208-f3a7495d0d9c",
   "metadata": {},
   "source": [
    "* 4А.   ❓`Средняя зарплата по типу занятости`;\n",
    " \n",
    "* 4Б.   ❓`Процент заемщиков с высшим образованием`;\n",
    "  \n",
    "* 4В.   ❓`Частота кредитов на покупку жилья`;\n",
    "  \n",
    "* 4Г.   ❓`Зависимость между семейным положением и задолженностью`;\n",
    "  \n",
    "* 4Д.   ❓`Есть ли зависимость между количеством детей и возвратом кредита в срок?`;\n",
    "  \n",
    "* 4Е.   ❓`Есть ли зависимость между уровнем дохода и возвратом кредита в срок?`."
   ]
  },
  {
   "cell_type": "markdown",
   "id": "65d1333e-189b-498d-84cd-92781ce4d3e1",
   "metadata": {},
   "source": [
    "## ✅ Обзор данных"
   ]
  },
  {
   "cell_type": "code",
   "execution_count": 153,
   "id": "ffa3d9f0-584d-4457-9b52-55b2f1b443f9",
   "metadata": {},
   "outputs": [],
   "source": [
    "df = pd.read_csv(\"data.csv\")"
   ]
  },
  {
   "cell_type": "code",
   "execution_count": 154,
   "id": "7103d5f0-5757-41e1-a5b9-ea9394291f7e",
   "metadata": {},
   "outputs": [
    {
     "data": {
      "text/html": [
       "<div>\n",
       "<style scoped>\n",
       "    .dataframe tbody tr th:only-of-type {\n",
       "        vertical-align: middle;\n",
       "    }\n",
       "\n",
       "    .dataframe tbody tr th {\n",
       "        vertical-align: top;\n",
       "    }\n",
       "\n",
       "    .dataframe thead th {\n",
       "        text-align: right;\n",
       "    }\n",
       "</style>\n",
       "<table border=\"1\" class=\"dataframe\">\n",
       "  <thead>\n",
       "    <tr style=\"text-align: right;\">\n",
       "      <th></th>\n",
       "      <th>Unnamed: 0</th>\n",
       "      <th>children</th>\n",
       "      <th>days_employed</th>\n",
       "      <th>dob_years</th>\n",
       "      <th>education</th>\n",
       "      <th>education_id</th>\n",
       "      <th>family_status</th>\n",
       "      <th>family_status_id</th>\n",
       "      <th>gender</th>\n",
       "      <th>income_type</th>\n",
       "      <th>debt</th>\n",
       "      <th>total_income</th>\n",
       "      <th>purpose</th>\n",
       "    </tr>\n",
       "  </thead>\n",
       "  <tbody>\n",
       "    <tr>\n",
       "      <th>0</th>\n",
       "      <td>0</td>\n",
       "      <td>1</td>\n",
       "      <td>8437.673028</td>\n",
       "      <td>42</td>\n",
       "      <td>высшее</td>\n",
       "      <td>0</td>\n",
       "      <td>женат / замужем</td>\n",
       "      <td>0</td>\n",
       "      <td>F</td>\n",
       "      <td>сотрудник</td>\n",
       "      <td>0</td>\n",
       "      <td>253875.639453</td>\n",
       "      <td>покупка жилья</td>\n",
       "    </tr>\n",
       "    <tr>\n",
       "      <th>1</th>\n",
       "      <td>1</td>\n",
       "      <td>1</td>\n",
       "      <td>4024.803754</td>\n",
       "      <td>36</td>\n",
       "      <td>среднее</td>\n",
       "      <td>1</td>\n",
       "      <td>женат / замужем</td>\n",
       "      <td>0</td>\n",
       "      <td>F</td>\n",
       "      <td>сотрудник</td>\n",
       "      <td>0</td>\n",
       "      <td>112080.014102</td>\n",
       "      <td>приобретение автомобиля</td>\n",
       "    </tr>\n",
       "    <tr>\n",
       "      <th>2</th>\n",
       "      <td>2</td>\n",
       "      <td>0</td>\n",
       "      <td>5623.422610</td>\n",
       "      <td>33</td>\n",
       "      <td>Среднее</td>\n",
       "      <td>1</td>\n",
       "      <td>женат / замужем</td>\n",
       "      <td>0</td>\n",
       "      <td>M</td>\n",
       "      <td>сотрудник</td>\n",
       "      <td>0</td>\n",
       "      <td>145885.952297</td>\n",
       "      <td>покупка жилья</td>\n",
       "    </tr>\n",
       "    <tr>\n",
       "      <th>3</th>\n",
       "      <td>3</td>\n",
       "      <td>3</td>\n",
       "      <td>4124.747207</td>\n",
       "      <td>32</td>\n",
       "      <td>среднее</td>\n",
       "      <td>1</td>\n",
       "      <td>женат / замужем</td>\n",
       "      <td>0</td>\n",
       "      <td>M</td>\n",
       "      <td>сотрудник</td>\n",
       "      <td>0</td>\n",
       "      <td>267628.550329</td>\n",
       "      <td>дополнительное образование</td>\n",
       "    </tr>\n",
       "    <tr>\n",
       "      <th>4</th>\n",
       "      <td>4</td>\n",
       "      <td>0</td>\n",
       "      <td>1630.019381</td>\n",
       "      <td>53</td>\n",
       "      <td>среднее</td>\n",
       "      <td>1</td>\n",
       "      <td>гражданский брак</td>\n",
       "      <td>1</td>\n",
       "      <td>F</td>\n",
       "      <td>пенсионер</td>\n",
       "      <td>0</td>\n",
       "      <td>158616.077870</td>\n",
       "      <td>сыграть свадьбу</td>\n",
       "    </tr>\n",
       "    <tr>\n",
       "      <th>...</th>\n",
       "      <td>...</td>\n",
       "      <td>...</td>\n",
       "      <td>...</td>\n",
       "      <td>...</td>\n",
       "      <td>...</td>\n",
       "      <td>...</td>\n",
       "      <td>...</td>\n",
       "      <td>...</td>\n",
       "      <td>...</td>\n",
       "      <td>...</td>\n",
       "      <td>...</td>\n",
       "      <td>...</td>\n",
       "      <td>...</td>\n",
       "    </tr>\n",
       "    <tr>\n",
       "      <th>21390</th>\n",
       "      <td>21390</td>\n",
       "      <td>1</td>\n",
       "      <td>4529.316663</td>\n",
       "      <td>43</td>\n",
       "      <td>среднее</td>\n",
       "      <td>1</td>\n",
       "      <td>гражданский брак</td>\n",
       "      <td>1</td>\n",
       "      <td>F</td>\n",
       "      <td>компаньон</td>\n",
       "      <td>0</td>\n",
       "      <td>224791.862382</td>\n",
       "      <td>операции с жильем</td>\n",
       "    </tr>\n",
       "    <tr>\n",
       "      <th>21391</th>\n",
       "      <td>21391</td>\n",
       "      <td>0</td>\n",
       "      <td>1630.019381</td>\n",
       "      <td>67</td>\n",
       "      <td>среднее</td>\n",
       "      <td>1</td>\n",
       "      <td>женат / замужем</td>\n",
       "      <td>0</td>\n",
       "      <td>F</td>\n",
       "      <td>пенсионер</td>\n",
       "      <td>0</td>\n",
       "      <td>155999.806512</td>\n",
       "      <td>сделка с автомобилем</td>\n",
       "    </tr>\n",
       "    <tr>\n",
       "      <th>21392</th>\n",
       "      <td>21392</td>\n",
       "      <td>1</td>\n",
       "      <td>2113.346888</td>\n",
       "      <td>38</td>\n",
       "      <td>среднее</td>\n",
       "      <td>1</td>\n",
       "      <td>гражданский брак</td>\n",
       "      <td>1</td>\n",
       "      <td>M</td>\n",
       "      <td>сотрудник</td>\n",
       "      <td>1</td>\n",
       "      <td>89672.561153</td>\n",
       "      <td>недвижимость</td>\n",
       "    </tr>\n",
       "    <tr>\n",
       "      <th>21393</th>\n",
       "      <td>21393</td>\n",
       "      <td>3</td>\n",
       "      <td>3112.481705</td>\n",
       "      <td>38</td>\n",
       "      <td>среднее</td>\n",
       "      <td>1</td>\n",
       "      <td>женат / замужем</td>\n",
       "      <td>0</td>\n",
       "      <td>M</td>\n",
       "      <td>сотрудник</td>\n",
       "      <td>1</td>\n",
       "      <td>244093.050500</td>\n",
       "      <td>на покупку своего автомобиля</td>\n",
       "    </tr>\n",
       "    <tr>\n",
       "      <th>21394</th>\n",
       "      <td>21394</td>\n",
       "      <td>2</td>\n",
       "      <td>1984.507589</td>\n",
       "      <td>40</td>\n",
       "      <td>среднее</td>\n",
       "      <td>1</td>\n",
       "      <td>женат / замужем</td>\n",
       "      <td>0</td>\n",
       "      <td>F</td>\n",
       "      <td>сотрудник</td>\n",
       "      <td>0</td>\n",
       "      <td>82047.418899</td>\n",
       "      <td>на покупку автомобиля</td>\n",
       "    </tr>\n",
       "  </tbody>\n",
       "</table>\n",
       "<p>21395 rows × 13 columns</p>\n",
       "</div>"
      ],
      "text/plain": [
       "       Unnamed: 0  children  days_employed  dob_years education  education_id  \\\n",
       "0               0         1    8437.673028         42    высшее             0   \n",
       "1               1         1    4024.803754         36   среднее             1   \n",
       "2               2         0    5623.422610         33   Среднее             1   \n",
       "3               3         3    4124.747207         32   среднее             1   \n",
       "4               4         0    1630.019381         53   среднее             1   \n",
       "...           ...       ...            ...        ...       ...           ...   \n",
       "21390       21390         1    4529.316663         43   среднее             1   \n",
       "21391       21391         0    1630.019381         67   среднее             1   \n",
       "21392       21392         1    2113.346888         38   среднее             1   \n",
       "21393       21393         3    3112.481705         38   среднее             1   \n",
       "21394       21394         2    1984.507589         40   среднее             1   \n",
       "\n",
       "          family_status  family_status_id gender income_type  debt  \\\n",
       "0       женат / замужем                 0      F   сотрудник     0   \n",
       "1       женат / замужем                 0      F   сотрудник     0   \n",
       "2       женат / замужем                 0      M   сотрудник     0   \n",
       "3       женат / замужем                 0      M   сотрудник     0   \n",
       "4      гражданский брак                 1      F   пенсионер     0   \n",
       "...                 ...               ...    ...         ...   ...   \n",
       "21390  гражданский брак                 1      F   компаньон     0   \n",
       "21391   женат / замужем                 0      F   пенсионер     0   \n",
       "21392  гражданский брак                 1      M   сотрудник     1   \n",
       "21393   женат / замужем                 0      M   сотрудник     1   \n",
       "21394   женат / замужем                 0      F   сотрудник     0   \n",
       "\n",
       "        total_income                       purpose  \n",
       "0      253875.639453                 покупка жилья  \n",
       "1      112080.014102       приобретение автомобиля  \n",
       "2      145885.952297                 покупка жилья  \n",
       "3      267628.550329    дополнительное образование  \n",
       "4      158616.077870               сыграть свадьбу  \n",
       "...              ...                           ...  \n",
       "21390  224791.862382             операции с жильем  \n",
       "21391  155999.806512          сделка с автомобилем  \n",
       "21392   89672.561153                  недвижимость  \n",
       "21393  244093.050500  на покупку своего автомобиля  \n",
       "21394   82047.418899         на покупку автомобиля  \n",
       "\n",
       "[21395 rows x 13 columns]"
      ]
     },
     "execution_count": 154,
     "metadata": {},
     "output_type": "execute_result"
    }
   ],
   "source": [
    "df"
   ]
  },
  {
   "cell_type": "code",
   "execution_count": 155,
   "id": "d26fb47e-9ca7-45f8-bd69-6ca82ed030db",
   "metadata": {
    "scrolled": true
   },
   "outputs": [
    {
     "data": {
      "text/html": [
       "<div>\n",
       "<style scoped>\n",
       "    .dataframe tbody tr th:only-of-type {\n",
       "        vertical-align: middle;\n",
       "    }\n",
       "\n",
       "    .dataframe tbody tr th {\n",
       "        vertical-align: top;\n",
       "    }\n",
       "\n",
       "    .dataframe thead th {\n",
       "        text-align: right;\n",
       "    }\n",
       "</style>\n",
       "<table border=\"1\" class=\"dataframe\">\n",
       "  <thead>\n",
       "    <tr style=\"text-align: right;\">\n",
       "      <th></th>\n",
       "      <th>Unnamed: 0</th>\n",
       "      <th>children</th>\n",
       "      <th>days_employed</th>\n",
       "      <th>dob_years</th>\n",
       "      <th>education</th>\n",
       "      <th>education_id</th>\n",
       "      <th>family_status</th>\n",
       "      <th>family_status_id</th>\n",
       "      <th>gender</th>\n",
       "      <th>income_type</th>\n",
       "      <th>debt</th>\n",
       "      <th>total_income</th>\n",
       "      <th>purpose</th>\n",
       "    </tr>\n",
       "  </thead>\n",
       "  <tbody>\n",
       "    <tr>\n",
       "      <th>0</th>\n",
       "      <td>0</td>\n",
       "      <td>1</td>\n",
       "      <td>8437.673028</td>\n",
       "      <td>42</td>\n",
       "      <td>высшее</td>\n",
       "      <td>0</td>\n",
       "      <td>женат / замужем</td>\n",
       "      <td>0</td>\n",
       "      <td>F</td>\n",
       "      <td>сотрудник</td>\n",
       "      <td>0</td>\n",
       "      <td>253875.639453</td>\n",
       "      <td>покупка жилья</td>\n",
       "    </tr>\n",
       "    <tr>\n",
       "      <th>1</th>\n",
       "      <td>1</td>\n",
       "      <td>1</td>\n",
       "      <td>4024.803754</td>\n",
       "      <td>36</td>\n",
       "      <td>среднее</td>\n",
       "      <td>1</td>\n",
       "      <td>женат / замужем</td>\n",
       "      <td>0</td>\n",
       "      <td>F</td>\n",
       "      <td>сотрудник</td>\n",
       "      <td>0</td>\n",
       "      <td>112080.014102</td>\n",
       "      <td>приобретение автомобиля</td>\n",
       "    </tr>\n",
       "  </tbody>\n",
       "</table>\n",
       "</div>"
      ],
      "text/plain": [
       "   Unnamed: 0  children  days_employed  dob_years education  education_id  \\\n",
       "0           0         1    8437.673028         42    высшее             0   \n",
       "1           1         1    4024.803754         36   среднее             1   \n",
       "\n",
       "     family_status  family_status_id gender income_type  debt   total_income  \\\n",
       "0  женат / замужем                 0      F   сотрудник     0  253875.639453   \n",
       "1  женат / замужем                 0      F   сотрудник     0  112080.014102   \n",
       "\n",
       "                   purpose  \n",
       "0            покупка жилья  \n",
       "1  приобретение автомобиля  "
      ]
     },
     "execution_count": 155,
     "metadata": {},
     "output_type": "execute_result"
    }
   ],
   "source": [
    "df.head(2) # output 2 lines"
   ]
  },
  {
   "cell_type": "code",
   "execution_count": 156,
   "id": "11d5c508-bced-4e3a-b8e5-0a87af3ff852",
   "metadata": {},
   "outputs": [
    {
     "data": {
      "text/plain": [
       "<bound method DataFrame.info of        Unnamed: 0  children  days_employed  dob_years education  education_id  \\\n",
       "0               0         1    8437.673028         42    высшее             0   \n",
       "1               1         1    4024.803754         36   среднее             1   \n",
       "2               2         0    5623.422610         33   Среднее             1   \n",
       "3               3         3    4124.747207         32   среднее             1   \n",
       "4               4         0    1630.019381         53   среднее             1   \n",
       "...           ...       ...            ...        ...       ...           ...   \n",
       "21390       21390         1    4529.316663         43   среднее             1   \n",
       "21391       21391         0    1630.019381         67   среднее             1   \n",
       "21392       21392         1    2113.346888         38   среднее             1   \n",
       "21393       21393         3    3112.481705         38   среднее             1   \n",
       "21394       21394         2    1984.507589         40   среднее             1   \n",
       "\n",
       "          family_status  family_status_id gender income_type  debt  \\\n",
       "0       женат / замужем                 0      F   сотрудник     0   \n",
       "1       женат / замужем                 0      F   сотрудник     0   \n",
       "2       женат / замужем                 0      M   сотрудник     0   \n",
       "3       женат / замужем                 0      M   сотрудник     0   \n",
       "4      гражданский брак                 1      F   пенсионер     0   \n",
       "...                 ...               ...    ...         ...   ...   \n",
       "21390  гражданский брак                 1      F   компаньон     0   \n",
       "21391   женат / замужем                 0      F   пенсионер     0   \n",
       "21392  гражданский брак                 1      M   сотрудник     1   \n",
       "21393   женат / замужем                 0      M   сотрудник     1   \n",
       "21394   женат / замужем                 0      F   сотрудник     0   \n",
       "\n",
       "        total_income                       purpose  \n",
       "0      253875.639453                 покупка жилья  \n",
       "1      112080.014102       приобретение автомобиля  \n",
       "2      145885.952297                 покупка жилья  \n",
       "3      267628.550329    дополнительное образование  \n",
       "4      158616.077870               сыграть свадьбу  \n",
       "...              ...                           ...  \n",
       "21390  224791.862382             операции с жильем  \n",
       "21391  155999.806512          сделка с автомобилем  \n",
       "21392   89672.561153                  недвижимость  \n",
       "21393  244093.050500  на покупку своего автомобиля  \n",
       "21394   82047.418899         на покупку автомобиля  \n",
       "\n",
       "[21395 rows x 13 columns]>"
      ]
     },
     "execution_count": 156,
     "metadata": {},
     "output_type": "execute_result"
    }
   ],
   "source": [
    "df.info #check general info"
   ]
  },
  {
   "cell_type": "code",
   "execution_count": 157,
   "id": "b2e09336-8cea-43c9-99ab-57e9dffcf46e",
   "metadata": {},
   "outputs": [
    {
     "data": {
      "text/html": [
       "<div>\n",
       "<style scoped>\n",
       "    .dataframe tbody tr th:only-of-type {\n",
       "        vertical-align: middle;\n",
       "    }\n",
       "\n",
       "    .dataframe tbody tr th {\n",
       "        vertical-align: top;\n",
       "    }\n",
       "\n",
       "    .dataframe thead th {\n",
       "        text-align: right;\n",
       "    }\n",
       "</style>\n",
       "<table border=\"1\" class=\"dataframe\">\n",
       "  <thead>\n",
       "    <tr style=\"text-align: right;\">\n",
       "      <th></th>\n",
       "      <th>Unnamed: 0</th>\n",
       "      <th>children</th>\n",
       "      <th>days_employed</th>\n",
       "      <th>dob_years</th>\n",
       "      <th>education_id</th>\n",
       "      <th>family_status_id</th>\n",
       "      <th>debt</th>\n",
       "      <th>total_income</th>\n",
       "    </tr>\n",
       "  </thead>\n",
       "  <tbody>\n",
       "    <tr>\n",
       "      <th>count</th>\n",
       "      <td>21395.000000</td>\n",
       "      <td>21395.000000</td>\n",
       "      <td>19284.000000</td>\n",
       "      <td>21395.000000</td>\n",
       "      <td>21395.000000</td>\n",
       "      <td>21395.000000</td>\n",
       "      <td>21395.000000</td>\n",
       "      <td>1.928400e+04</td>\n",
       "    </tr>\n",
       "    <tr>\n",
       "      <th>mean</th>\n",
       "      <td>10697.000000</td>\n",
       "      <td>0.470437</td>\n",
       "      <td>2224.761599</td>\n",
       "      <td>43.284272</td>\n",
       "      <td>0.817107</td>\n",
       "      <td>0.974246</td>\n",
       "      <td>0.081000</td>\n",
       "      <td>1.674178e+05</td>\n",
       "    </tr>\n",
       "    <tr>\n",
       "      <th>std</th>\n",
       "      <td>6176.348841</td>\n",
       "      <td>0.754534</td>\n",
       "      <td>2106.974155</td>\n",
       "      <td>12.576030</td>\n",
       "      <td>0.548879</td>\n",
       "      <td>1.421282</td>\n",
       "      <td>0.272842</td>\n",
       "      <td>1.030418e+05</td>\n",
       "    </tr>\n",
       "    <tr>\n",
       "      <th>min</th>\n",
       "      <td>0.000000</td>\n",
       "      <td>-1.000000</td>\n",
       "      <td>24.141633</td>\n",
       "      <td>0.000000</td>\n",
       "      <td>0.000000</td>\n",
       "      <td>0.000000</td>\n",
       "      <td>0.000000</td>\n",
       "      <td>2.066726e+04</td>\n",
       "    </tr>\n",
       "    <tr>\n",
       "      <th>25%</th>\n",
       "      <td>5348.500000</td>\n",
       "      <td>0.000000</td>\n",
       "      <td>927.984311</td>\n",
       "      <td>33.000000</td>\n",
       "      <td>1.000000</td>\n",
       "      <td>0.000000</td>\n",
       "      <td>0.000000</td>\n",
       "      <td>1.030161e+05</td>\n",
       "    </tr>\n",
       "    <tr>\n",
       "      <th>50%</th>\n",
       "      <td>10697.000000</td>\n",
       "      <td>0.000000</td>\n",
       "      <td>1630.019381</td>\n",
       "      <td>42.000000</td>\n",
       "      <td>1.000000</td>\n",
       "      <td>0.000000</td>\n",
       "      <td>0.000000</td>\n",
       "      <td>1.450208e+05</td>\n",
       "    </tr>\n",
       "    <tr>\n",
       "      <th>75%</th>\n",
       "      <td>16045.500000</td>\n",
       "      <td>1.000000</td>\n",
       "      <td>2747.876441</td>\n",
       "      <td>53.000000</td>\n",
       "      <td>1.000000</td>\n",
       "      <td>1.000000</td>\n",
       "      <td>0.000000</td>\n",
       "      <td>2.033700e+05</td>\n",
       "    </tr>\n",
       "    <tr>\n",
       "      <th>max</th>\n",
       "      <td>21394.000000</td>\n",
       "      <td>5.000000</td>\n",
       "      <td>18388.949901</td>\n",
       "      <td>75.000000</td>\n",
       "      <td>4.000000</td>\n",
       "      <td>4.000000</td>\n",
       "      <td>1.000000</td>\n",
       "      <td>2.265604e+06</td>\n",
       "    </tr>\n",
       "  </tbody>\n",
       "</table>\n",
       "</div>"
      ],
      "text/plain": [
       "         Unnamed: 0      children  days_employed     dob_years  education_id  \\\n",
       "count  21395.000000  21395.000000   19284.000000  21395.000000  21395.000000   \n",
       "mean   10697.000000      0.470437    2224.761599     43.284272      0.817107   \n",
       "std     6176.348841      0.754534    2106.974155     12.576030      0.548879   \n",
       "min        0.000000     -1.000000      24.141633      0.000000      0.000000   \n",
       "25%     5348.500000      0.000000     927.984311     33.000000      1.000000   \n",
       "50%    10697.000000      0.000000    1630.019381     42.000000      1.000000   \n",
       "75%    16045.500000      1.000000    2747.876441     53.000000      1.000000   \n",
       "max    21394.000000      5.000000   18388.949901     75.000000      4.000000   \n",
       "\n",
       "       family_status_id          debt  total_income  \n",
       "count      21395.000000  21395.000000  1.928400e+04  \n",
       "mean           0.974246      0.081000  1.674178e+05  \n",
       "std            1.421282      0.272842  1.030418e+05  \n",
       "min            0.000000      0.000000  2.066726e+04  \n",
       "25%            0.000000      0.000000  1.030161e+05  \n",
       "50%            0.000000      0.000000  1.450208e+05  \n",
       "75%            1.000000      0.000000  2.033700e+05  \n",
       "max            4.000000      1.000000  2.265604e+06  "
      ]
     },
     "execution_count": 157,
     "metadata": {},
     "output_type": "execute_result"
    }
   ],
   "source": [
    "df.describe()"
   ]
  },
  {
   "cell_type": "code",
   "execution_count": 158,
   "id": "b3eff2a6-4d4e-470d-b191-4d5c25d5a788",
   "metadata": {},
   "outputs": [
    {
     "data": {
      "text/plain": [
       "array(['высшее', 'среднее', 'Среднее', 'СРЕДНЕЕ', 'ВЫСШЕЕ',\n",
       "       'неоконченное высшее', 'начальное', 'Высшее',\n",
       "       'НЕОКОНЧЕННОЕ ВЫСШЕЕ', 'Неоконченное высшее', 'НАЧАЛЬНОЕ',\n",
       "       'Начальное', 'Ученая степень', 'УЧЕНАЯ СТЕПЕНЬ', 'ученая степень'],\n",
       "      dtype=object)"
      ]
     },
     "execution_count": 158,
     "metadata": {},
     "output_type": "execute_result"
    }
   ],
   "source": [
    "df['education'].unique() # checking for duplicates"
   ]
  },
  {
   "cell_type": "code",
   "execution_count": 159,
   "id": "dd63d248-be26-400a-8e00-fecf48439627",
   "metadata": {},
   "outputs": [
    {
     "data": {
      "text/plain": [
       "education\n",
       "среднее                13653\n",
       "высшее                  4698\n",
       "СРЕДНЕЕ                  770\n",
       "Среднее                  705\n",
       "неоконченное высшее      666\n",
       "ВЫСШЕЕ                   271\n",
       "Высшее                   268\n",
       "начальное                250\n",
       "Неоконченное высшее       47\n",
       "НЕОКОНЧЕННОЕ ВЫСШЕЕ       29\n",
       "НАЧАЛЬНОЕ                 17\n",
       "Начальное                 15\n",
       "ученая степень             4\n",
       "Ученая степень             1\n",
       "УЧЕНАЯ СТЕПЕНЬ             1\n",
       "Name: count, dtype: int64"
      ]
     },
     "execution_count": 159,
     "metadata": {},
     "output_type": "execute_result"
    }
   ],
   "source": [
    "df['education'].value_counts()  # подсчет количества людей и образование "
   ]
  },
  {
   "cell_type": "code",
   "execution_count": 160,
   "id": "73fe7188-2b99-4ae9-b08f-17bd687f2109",
   "metadata": {
    "scrolled": true
   },
   "outputs": [
    {
     "name": "stdout",
     "output_type": "stream",
     "text": [
      "['высшее' 'среднее' 'Среднее' 'СРЕДНЕЕ' 'ВЫСШЕЕ' 'неоконченное высшее'\n",
      " 'начальное' 'Высшее' 'НЕОКОНЧЕННОЕ ВЫСШЕЕ' 'Неоконченное высшее'\n",
      " 'НАЧАЛЬНОЕ' 'Начальное' 'Ученая степень' 'УЧЕНАЯ СТЕПЕНЬ'\n",
      " 'ученая степень']\n",
      "['женат / замужем' 'гражданский брак' 'вдовец / вдова' 'в разводе'\n",
      " 'не женат / не замужем']\n",
      "['F' 'M' 'XNA']\n",
      "['сотрудник' 'пенсионер' 'компаньон' 'госслужащий' 'безработный'\n",
      " 'предприниматель' 'студент' 'в декрете']\n",
      "['покупка жилья' 'приобретение автомобиля' 'дополнительное образование'\n",
      " 'сыграть свадьбу' 'операции с жильем' 'образование'\n",
      " 'на проведение свадьбы' 'покупка жилья для семьи' 'покупка недвижимости'\n",
      " 'покупка коммерческой недвижимости' 'покупка жилой недвижимости'\n",
      " 'строительство собственной недвижимости' 'недвижимость'\n",
      " 'строительство недвижимости' 'на покупку подержанного автомобиля'\n",
      " 'на покупку своего автомобиля' 'операции с коммерческой недвижимостью'\n",
      " 'строительство жилой недвижимости' 'жилье'\n",
      " 'операции со своей недвижимостью' 'автомобили' 'заняться образованием'\n",
      " 'сделка с подержанным автомобилем' 'получение образования' 'автомобиль'\n",
      " 'свадьба' 'получение дополнительного образования' 'покупка своего жилья'\n",
      " 'операции с недвижимостью' 'получение высшего образования'\n",
      " 'свой автомобиль' 'сделка с автомобилем' 'профильное образование'\n",
      " 'высшее образование' 'покупка жилья для сдачи' 'на покупку автомобиля'\n",
      " 'ремонт жилью' 'заняться высшим образованием']\n"
     ]
    }
   ],
   "source": [
    "for i in ['education', 'family_status', 'gender', 'income_type', 'purpose']: # цикл для проверки на уникльность\n",
    "    print(df[i].unique())"
   ]
  },
  {
   "cell_type": "code",
   "execution_count": 161,
   "id": "a1b12b36-dc04-4c63-8513-df4513504bb3",
   "metadata": {
    "scrolled": true
   },
   "outputs": [],
   "source": [
    "df = df.drop(columns = ['Unnamed: 0']) # удаление ненужного столбца"
   ]
  },
  {
   "cell_type": "code",
   "execution_count": 162,
   "id": "6a2bc85a-83a6-46b7-a844-f80280725b55",
   "metadata": {},
   "outputs": [
    {
     "name": "stdout",
     "output_type": "stream",
     "text": [
      "<class 'pandas.core.frame.DataFrame'>\n",
      "RangeIndex: 21395 entries, 0 to 21394\n",
      "Data columns (total 12 columns):\n",
      " #   Column            Non-Null Count  Dtype  \n",
      "---  ------            --------------  -----  \n",
      " 0   children          21395 non-null  int64  \n",
      " 1   days_employed     19284 non-null  float64\n",
      " 2   dob_years         21395 non-null  int64  \n",
      " 3   education         21395 non-null  object \n",
      " 4   education_id      21395 non-null  int64  \n",
      " 5   family_status     21395 non-null  object \n",
      " 6   family_status_id  21395 non-null  int64  \n",
      " 7   gender            21395 non-null  object \n",
      " 8   income_type       21395 non-null  object \n",
      " 9   debt              21395 non-null  int64  \n",
      " 10  total_income      19284 non-null  float64\n",
      " 11  purpose           21395 non-null  object \n",
      "dtypes: float64(2), int64(5), object(5)\n",
      "memory usage: 2.0+ MB\n"
     ]
    }
   ],
   "source": [
    "df.info()"
   ]
  },
  {
   "cell_type": "code",
   "execution_count": 163,
   "id": "ace80b13-0b4c-47bb-af6a-a2c7cdb6bb7c",
   "metadata": {},
   "outputs": [
    {
     "data": {
      "text/html": [
       "<div>\n",
       "<style scoped>\n",
       "    .dataframe tbody tr th:only-of-type {\n",
       "        vertical-align: middle;\n",
       "    }\n",
       "\n",
       "    .dataframe tbody tr th {\n",
       "        vertical-align: top;\n",
       "    }\n",
       "\n",
       "    .dataframe thead th {\n",
       "        text-align: right;\n",
       "    }\n",
       "</style>\n",
       "<table border=\"1\" class=\"dataframe\">\n",
       "  <thead>\n",
       "    <tr style=\"text-align: right;\">\n",
       "      <th></th>\n",
       "      <th>children</th>\n",
       "      <th>days_employed</th>\n",
       "      <th>dob_years</th>\n",
       "      <th>education_id</th>\n",
       "      <th>family_status_id</th>\n",
       "      <th>debt</th>\n",
       "      <th>total_income</th>\n",
       "    </tr>\n",
       "  </thead>\n",
       "  <tbody>\n",
       "    <tr>\n",
       "      <th>count</th>\n",
       "      <td>21395.000000</td>\n",
       "      <td>19284.000000</td>\n",
       "      <td>21395.000000</td>\n",
       "      <td>21395.000000</td>\n",
       "      <td>21395.000000</td>\n",
       "      <td>21395.000000</td>\n",
       "      <td>1.928400e+04</td>\n",
       "    </tr>\n",
       "    <tr>\n",
       "      <th>mean</th>\n",
       "      <td>0.470437</td>\n",
       "      <td>2224.761599</td>\n",
       "      <td>43.284272</td>\n",
       "      <td>0.817107</td>\n",
       "      <td>0.974246</td>\n",
       "      <td>0.081000</td>\n",
       "      <td>1.674178e+05</td>\n",
       "    </tr>\n",
       "    <tr>\n",
       "      <th>std</th>\n",
       "      <td>0.754534</td>\n",
       "      <td>2106.974155</td>\n",
       "      <td>12.576030</td>\n",
       "      <td>0.548879</td>\n",
       "      <td>1.421282</td>\n",
       "      <td>0.272842</td>\n",
       "      <td>1.030418e+05</td>\n",
       "    </tr>\n",
       "    <tr>\n",
       "      <th>min</th>\n",
       "      <td>-1.000000</td>\n",
       "      <td>24.141633</td>\n",
       "      <td>0.000000</td>\n",
       "      <td>0.000000</td>\n",
       "      <td>0.000000</td>\n",
       "      <td>0.000000</td>\n",
       "      <td>2.066726e+04</td>\n",
       "    </tr>\n",
       "    <tr>\n",
       "      <th>25%</th>\n",
       "      <td>0.000000</td>\n",
       "      <td>927.984311</td>\n",
       "      <td>33.000000</td>\n",
       "      <td>1.000000</td>\n",
       "      <td>0.000000</td>\n",
       "      <td>0.000000</td>\n",
       "      <td>1.030161e+05</td>\n",
       "    </tr>\n",
       "    <tr>\n",
       "      <th>50%</th>\n",
       "      <td>0.000000</td>\n",
       "      <td>1630.019381</td>\n",
       "      <td>42.000000</td>\n",
       "      <td>1.000000</td>\n",
       "      <td>0.000000</td>\n",
       "      <td>0.000000</td>\n",
       "      <td>1.450208e+05</td>\n",
       "    </tr>\n",
       "    <tr>\n",
       "      <th>75%</th>\n",
       "      <td>1.000000</td>\n",
       "      <td>2747.876441</td>\n",
       "      <td>53.000000</td>\n",
       "      <td>1.000000</td>\n",
       "      <td>1.000000</td>\n",
       "      <td>0.000000</td>\n",
       "      <td>2.033700e+05</td>\n",
       "    </tr>\n",
       "    <tr>\n",
       "      <th>max</th>\n",
       "      <td>5.000000</td>\n",
       "      <td>18388.949901</td>\n",
       "      <td>75.000000</td>\n",
       "      <td>4.000000</td>\n",
       "      <td>4.000000</td>\n",
       "      <td>1.000000</td>\n",
       "      <td>2.265604e+06</td>\n",
       "    </tr>\n",
       "  </tbody>\n",
       "</table>\n",
       "</div>"
      ],
      "text/plain": [
       "           children  days_employed     dob_years  education_id  \\\n",
       "count  21395.000000   19284.000000  21395.000000  21395.000000   \n",
       "mean       0.470437    2224.761599     43.284272      0.817107   \n",
       "std        0.754534    2106.974155     12.576030      0.548879   \n",
       "min       -1.000000      24.141633      0.000000      0.000000   \n",
       "25%        0.000000     927.984311     33.000000      1.000000   \n",
       "50%        0.000000    1630.019381     42.000000      1.000000   \n",
       "75%        1.000000    2747.876441     53.000000      1.000000   \n",
       "max        5.000000   18388.949901     75.000000      4.000000   \n",
       "\n",
       "       family_status_id          debt  total_income  \n",
       "count      21395.000000  21395.000000  1.928400e+04  \n",
       "mean           0.974246      0.081000  1.674178e+05  \n",
       "std            1.421282      0.272842  1.030418e+05  \n",
       "min            0.000000      0.000000  2.066726e+04  \n",
       "25%            0.000000      0.000000  1.030161e+05  \n",
       "50%            0.000000      0.000000  1.450208e+05  \n",
       "75%            1.000000      0.000000  2.033700e+05  \n",
       "max            4.000000      1.000000  2.265604e+06  "
      ]
     },
     "execution_count": 163,
     "metadata": {},
     "output_type": "execute_result"
    }
   ],
   "source": [
    "df.describe()"
   ]
  },
  {
   "cell_type": "markdown",
   "id": "94f1a449-a798-422b-b40e-2bae9bd1766c",
   "metadata": {},
   "source": [
    "## ✅ Предобработка данных\n",
    "Что входит в перечень задач по очистке данных?\n",
    "* `Очистка явных и неявных дубликатов`;\n",
    "* `Аномальные значения`;\n",
    "* `Пропустки`;\n",
    "* `Опечатки`."
   ]
  },
  {
   "cell_type": "code",
   "execution_count": 164,
   "id": "2e75e2c1-8fc8-4548-91b4-b1e57617a092",
   "metadata": {},
   "outputs": [
    {
     "data": {
      "text/plain": [
       "np.int64(0)"
      ]
     },
     "execution_count": 164,
     "metadata": {},
     "output_type": "execute_result"
    }
   ],
   "source": [
    "df.duplicated().sum()"
   ]
  },
  {
   "cell_type": "code",
   "execution_count": 165,
   "id": "52eeff8d-d8c1-407b-baef-1b67f9ea20d8",
   "metadata": {},
   "outputs": [],
   "source": [
    "# Удалить дубликаты, если они есть:\n",
    "df = df.drop_duplicates()"
   ]
  },
  {
   "cell_type": "code",
   "execution_count": 185,
   "id": "c835112d-a2bc-4c70-a47a-0df3a8189a48",
   "metadata": {},
   "outputs": [
    {
     "name": "stdout",
     "output_type": "stream",
     "text": [
      "['высшее' 'среднее' 'неоконченное высшее' 'начальное' 'ученая степень']\n",
      "['женат / замужем' 'гражданский брак' 'вдовец / вдова' 'в разводе'\n",
      " 'не женат / не замужем']\n",
      "['F' 'M']\n",
      "['сотрудник' 'пенсионер' 'компаньон' 'госслужащий' 'безработный'\n",
      " 'предприниматель' 'студент' 'в декрете']\n",
      "['покупка жилья' 'приобретение автомобиля' 'дополнительное образование'\n",
      " 'сыграть свадьбу' 'операции с жильем' 'образование'\n",
      " 'на проведение свадьбы' 'покупка жилья для семьи' 'покупка недвижимости'\n",
      " 'покупка коммерческой недвижимости' 'покупка жилой недвижимости'\n",
      " 'строительство собственной недвижимости' 'недвижимость'\n",
      " 'строительство недвижимости' 'на покупку подержанного автомобиля'\n",
      " 'на покупку своего автомобиля' 'операции с коммерческой недвижимостью'\n",
      " 'строительство жилой недвижимости' 'жилье'\n",
      " 'операции со своей недвижимостью' 'автомобили' 'заняться образованием'\n",
      " 'сделка с подержанным автомобилем' 'получение образования' 'автомобиль'\n",
      " 'свадьба' 'получение дополнительного образования' 'покупка своего жилья'\n",
      " 'операции с недвижимостью' 'получение высшего образования'\n",
      " 'свой автомобиль' 'сделка с автомобилем' 'профильное образование'\n",
      " 'высшее образование' 'покупка жилья для сдачи' 'на покупку автомобиля'\n",
      " 'ремонт жилью' 'заняться высшим образованием']\n"
     ]
    }
   ],
   "source": [
    "# Уникальные значения в исполнение цикла:\n",
    "\n",
    "for i in ['education', 'family_status', 'gender', 'income_type', 'purpose']:\n",
    "    print(df[i].unique())"
   ]
  },
  {
   "cell_type": "code",
   "execution_count": 167,
   "id": "e0ae7ac0-7f5c-481d-835e-784d170ce07b",
   "metadata": {},
   "outputs": [
    {
     "name": "stdout",
     "output_type": "stream",
     "text": [
      "children\n",
      "-1       47\n",
      " 0    14107\n",
      " 1     4809\n",
      " 2     2052\n",
      " 3      330\n",
      " 4       41\n",
      " 5        9\n",
      "Name: children, dtype: int64\n"
     ]
    }
   ],
   "source": [
    "# Группировка по параметру \"Дети\"\n",
    "print(df.groupby('children')[\"children\"].count())"
   ]
  },
  {
   "cell_type": "code",
   "execution_count": 168,
   "id": "7eda0717-e5cf-4517-8f44-cf0aa417b00a",
   "metadata": {},
   "outputs": [
    {
     "data": {
      "text/plain": [
       "children\n",
       " 0    14107\n",
       " 1     4809\n",
       " 2     2052\n",
       " 3      330\n",
       "-1       47\n",
       " 4       41\n",
       " 5        9\n",
       "Name: count, dtype: int64"
      ]
     },
     "execution_count": 168,
     "metadata": {},
     "output_type": "execute_result"
    }
   ],
   "source": [
    "# Группировка по параметру \"Дети\"\n",
    "\n",
    "df['children'].value_counts()"
   ]
  },
  {
   "cell_type": "code",
   "execution_count": 169,
   "id": "ae2edc65-9707-402e-b21b-53db8c4309cc",
   "metadata": {},
   "outputs": [],
   "source": [
    "# Сортировка результата выдачи \"1.\" от большего к меньшему по параметру \"Кол-во детей\": \n",
    "\n",
    "df[\"children\"] = df[\"children\"].replace(-1, 1)"
   ]
  },
  {
   "cell_type": "code",
   "execution_count": 170,
   "id": "9e35b876-703b-4c07-b4c8-ed86c1d9474b",
   "metadata": {},
   "outputs": [
    {
     "name": "stdout",
     "output_type": "stream",
     "text": [
      "0.4673989249824725\n"
     ]
    }
   ],
   "source": [
    "# Процентное соотношение детей < 18 лет\n",
    "\n",
    "print (df[df['dob_years']<18]['dob_years'].count()/df['dob_years'].count()*100)"
   ]
  },
  {
   "cell_type": "code",
   "execution_count": 171,
   "id": "7192c06c-8e51-4f7d-9ebd-20965637a8fc",
   "metadata": {},
   "outputs": [],
   "source": [
    "ndf = df[df['dob_years'] >= 18]"
   ]
  },
  {
   "cell_type": "code",
   "execution_count": 172,
   "id": "df3a5dc0-f83b-4f12-be17-b75843e184fd",
   "metadata": {},
   "outputs": [
    {
     "data": {
      "text/html": [
       "<div>\n",
       "<style scoped>\n",
       "    .dataframe tbody tr th:only-of-type {\n",
       "        vertical-align: middle;\n",
       "    }\n",
       "\n",
       "    .dataframe tbody tr th {\n",
       "        vertical-align: top;\n",
       "    }\n",
       "\n",
       "    .dataframe thead th {\n",
       "        text-align: right;\n",
       "    }\n",
       "</style>\n",
       "<table border=\"1\" class=\"dataframe\">\n",
       "  <thead>\n",
       "    <tr style=\"text-align: right;\">\n",
       "      <th></th>\n",
       "      <th>children</th>\n",
       "      <th>days_employed</th>\n",
       "      <th>dob_years</th>\n",
       "      <th>education_id</th>\n",
       "      <th>family_status_id</th>\n",
       "      <th>debt</th>\n",
       "      <th>total_income</th>\n",
       "    </tr>\n",
       "  </thead>\n",
       "  <tbody>\n",
       "    <tr>\n",
       "      <th>count</th>\n",
       "      <td>21395.000000</td>\n",
       "      <td>19284.000000</td>\n",
       "      <td>21395.000000</td>\n",
       "      <td>21395.000000</td>\n",
       "      <td>21395.000000</td>\n",
       "      <td>21395.000000</td>\n",
       "      <td>1.928400e+04</td>\n",
       "    </tr>\n",
       "    <tr>\n",
       "      <th>mean</th>\n",
       "      <td>0.474831</td>\n",
       "      <td>2224.761599</td>\n",
       "      <td>43.284272</td>\n",
       "      <td>0.817107</td>\n",
       "      <td>0.974246</td>\n",
       "      <td>0.081000</td>\n",
       "      <td>1.674178e+05</td>\n",
       "    </tr>\n",
       "    <tr>\n",
       "      <th>std</th>\n",
       "      <td>0.751776</td>\n",
       "      <td>2106.974155</td>\n",
       "      <td>12.576030</td>\n",
       "      <td>0.548879</td>\n",
       "      <td>1.421282</td>\n",
       "      <td>0.272842</td>\n",
       "      <td>1.030418e+05</td>\n",
       "    </tr>\n",
       "    <tr>\n",
       "      <th>min</th>\n",
       "      <td>0.000000</td>\n",
       "      <td>24.141633</td>\n",
       "      <td>0.000000</td>\n",
       "      <td>0.000000</td>\n",
       "      <td>0.000000</td>\n",
       "      <td>0.000000</td>\n",
       "      <td>2.066726e+04</td>\n",
       "    </tr>\n",
       "    <tr>\n",
       "      <th>25%</th>\n",
       "      <td>0.000000</td>\n",
       "      <td>927.984311</td>\n",
       "      <td>33.000000</td>\n",
       "      <td>1.000000</td>\n",
       "      <td>0.000000</td>\n",
       "      <td>0.000000</td>\n",
       "      <td>1.030161e+05</td>\n",
       "    </tr>\n",
       "    <tr>\n",
       "      <th>50%</th>\n",
       "      <td>0.000000</td>\n",
       "      <td>1630.019381</td>\n",
       "      <td>42.000000</td>\n",
       "      <td>1.000000</td>\n",
       "      <td>0.000000</td>\n",
       "      <td>0.000000</td>\n",
       "      <td>1.450208e+05</td>\n",
       "    </tr>\n",
       "    <tr>\n",
       "      <th>75%</th>\n",
       "      <td>1.000000</td>\n",
       "      <td>2747.876441</td>\n",
       "      <td>53.000000</td>\n",
       "      <td>1.000000</td>\n",
       "      <td>1.000000</td>\n",
       "      <td>0.000000</td>\n",
       "      <td>2.033700e+05</td>\n",
       "    </tr>\n",
       "    <tr>\n",
       "      <th>max</th>\n",
       "      <td>5.000000</td>\n",
       "      <td>18388.949901</td>\n",
       "      <td>75.000000</td>\n",
       "      <td>4.000000</td>\n",
       "      <td>4.000000</td>\n",
       "      <td>1.000000</td>\n",
       "      <td>2.265604e+06</td>\n",
       "    </tr>\n",
       "  </tbody>\n",
       "</table>\n",
       "</div>"
      ],
      "text/plain": [
       "           children  days_employed     dob_years  education_id  \\\n",
       "count  21395.000000   19284.000000  21395.000000  21395.000000   \n",
       "mean       0.474831    2224.761599     43.284272      0.817107   \n",
       "std        0.751776    2106.974155     12.576030      0.548879   \n",
       "min        0.000000      24.141633      0.000000      0.000000   \n",
       "25%        0.000000     927.984311     33.000000      1.000000   \n",
       "50%        0.000000    1630.019381     42.000000      1.000000   \n",
       "75%        1.000000    2747.876441     53.000000      1.000000   \n",
       "max        5.000000   18388.949901     75.000000      4.000000   \n",
       "\n",
       "       family_status_id          debt  total_income  \n",
       "count      21395.000000  21395.000000  1.928400e+04  \n",
       "mean           0.974246      0.081000  1.674178e+05  \n",
       "std            1.421282      0.272842  1.030418e+05  \n",
       "min            0.000000      0.000000  2.066726e+04  \n",
       "25%            0.000000      0.000000  1.030161e+05  \n",
       "50%            0.000000      0.000000  1.450208e+05  \n",
       "75%            1.000000      0.000000  2.033700e+05  \n",
       "max            4.000000      1.000000  2.265604e+06  "
      ]
     },
     "execution_count": 172,
     "metadata": {},
     "output_type": "execute_result"
    }
   ],
   "source": [
    "df.describe()"
   ]
  },
  {
   "cell_type": "code",
   "execution_count": 174,
   "id": "cc40dbfa-3116-444c-ba6d-20b5be04f8a8",
   "metadata": {},
   "outputs": [],
   "source": [
    "# Привести все данные в нижний регистр\n",
    "\n",
    "df['education'] = df['education'].str.lower()"
   ]
  },
  {
   "cell_type": "code",
   "execution_count": 179,
   "id": "57f16813-5032-4c9e-b65d-d59b0337a6dd",
   "metadata": {},
   "outputs": [
    {
     "data": {
      "text/plain": [
       "gender\n",
       "F    14142\n",
       "M     7252\n",
       "Name: count, dtype: int64"
      ]
     },
     "execution_count": 179,
     "metadata": {},
     "output_type": "execute_result"
    }
   ],
   "source": [
    "# Уникальные значения по гендеру\n",
    "\n",
    "df['gender'].value_counts()"
   ]
  },
  {
   "cell_type": "code",
   "execution_count": 178,
   "id": "e0deea67-79d0-4696-945a-92e19cea9b2d",
   "metadata": {},
   "outputs": [],
   "source": [
    "# Удаляем из гендера значение \"Н/Д\"\n",
    "\n",
    "df = df[df['gender']!='XNA']"
   ]
  },
  {
   "cell_type": "code",
   "execution_count": 186,
   "id": "f1685feb-87c0-4b46-ae6f-23dc35961a01",
   "metadata": {},
   "outputs": [],
   "source": [
    "def purposes(reason):\n",
    "    if 'образов' in reason:\n",
    "        return 'образование'\n",
    "    if 'свадь' in reason:\n",
    "        return 'свадьба'\n",
    "    if 'авто' in reason:\n",
    "        return 'автомобиль'\n",
    "    if 'жиль' in reason:\n",
    "        return 'недвижимость'\n",
    "    if 'недвиж' in reason:\n",
    "        return 'недвижимость'"
   ]
  },
  {
   "cell_type": "code",
   "execution_count": 187,
   "id": "11b8e93d-6cf8-40ee-903e-146f98c7f64d",
   "metadata": {},
   "outputs": [
    {
     "data": {
      "text/plain": [
       "'недвижимость'"
      ]
     },
     "execution_count": 187,
     "metadata": {},
     "output_type": "execute_result"
    }
   ],
   "source": [
    "purposes('покупка жилья')"
   ]
  },
  {
   "cell_type": "code",
   "execution_count": 188,
   "id": "aad55f05-3502-4947-9a66-0a98314fc725",
   "metadata": {},
   "outputs": [],
   "source": [
    "df['purposes_category'] = df['purpose'].apply(purposes)"
   ]
  },
  {
   "cell_type": "code",
   "execution_count": 194,
   "id": "bf1e3c60-6600-4742-983a-73bbc95aa609",
   "metadata": {},
   "outputs": [
    {
     "data": {
      "text/html": [
       "<div>\n",
       "<style scoped>\n",
       "    .dataframe tbody tr th:only-of-type {\n",
       "        vertical-align: middle;\n",
       "    }\n",
       "\n",
       "    .dataframe tbody tr th {\n",
       "        vertical-align: top;\n",
       "    }\n",
       "\n",
       "    .dataframe thead th {\n",
       "        text-align: right;\n",
       "    }\n",
       "</style>\n",
       "<table border=\"1\" class=\"dataframe\">\n",
       "  <thead>\n",
       "    <tr style=\"text-align: right;\">\n",
       "      <th></th>\n",
       "      <th>children</th>\n",
       "      <th>days_employed</th>\n",
       "      <th>dob_years</th>\n",
       "      <th>education</th>\n",
       "      <th>education_id</th>\n",
       "      <th>family_status</th>\n",
       "      <th>family_status_id</th>\n",
       "      <th>gender</th>\n",
       "      <th>income_type</th>\n",
       "      <th>debt</th>\n",
       "      <th>total_income</th>\n",
       "      <th>purpose</th>\n",
       "      <th>purposes_category</th>\n",
       "    </tr>\n",
       "  </thead>\n",
       "  <tbody>\n",
       "    <tr>\n",
       "      <th>0</th>\n",
       "      <td>1</td>\n",
       "      <td>8437.673028</td>\n",
       "      <td>42</td>\n",
       "      <td>высшее</td>\n",
       "      <td>0</td>\n",
       "      <td>женат / замужем</td>\n",
       "      <td>0</td>\n",
       "      <td>F</td>\n",
       "      <td>сотрудник</td>\n",
       "      <td>0</td>\n",
       "      <td>253875.639453</td>\n",
       "      <td>покупка жилья</td>\n",
       "      <td>недвижимость</td>\n",
       "    </tr>\n",
       "    <tr>\n",
       "      <th>1</th>\n",
       "      <td>1</td>\n",
       "      <td>4024.803754</td>\n",
       "      <td>36</td>\n",
       "      <td>среднее</td>\n",
       "      <td>1</td>\n",
       "      <td>женат / замужем</td>\n",
       "      <td>0</td>\n",
       "      <td>F</td>\n",
       "      <td>сотрудник</td>\n",
       "      <td>0</td>\n",
       "      <td>112080.014102</td>\n",
       "      <td>приобретение автомобиля</td>\n",
       "      <td>автомобиль</td>\n",
       "    </tr>\n",
       "    <tr>\n",
       "      <th>2</th>\n",
       "      <td>0</td>\n",
       "      <td>5623.422610</td>\n",
       "      <td>33</td>\n",
       "      <td>среднее</td>\n",
       "      <td>1</td>\n",
       "      <td>женат / замужем</td>\n",
       "      <td>0</td>\n",
       "      <td>M</td>\n",
       "      <td>сотрудник</td>\n",
       "      <td>0</td>\n",
       "      <td>145885.952297</td>\n",
       "      <td>покупка жилья</td>\n",
       "      <td>недвижимость</td>\n",
       "    </tr>\n",
       "    <tr>\n",
       "      <th>3</th>\n",
       "      <td>3</td>\n",
       "      <td>4124.747207</td>\n",
       "      <td>32</td>\n",
       "      <td>среднее</td>\n",
       "      <td>1</td>\n",
       "      <td>женат / замужем</td>\n",
       "      <td>0</td>\n",
       "      <td>M</td>\n",
       "      <td>сотрудник</td>\n",
       "      <td>0</td>\n",
       "      <td>267628.550329</td>\n",
       "      <td>дополнительное образование</td>\n",
       "      <td>образование</td>\n",
       "    </tr>\n",
       "    <tr>\n",
       "      <th>4</th>\n",
       "      <td>0</td>\n",
       "      <td>1630.019381</td>\n",
       "      <td>53</td>\n",
       "      <td>среднее</td>\n",
       "      <td>1</td>\n",
       "      <td>гражданский брак</td>\n",
       "      <td>1</td>\n",
       "      <td>F</td>\n",
       "      <td>пенсионер</td>\n",
       "      <td>0</td>\n",
       "      <td>158616.077870</td>\n",
       "      <td>сыграть свадьбу</td>\n",
       "      <td>свадьба</td>\n",
       "    </tr>\n",
       "    <tr>\n",
       "      <th>5</th>\n",
       "      <td>0</td>\n",
       "      <td>926.185831</td>\n",
       "      <td>27</td>\n",
       "      <td>высшее</td>\n",
       "      <td>0</td>\n",
       "      <td>гражданский брак</td>\n",
       "      <td>1</td>\n",
       "      <td>M</td>\n",
       "      <td>компаньон</td>\n",
       "      <td>0</td>\n",
       "      <td>255763.565419</td>\n",
       "      <td>покупка жилья</td>\n",
       "      <td>недвижимость</td>\n",
       "    </tr>\n",
       "    <tr>\n",
       "      <th>6</th>\n",
       "      <td>0</td>\n",
       "      <td>2879.202052</td>\n",
       "      <td>43</td>\n",
       "      <td>высшее</td>\n",
       "      <td>0</td>\n",
       "      <td>женат / замужем</td>\n",
       "      <td>0</td>\n",
       "      <td>F</td>\n",
       "      <td>компаньон</td>\n",
       "      <td>0</td>\n",
       "      <td>240525.971920</td>\n",
       "      <td>операции с жильем</td>\n",
       "      <td>недвижимость</td>\n",
       "    </tr>\n",
       "    <tr>\n",
       "      <th>7</th>\n",
       "      <td>0</td>\n",
       "      <td>152.779569</td>\n",
       "      <td>50</td>\n",
       "      <td>среднее</td>\n",
       "      <td>1</td>\n",
       "      <td>женат / замужем</td>\n",
       "      <td>0</td>\n",
       "      <td>M</td>\n",
       "      <td>сотрудник</td>\n",
       "      <td>0</td>\n",
       "      <td>135823.934197</td>\n",
       "      <td>образование</td>\n",
       "      <td>образование</td>\n",
       "    </tr>\n",
       "    <tr>\n",
       "      <th>8</th>\n",
       "      <td>2</td>\n",
       "      <td>6929.865299</td>\n",
       "      <td>35</td>\n",
       "      <td>высшее</td>\n",
       "      <td>0</td>\n",
       "      <td>гражданский брак</td>\n",
       "      <td>1</td>\n",
       "      <td>F</td>\n",
       "      <td>сотрудник</td>\n",
       "      <td>0</td>\n",
       "      <td>95856.832424</td>\n",
       "      <td>на проведение свадьбы</td>\n",
       "      <td>свадьба</td>\n",
       "    </tr>\n",
       "    <tr>\n",
       "      <th>9</th>\n",
       "      <td>0</td>\n",
       "      <td>2188.756445</td>\n",
       "      <td>41</td>\n",
       "      <td>среднее</td>\n",
       "      <td>1</td>\n",
       "      <td>женат / замужем</td>\n",
       "      <td>0</td>\n",
       "      <td>M</td>\n",
       "      <td>сотрудник</td>\n",
       "      <td>0</td>\n",
       "      <td>144425.938277</td>\n",
       "      <td>покупка жилья для семьи</td>\n",
       "      <td>недвижимость</td>\n",
       "    </tr>\n",
       "  </tbody>\n",
       "</table>\n",
       "</div>"
      ],
      "text/plain": [
       "   children  days_employed  dob_years education  education_id  \\\n",
       "0         1    8437.673028         42    высшее             0   \n",
       "1         1    4024.803754         36   среднее             1   \n",
       "2         0    5623.422610         33   среднее             1   \n",
       "3         3    4124.747207         32   среднее             1   \n",
       "4         0    1630.019381         53   среднее             1   \n",
       "5         0     926.185831         27    высшее             0   \n",
       "6         0    2879.202052         43    высшее             0   \n",
       "7         0     152.779569         50   среднее             1   \n",
       "8         2    6929.865299         35    высшее             0   \n",
       "9         0    2188.756445         41   среднее             1   \n",
       "\n",
       "      family_status  family_status_id gender income_type  debt   total_income  \\\n",
       "0   женат / замужем                 0      F   сотрудник     0  253875.639453   \n",
       "1   женат / замужем                 0      F   сотрудник     0  112080.014102   \n",
       "2   женат / замужем                 0      M   сотрудник     0  145885.952297   \n",
       "3   женат / замужем                 0      M   сотрудник     0  267628.550329   \n",
       "4  гражданский брак                 1      F   пенсионер     0  158616.077870   \n",
       "5  гражданский брак                 1      M   компаньон     0  255763.565419   \n",
       "6   женат / замужем                 0      F   компаньон     0  240525.971920   \n",
       "7   женат / замужем                 0      M   сотрудник     0  135823.934197   \n",
       "8  гражданский брак                 1      F   сотрудник     0   95856.832424   \n",
       "9   женат / замужем                 0      M   сотрудник     0  144425.938277   \n",
       "\n",
       "                      purpose purposes_category  \n",
       "0               покупка жилья      недвижимость  \n",
       "1     приобретение автомобиля        автомобиль  \n",
       "2               покупка жилья      недвижимость  \n",
       "3  дополнительное образование       образование  \n",
       "4             сыграть свадьбу           свадьба  \n",
       "5               покупка жилья      недвижимость  \n",
       "6           операции с жильем      недвижимость  \n",
       "7                 образование       образование  \n",
       "8       на проведение свадьбы           свадьба  \n",
       "9     покупка жилья для семьи      недвижимость  "
      ]
     },
     "execution_count": 194,
     "metadata": {},
     "output_type": "execute_result"
    }
   ],
   "source": [
    "df.head(10)"
   ]
  },
  {
   "cell_type": "code",
   "execution_count": 191,
   "id": "724868b3-de2d-4286-b91c-fb67635e0c44",
   "metadata": {},
   "outputs": [
    {
     "name": "stdout",
     "output_type": "stream",
     "text": [
      "['высшее' 'среднее' 'неоконченное высшее' 'начальное' 'ученая степень']\n",
      "['женат / замужем' 'гражданский брак' 'вдовец / вдова' 'в разводе'\n",
      " 'не женат / не замужем']\n",
      "['F' 'M']\n",
      "['сотрудник' 'пенсионер' 'компаньон' 'госслужащий' 'безработный'\n",
      " 'предприниматель' 'студент' 'в декрете']\n",
      "['недвижимость' 'автомобиль' 'образование' 'свадьба']\n"
     ]
    }
   ],
   "source": [
    "# Проверка: Уникальных значений:\n",
    "\n",
    "for i in ['education', 'family_status', 'gender', 'income_type', 'purposes_category']:\n",
    "    print(df[i].unique())"
   ]
  },
  {
   "cell_type": "code",
   "execution_count": 242,
   "id": "5b6cc59f-64f3-448a-9390-d5d73d5abeef",
   "metadata": {
    "scrolled": true
   },
   "outputs": [
    {
     "data": {
      "text/plain": [
       "children             0\n",
       "days_employed        0\n",
       "dob_years            0\n",
       "education            0\n",
       "education_id         0\n",
       "family_status        0\n",
       "family_status_id     0\n",
       "gender               0\n",
       "income_type          0\n",
       "debt                 0\n",
       "total_income         0\n",
       "purpose              0\n",
       "purposes_category    0\n",
       "dtype: int64"
      ]
     },
     "execution_count": 242,
     "metadata": {},
     "output_type": "execute_result"
    }
   ],
   "source": [
    "df.isna().sum()"
   ]
  },
  {
   "cell_type": "code",
   "execution_count": 216,
   "id": "0178a8f8-7b0d-4485-8a42-61c49fcf64ac",
   "metadata": {},
   "outputs": [],
   "source": [
    "# Поиск и замена значений в заданном диапазоне\n",
    "\n",
    "df['days_employed'] = df['days_employed'].fillna(df['days_employed'].median())"
   ]
  },
  {
   "cell_type": "code",
   "execution_count": 218,
   "id": "f9548158-70f2-46d8-b490-db578eb49027",
   "metadata": {},
   "outputs": [
    {
     "data": {
      "text/html": [
       "<div>\n",
       "<style scoped>\n",
       "    .dataframe tbody tr th:only-of-type {\n",
       "        vertical-align: middle;\n",
       "    }\n",
       "\n",
       "    .dataframe tbody tr th {\n",
       "        vertical-align: top;\n",
       "    }\n",
       "\n",
       "    .dataframe thead th {\n",
       "        text-align: right;\n",
       "    }\n",
       "</style>\n",
       "<table border=\"1\" class=\"dataframe\">\n",
       "  <thead>\n",
       "    <tr style=\"text-align: right;\">\n",
       "      <th></th>\n",
       "      <th>children</th>\n",
       "      <th>days_employed</th>\n",
       "      <th>dob_years</th>\n",
       "      <th>education</th>\n",
       "      <th>education_id</th>\n",
       "      <th>family_status</th>\n",
       "      <th>family_status_id</th>\n",
       "      <th>gender</th>\n",
       "      <th>income_type</th>\n",
       "      <th>debt</th>\n",
       "      <th>total_income</th>\n",
       "      <th>purpose</th>\n",
       "      <th>purposes_category</th>\n",
       "      <th>purposes_caterogy</th>\n",
       "    </tr>\n",
       "  </thead>\n",
       "  <tbody>\n",
       "    <tr>\n",
       "      <th>0</th>\n",
       "      <td>1</td>\n",
       "      <td>8437.673028</td>\n",
       "      <td>42</td>\n",
       "      <td>высшее</td>\n",
       "      <td>0</td>\n",
       "      <td>женат / замужем</td>\n",
       "      <td>0</td>\n",
       "      <td>F</td>\n",
       "      <td>сотрудник</td>\n",
       "      <td>0</td>\n",
       "      <td>253875.639453</td>\n",
       "      <td>покупка жилья</td>\n",
       "      <td>недвижимость</td>\n",
       "      <td>недвижимость</td>\n",
       "    </tr>\n",
       "    <tr>\n",
       "      <th>1</th>\n",
       "      <td>1</td>\n",
       "      <td>4024.803754</td>\n",
       "      <td>36</td>\n",
       "      <td>среднее</td>\n",
       "      <td>1</td>\n",
       "      <td>женат / замужем</td>\n",
       "      <td>0</td>\n",
       "      <td>F</td>\n",
       "      <td>сотрудник</td>\n",
       "      <td>0</td>\n",
       "      <td>112080.014102</td>\n",
       "      <td>приобретение автомобиля</td>\n",
       "      <td>автомобиль</td>\n",
       "      <td>автомобиль</td>\n",
       "    </tr>\n",
       "    <tr>\n",
       "      <th>2</th>\n",
       "      <td>0</td>\n",
       "      <td>5623.422610</td>\n",
       "      <td>33</td>\n",
       "      <td>среднее</td>\n",
       "      <td>1</td>\n",
       "      <td>женат / замужем</td>\n",
       "      <td>0</td>\n",
       "      <td>M</td>\n",
       "      <td>сотрудник</td>\n",
       "      <td>0</td>\n",
       "      <td>145885.952297</td>\n",
       "      <td>покупка жилья</td>\n",
       "      <td>недвижимость</td>\n",
       "      <td>недвижимость</td>\n",
       "    </tr>\n",
       "    <tr>\n",
       "      <th>3</th>\n",
       "      <td>3</td>\n",
       "      <td>4124.747207</td>\n",
       "      <td>32</td>\n",
       "      <td>среднее</td>\n",
       "      <td>1</td>\n",
       "      <td>женат / замужем</td>\n",
       "      <td>0</td>\n",
       "      <td>M</td>\n",
       "      <td>сотрудник</td>\n",
       "      <td>0</td>\n",
       "      <td>267628.550329</td>\n",
       "      <td>дополнительное образование</td>\n",
       "      <td>образование</td>\n",
       "      <td>образование</td>\n",
       "    </tr>\n",
       "    <tr>\n",
       "      <th>4</th>\n",
       "      <td>0</td>\n",
       "      <td>1630.019381</td>\n",
       "      <td>53</td>\n",
       "      <td>среднее</td>\n",
       "      <td>1</td>\n",
       "      <td>гражданский брак</td>\n",
       "      <td>1</td>\n",
       "      <td>F</td>\n",
       "      <td>пенсионер</td>\n",
       "      <td>0</td>\n",
       "      <td>158616.077870</td>\n",
       "      <td>сыграть свадьбу</td>\n",
       "      <td>свадьба</td>\n",
       "      <td>свадьба</td>\n",
       "    </tr>\n",
       "    <tr>\n",
       "      <th>...</th>\n",
       "      <td>...</td>\n",
       "      <td>...</td>\n",
       "      <td>...</td>\n",
       "      <td>...</td>\n",
       "      <td>...</td>\n",
       "      <td>...</td>\n",
       "      <td>...</td>\n",
       "      <td>...</td>\n",
       "      <td>...</td>\n",
       "      <td>...</td>\n",
       "      <td>...</td>\n",
       "      <td>...</td>\n",
       "      <td>...</td>\n",
       "      <td>...</td>\n",
       "    </tr>\n",
       "    <tr>\n",
       "      <th>21390</th>\n",
       "      <td>1</td>\n",
       "      <td>4529.316663</td>\n",
       "      <td>43</td>\n",
       "      <td>среднее</td>\n",
       "      <td>1</td>\n",
       "      <td>гражданский брак</td>\n",
       "      <td>1</td>\n",
       "      <td>F</td>\n",
       "      <td>компаньон</td>\n",
       "      <td>0</td>\n",
       "      <td>224791.862382</td>\n",
       "      <td>операции с жильем</td>\n",
       "      <td>недвижимость</td>\n",
       "      <td>недвижимость</td>\n",
       "    </tr>\n",
       "    <tr>\n",
       "      <th>21391</th>\n",
       "      <td>0</td>\n",
       "      <td>1630.019381</td>\n",
       "      <td>67</td>\n",
       "      <td>среднее</td>\n",
       "      <td>1</td>\n",
       "      <td>женат / замужем</td>\n",
       "      <td>0</td>\n",
       "      <td>F</td>\n",
       "      <td>пенсионер</td>\n",
       "      <td>0</td>\n",
       "      <td>155999.806512</td>\n",
       "      <td>сделка с автомобилем</td>\n",
       "      <td>автомобиль</td>\n",
       "      <td>автомобиль</td>\n",
       "    </tr>\n",
       "    <tr>\n",
       "      <th>21392</th>\n",
       "      <td>1</td>\n",
       "      <td>2113.346888</td>\n",
       "      <td>38</td>\n",
       "      <td>среднее</td>\n",
       "      <td>1</td>\n",
       "      <td>гражданский брак</td>\n",
       "      <td>1</td>\n",
       "      <td>M</td>\n",
       "      <td>сотрудник</td>\n",
       "      <td>1</td>\n",
       "      <td>89672.561153</td>\n",
       "      <td>недвижимость</td>\n",
       "      <td>недвижимость</td>\n",
       "      <td>недвижимость</td>\n",
       "    </tr>\n",
       "    <tr>\n",
       "      <th>21393</th>\n",
       "      <td>3</td>\n",
       "      <td>3112.481705</td>\n",
       "      <td>38</td>\n",
       "      <td>среднее</td>\n",
       "      <td>1</td>\n",
       "      <td>женат / замужем</td>\n",
       "      <td>0</td>\n",
       "      <td>M</td>\n",
       "      <td>сотрудник</td>\n",
       "      <td>1</td>\n",
       "      <td>244093.050500</td>\n",
       "      <td>на покупку своего автомобиля</td>\n",
       "      <td>автомобиль</td>\n",
       "      <td>автомобиль</td>\n",
       "    </tr>\n",
       "    <tr>\n",
       "      <th>21394</th>\n",
       "      <td>2</td>\n",
       "      <td>1984.507589</td>\n",
       "      <td>40</td>\n",
       "      <td>среднее</td>\n",
       "      <td>1</td>\n",
       "      <td>женат / замужем</td>\n",
       "      <td>0</td>\n",
       "      <td>F</td>\n",
       "      <td>сотрудник</td>\n",
       "      <td>0</td>\n",
       "      <td>82047.418899</td>\n",
       "      <td>на покупку автомобиля</td>\n",
       "      <td>автомобиль</td>\n",
       "      <td>автомобиль</td>\n",
       "    </tr>\n",
       "  </tbody>\n",
       "</table>\n",
       "<p>21394 rows × 14 columns</p>\n",
       "</div>"
      ],
      "text/plain": [
       "       children  days_employed  dob_years education  education_id  \\\n",
       "0             1    8437.673028         42    высшее             0   \n",
       "1             1    4024.803754         36   среднее             1   \n",
       "2             0    5623.422610         33   среднее             1   \n",
       "3             3    4124.747207         32   среднее             1   \n",
       "4             0    1630.019381         53   среднее             1   \n",
       "...         ...            ...        ...       ...           ...   \n",
       "21390         1    4529.316663         43   среднее             1   \n",
       "21391         0    1630.019381         67   среднее             1   \n",
       "21392         1    2113.346888         38   среднее             1   \n",
       "21393         3    3112.481705         38   среднее             1   \n",
       "21394         2    1984.507589         40   среднее             1   \n",
       "\n",
       "          family_status  family_status_id gender income_type  debt  \\\n",
       "0       женат / замужем                 0      F   сотрудник     0   \n",
       "1       женат / замужем                 0      F   сотрудник     0   \n",
       "2       женат / замужем                 0      M   сотрудник     0   \n",
       "3       женат / замужем                 0      M   сотрудник     0   \n",
       "4      гражданский брак                 1      F   пенсионер     0   \n",
       "...                 ...               ...    ...         ...   ...   \n",
       "21390  гражданский брак                 1      F   компаньон     0   \n",
       "21391   женат / замужем                 0      F   пенсионер     0   \n",
       "21392  гражданский брак                 1      M   сотрудник     1   \n",
       "21393   женат / замужем                 0      M   сотрудник     1   \n",
       "21394   женат / замужем                 0      F   сотрудник     0   \n",
       "\n",
       "        total_income                       purpose purposes_category  \\\n",
       "0      253875.639453                 покупка жилья      недвижимость   \n",
       "1      112080.014102       приобретение автомобиля        автомобиль   \n",
       "2      145885.952297                 покупка жилья      недвижимость   \n",
       "3      267628.550329    дополнительное образование       образование   \n",
       "4      158616.077870               сыграть свадьбу           свадьба   \n",
       "...              ...                           ...               ...   \n",
       "21390  224791.862382             операции с жильем      недвижимость   \n",
       "21391  155999.806512          сделка с автомобилем        автомобиль   \n",
       "21392   89672.561153                  недвижимость      недвижимость   \n",
       "21393  244093.050500  на покупку своего автомобиля        автомобиль   \n",
       "21394   82047.418899         на покупку автомобиля        автомобиль   \n",
       "\n",
       "      purposes_caterogy  \n",
       "0          недвижимость  \n",
       "1            автомобиль  \n",
       "2          недвижимость  \n",
       "3           образование  \n",
       "4               свадьба  \n",
       "...                 ...  \n",
       "21390      недвижимость  \n",
       "21391        автомобиль  \n",
       "21392      недвижимость  \n",
       "21393        автомобиль  \n",
       "21394        автомобиль  \n",
       "\n",
       "[21394 rows x 14 columns]"
      ]
     },
     "execution_count": 218,
     "metadata": {},
     "output_type": "execute_result"
    }
   ],
   "source": [
    "df"
   ]
  },
  {
   "cell_type": "code",
   "execution_count": 243,
   "id": "6641bdd9-5597-4615-9a02-9ecd544072c3",
   "metadata": {},
   "outputs": [],
   "source": [
    "# Цикл\n",
    "# Поиск и замена пустых значений в заданном диапазоне\n",
    "\n",
    "for i in df['income_type'].unique():\n",
    "    df.loc[(df['income_type'] == i) & (df['total_income'].isna()), 'total_income'] = df.loc[(df['income_type'] == i), 'total_income'].median()"
   ]
  },
  {
   "cell_type": "code",
   "execution_count": 244,
   "id": "e7eee3f0-fe30-4551-8ede-4eb3ce205cb5",
   "metadata": {},
   "outputs": [
    {
     "data": {
      "text/plain": [
       "np.int64(0)"
      ]
     },
     "execution_count": 244,
     "metadata": {},
     "output_type": "execute_result"
    }
   ],
   "source": [
    "df.duplicated().sum() # Проверка на наличие дубликатов"
   ]
  },
  {
   "cell_type": "code",
   "execution_count": 245,
   "id": "6ea012db-f081-45d6-a07d-b247ef707982",
   "metadata": {},
   "outputs": [],
   "source": [
    "df = df.drop_duplicates() # Удаление дубликатов, если они есть"
   ]
  },
  {
   "cell_type": "code",
   "execution_count": 246,
   "id": "05d8ccac-a43c-4b1c-8879-a027236015e4",
   "metadata": {},
   "outputs": [
    {
     "data": {
      "text/html": [
       "<div>\n",
       "<style scoped>\n",
       "    .dataframe tbody tr th:only-of-type {\n",
       "        vertical-align: middle;\n",
       "    }\n",
       "\n",
       "    .dataframe tbody tr th {\n",
       "        vertical-align: top;\n",
       "    }\n",
       "\n",
       "    .dataframe thead th {\n",
       "        text-align: right;\n",
       "    }\n",
       "</style>\n",
       "<table border=\"1\" class=\"dataframe\">\n",
       "  <thead>\n",
       "    <tr style=\"text-align: right;\">\n",
       "      <th></th>\n",
       "      <th>children</th>\n",
       "      <th>days_employed</th>\n",
       "      <th>dob_years</th>\n",
       "      <th>education</th>\n",
       "      <th>education_id</th>\n",
       "      <th>family_status</th>\n",
       "      <th>family_status_id</th>\n",
       "      <th>gender</th>\n",
       "      <th>income_type</th>\n",
       "      <th>debt</th>\n",
       "      <th>total_income</th>\n",
       "      <th>purpose</th>\n",
       "      <th>purposes_category</th>\n",
       "    </tr>\n",
       "  </thead>\n",
       "  <tbody>\n",
       "    <tr>\n",
       "      <th>0</th>\n",
       "      <td>1</td>\n",
       "      <td>8437.673028</td>\n",
       "      <td>42</td>\n",
       "      <td>высшее</td>\n",
       "      <td>0</td>\n",
       "      <td>женат / замужем</td>\n",
       "      <td>0</td>\n",
       "      <td>F</td>\n",
       "      <td>сотрудник</td>\n",
       "      <td>0</td>\n",
       "      <td>253875.639453</td>\n",
       "      <td>покупка жилья</td>\n",
       "      <td>недвижимость</td>\n",
       "    </tr>\n",
       "    <tr>\n",
       "      <th>1</th>\n",
       "      <td>1</td>\n",
       "      <td>4024.803754</td>\n",
       "      <td>36</td>\n",
       "      <td>среднее</td>\n",
       "      <td>1</td>\n",
       "      <td>женат / замужем</td>\n",
       "      <td>0</td>\n",
       "      <td>F</td>\n",
       "      <td>сотрудник</td>\n",
       "      <td>0</td>\n",
       "      <td>112080.014102</td>\n",
       "      <td>приобретение автомобиля</td>\n",
       "      <td>автомобиль</td>\n",
       "    </tr>\n",
       "    <tr>\n",
       "      <th>2</th>\n",
       "      <td>0</td>\n",
       "      <td>5623.422610</td>\n",
       "      <td>33</td>\n",
       "      <td>среднее</td>\n",
       "      <td>1</td>\n",
       "      <td>женат / замужем</td>\n",
       "      <td>0</td>\n",
       "      <td>M</td>\n",
       "      <td>сотрудник</td>\n",
       "      <td>0</td>\n",
       "      <td>145885.952297</td>\n",
       "      <td>покупка жилья</td>\n",
       "      <td>недвижимость</td>\n",
       "    </tr>\n",
       "    <tr>\n",
       "      <th>3</th>\n",
       "      <td>3</td>\n",
       "      <td>4124.747207</td>\n",
       "      <td>32</td>\n",
       "      <td>среднее</td>\n",
       "      <td>1</td>\n",
       "      <td>женат / замужем</td>\n",
       "      <td>0</td>\n",
       "      <td>M</td>\n",
       "      <td>сотрудник</td>\n",
       "      <td>0</td>\n",
       "      <td>267628.550329</td>\n",
       "      <td>дополнительное образование</td>\n",
       "      <td>образование</td>\n",
       "    </tr>\n",
       "    <tr>\n",
       "      <th>4</th>\n",
       "      <td>0</td>\n",
       "      <td>1630.019381</td>\n",
       "      <td>53</td>\n",
       "      <td>среднее</td>\n",
       "      <td>1</td>\n",
       "      <td>гражданский брак</td>\n",
       "      <td>1</td>\n",
       "      <td>F</td>\n",
       "      <td>пенсионер</td>\n",
       "      <td>0</td>\n",
       "      <td>158616.077870</td>\n",
       "      <td>сыграть свадьбу</td>\n",
       "      <td>свадьба</td>\n",
       "    </tr>\n",
       "  </tbody>\n",
       "</table>\n",
       "</div>"
      ],
      "text/plain": [
       "   children  days_employed  dob_years education  education_id  \\\n",
       "0         1    8437.673028         42    высшее             0   \n",
       "1         1    4024.803754         36   среднее             1   \n",
       "2         0    5623.422610         33   среднее             1   \n",
       "3         3    4124.747207         32   среднее             1   \n",
       "4         0    1630.019381         53   среднее             1   \n",
       "\n",
       "      family_status  family_status_id gender income_type  debt   total_income  \\\n",
       "0   женат / замужем                 0      F   сотрудник     0  253875.639453   \n",
       "1   женат / замужем                 0      F   сотрудник     0  112080.014102   \n",
       "2   женат / замужем                 0      M   сотрудник     0  145885.952297   \n",
       "3   женат / замужем                 0      M   сотрудник     0  267628.550329   \n",
       "4  гражданский брак                 1      F   пенсионер     0  158616.077870   \n",
       "\n",
       "                      purpose purposes_category  \n",
       "0               покупка жилья      недвижимость  \n",
       "1     приобретение автомобиля        автомобиль  \n",
       "2               покупка жилья      недвижимость  \n",
       "3  дополнительное образование       образование  \n",
       "4             сыграть свадьбу           свадьба  "
      ]
     },
     "execution_count": 246,
     "metadata": {},
     "output_type": "execute_result"
    }
   ],
   "source": [
    "df.head() # Обнаружен дубликат столбца \"purposes_caterogy\""
   ]
  },
  {
   "cell_type": "code",
   "execution_count": 236,
   "id": "0269c4a6-b610-4674-bed9-54280da96f6b",
   "metadata": {},
   "outputs": [],
   "source": [
    "# df = df.drop(columns='purposes_caterogy')\n",
    "# print(df)"
   ]
  },
  {
   "cell_type": "code",
   "execution_count": 249,
   "id": "dca0939c-322e-4237-86f7-c4e4e91a061e",
   "metadata": {
    "scrolled": true
   },
   "outputs": [
    {
     "data": {
      "text/html": [
       "<div>\n",
       "<style scoped>\n",
       "    .dataframe tbody tr th:only-of-type {\n",
       "        vertical-align: middle;\n",
       "    }\n",
       "\n",
       "    .dataframe tbody tr th {\n",
       "        vertical-align: top;\n",
       "    }\n",
       "\n",
       "    .dataframe thead th {\n",
       "        text-align: right;\n",
       "    }\n",
       "</style>\n",
       "<table border=\"1\" class=\"dataframe\">\n",
       "  <thead>\n",
       "    <tr style=\"text-align: right;\">\n",
       "      <th></th>\n",
       "      <th>children</th>\n",
       "      <th>days_employed</th>\n",
       "      <th>dob_years</th>\n",
       "      <th>education</th>\n",
       "      <th>education_id</th>\n",
       "      <th>family_status</th>\n",
       "      <th>family_status_id</th>\n",
       "      <th>gender</th>\n",
       "      <th>income_type</th>\n",
       "      <th>debt</th>\n",
       "      <th>total_income</th>\n",
       "      <th>purpose</th>\n",
       "      <th>purposes_category</th>\n",
       "    </tr>\n",
       "  </thead>\n",
       "  <tbody>\n",
       "    <tr>\n",
       "      <th>0</th>\n",
       "      <td>1</td>\n",
       "      <td>8437.673028</td>\n",
       "      <td>42</td>\n",
       "      <td>высшее</td>\n",
       "      <td>0</td>\n",
       "      <td>женат / замужем</td>\n",
       "      <td>0</td>\n",
       "      <td>F</td>\n",
       "      <td>сотрудник</td>\n",
       "      <td>0</td>\n",
       "      <td>253875.639453</td>\n",
       "      <td>покупка жилья</td>\n",
       "      <td>недвижимость</td>\n",
       "    </tr>\n",
       "  </tbody>\n",
       "</table>\n",
       "</div>"
      ],
      "text/plain": [
       "   children  days_employed  dob_years education  education_id  \\\n",
       "0         1    8437.673028         42    высшее             0   \n",
       "\n",
       "     family_status  family_status_id gender income_type  debt   total_income  \\\n",
       "0  женат / замужем                 0      F   сотрудник     0  253875.639453   \n",
       "\n",
       "         purpose purposes_category  \n",
       "0  покупка жилья      недвижимость  "
      ]
     },
     "execution_count": 249,
     "metadata": {},
     "output_type": "execute_result"
    }
   ],
   "source": [
    "df.head(1) # Check"
   ]
  },
  {
   "cell_type": "markdown",
   "id": "5a006de5-36db-4ddb-926d-3a2500a0f5c0",
   "metadata": {},
   "source": [
    "## Ответы на вопросы"
   ]
  },
  {
   "cell_type": "markdown",
   "id": "ba2b39de-a9b6-49ba-a0c3-23d58927ec70",
   "metadata": {},
   "source": [
    "### 4А.        ✅`Средняя зарплата по типу занятости`"
   ]
  },
  {
   "cell_type": "code",
   "execution_count": 255,
   "id": "7da4b1dc-e7f0-49ad-9d8e-2381af8ba8e9",
   "metadata": {},
   "outputs": [
    {
     "name": "stdout",
     "output_type": "stream",
     "text": [
      "Средняя зарплата по типу занятости:  income_type\n",
      "безработный        131339.751676\n",
      "в декрете           53829.130729\n",
      "госслужащий        168811.737769\n",
      "компаньон          199558.373308\n",
      "пенсионер          135266.515670\n",
      "предприниматель    499163.144947\n",
      "сотрудник          159533.471972\n",
      "студент             98201.625314\n",
      "Name: total_income, dtype: float64\n"
     ]
    }
   ],
   "source": [
    "avg_income_by_type = df.groupby('income_type')['total_income'].mean()\n",
    "print('Средняя зарплата по типу занятости: ', avg_income_by_type)"
   ]
  },
  {
   "cell_type": "markdown",
   "id": "60bfe047-658f-4796-b7f1-dd5d2f94cc2c",
   "metadata": {},
   "source": [
    "### 4Б.        ✅`Процент заемщиков с высшим образованием`"
   ]
  },
  {
   "cell_type": "code",
   "execution_count": 257,
   "id": "aeb69254-32c3-4b6a-840a-1bc299370a8c",
   "metadata": {},
   "outputs": [
    {
     "data": {
      "text/plain": [
       "education\n",
       "высшее                 24.493615\n",
       "начальное               1.319175\n",
       "неоконченное высшее     3.466342\n",
       "среднее                70.692801\n",
       "ученая степень          0.028068\n",
       "Name: education, dtype: float64"
      ]
     },
     "execution_count": 257,
     "metadata": {},
     "output_type": "execute_result"
    }
   ],
   "source": [
    "percent = df.groupby('education')['education'].count()/len(df)*100\n",
    "percent"
   ]
  },
  {
   "cell_type": "code",
   "execution_count": 258,
   "id": "c6613196-80cb-49b5-a60c-5365296f591d",
   "metadata": {},
   "outputs": [
    {
     "name": "stdout",
     "output_type": "stream",
     "text": [
      "Процент заемщиков с высшим образованием: 24.493614632549\n"
     ]
    }
   ],
   "source": [
    "print('Процент заемщиков с высшим образованием:', df[df['education'] == 'высшее']['education'].count()/df.shape[0]*100)"
   ]
  },
  {
   "cell_type": "markdown",
   "id": "cc0b020a-77d1-4e83-937e-09691f75a459",
   "metadata": {},
   "source": [
    "### 4В.        ✅`Частота кредитов на покупку жилья`"
   ]
  },
  {
   "cell_type": "code",
   "execution_count": 259,
   "id": "5cbba3a5-09a3-4649-8ea8-0cd443f7cf6f",
   "metadata": {},
   "outputs": [
    {
     "name": "stdout",
     "output_type": "stream",
     "text": [
      "Частота кредитов на покупку жилья 50.39996257660102\n"
     ]
    }
   ],
   "source": [
    "percent_category = df[df['purposes_category'] == 'недвижимость']['purposes_category'].count()/len(df)*100\n",
    "print('Частота кредитов на покупку жилья', percent_category)"
   ]
  },
  {
   "cell_type": "markdown",
   "id": "cde663d0-5c96-4778-957f-2005968db842",
   "metadata": {},
   "source": [
    "### 4Г.        ✅`Зависимость между семейным положением и задолженностью`"
   ]
  },
  {
   "cell_type": "code",
   "execution_count": 260,
   "id": "93663388-d198-4875-9d7d-be882bd9fafc",
   "metadata": {},
   "outputs": [
    {
     "name": "stdout",
     "output_type": "stream",
     "text": [
      "Доля должников по семейному положению:\n",
      "family_status\n",
      "не женат / не замужем    9.7\n",
      "гражданский брак         9.3\n",
      "женат / замужем          7.6\n",
      "в разводе                7.0\n",
      "вдовец / вдова           6.6\n",
      "Name: debt, dtype: float64\n"
     ]
    }
   ],
   "source": [
    "family_debt = df.groupby('family_status')['debt'].mean().sort_values(ascending=False)\n",
    "print(\"Доля должников по семейному положению:\")\n",
    "print((family_debt * 100).round(1))"
   ]
  },
  {
   "cell_type": "markdown",
   "id": "a935b801-9b41-4b4e-8d80-476ef5c9783c",
   "metadata": {},
   "source": [
    "### 4Д.        ✅`Есть ли зависимость между количеством детей и возвратом кредита в срок?`"
   ]
  },
  {
   "cell_type": "code",
   "execution_count": 264,
   "id": "b4abe089-b2dd-40e7-b2b1-8843f25f30bb",
   "metadata": {},
   "outputs": [
    {
     "name": "stdout",
     "output_type": "stream",
     "text": [
      "\n",
      "Доля должников по количеству детей:\n",
      "children\n",
      "4    9.8\n",
      "2    9.5\n",
      "1    9.2\n",
      "3    8.2\n",
      "0    7.5\n",
      "5    0.0\n",
      "Name: debt, dtype: float64\n"
     ]
    }
   ],
   "source": [
    "children_debt = df.groupby('children')['debt'].mean().sort_values(ascending=False)\n",
    "print(\"\\nДоля должников по количеству детей:\")\n",
    "print((children_debt * 100).round(1))"
   ]
  },
  {
   "cell_type": "markdown",
   "id": "c86b2b7b-68ae-4096-9d72-62b10fe0e0e7",
   "metadata": {},
   "source": [
    "#### 4Д.         Выводы"
   ]
  },
  {
   "cell_type": "markdown",
   "id": "0d861f48-46b2-4d43-9923-2ec1f0e3b171",
   "metadata": {},
   "source": [
    "1. 0 детей: 7.5% должников\n",
    "2. 1 ребенок: 9.2% должников\n",
    "3. 2 детей: 9.5% должников\n",
    "4. 3 детей: 8.2% должников 🔴 Неожиданное снижение\n",
    "5. 4 детей: 9.8% должников 🔴 МАКСИМАЛЬНЫЙ РИСК\n",
    "6. 5 детей: 0.0% должников 🔴 МИНИМАЛЬНЫЙ РИСК (аномалия)\n",
    "\n",
    "⚠ Зависимость существует, но она сложная и требует дополнительного исследования аномалий, особенно для 3 и 5 детей."
   ]
  },
  {
   "cell_type": "markdown",
   "id": "780f0ec9-4f0f-4e30-b0af-7d0fff87aaca",
   "metadata": {},
   "source": [
    "### 4Е.        ✅`Есть ли зависимость между уровнем дохода и возвратом кредита в срок?`"
   ]
  },
  {
   "cell_type": "code",
   "execution_count": 263,
   "id": "9253c9b2-8ea8-4a72-9270-87642e8fa2f5",
   "metadata": {},
   "outputs": [
    {
     "name": "stdout",
     "output_type": "stream",
     "text": [
      "\n",
      "Доля должников по квартилям дохода:\n",
      "income_quartile\n",
      "Q1    8.0\n",
      "Q2    8.8\n",
      "Q3    8.5\n",
      "Q4    7.1\n",
      "Name: debt, dtype: float64\n"
     ]
    },
    {
     "name": "stderr",
     "output_type": "stream",
     "text": [
      "C:\\Users\\Станислав\\AppData\\Local\\Temp\\ipykernel_30576\\1315253979.py:2: FutureWarning: The default of observed=False is deprecated and will be changed to True in a future version of pandas. Pass observed=False to retain current behavior or observed=True to adopt the future default and silence this warning.\n",
      "  income_debt = df.groupby('income_quartile')['debt'].mean()\n"
     ]
    }
   ],
   "source": [
    "df['income_quartile'] = pd.qcut(df['total_income'], 4, labels=['Q1', 'Q2', 'Q3', 'Q4'])\n",
    "income_debt = df.groupby('income_quartile')['debt'].mean()\n",
    "print(\"\\nДоля должников по квартилям дохода:\")\n",
    "print((income_debt * 100).round(1))"
   ]
  },
  {
   "cell_type": "markdown",
   "id": "225cd973-9545-42bd-a14f-f4ae8b4f80f8",
   "metadata": {},
   "source": [
    "#### 4Е.         Выводы"
   ]
  },
  {
   "cell_type": "markdown",
   "id": "84831e6c-b84a-4f5a-ae7d-bc3aa6a1009a",
   "metadata": {},
   "source": [
    "Зависимость есть"
   ]
  }
 ],
 "metadata": {
  "kernelspec": {
   "display_name": "Python [conda env:base] *",
   "language": "python",
   "name": "conda-base-py"
  },
  "language_info": {
   "codemirror_mode": {
    "name": "ipython",
    "version": 3
   },
   "file_extension": ".py",
   "mimetype": "text/x-python",
   "name": "python",
   "nbconvert_exporter": "python",
   "pygments_lexer": "ipython3",
   "version": "3.13.5"
  }
 },
 "nbformat": 4,
 "nbformat_minor": 5
}
