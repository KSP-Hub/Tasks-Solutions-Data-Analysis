{
 "cells": [
  {
   "cell_type": "markdown",
   "id": "8ee1e086-0ad1-47e2-ae57-1f0e6e72e1f8",
   "metadata": {},
   "source": [
    "# ℹ Анализ датасета с фильмами и сериалами Netflix"
   ]
  },
  {
   "cell_type": "markdown",
   "id": "b7cb09a1-fbec-4251-a446-2b769da56c5e",
   "metadata": {},
   "source": [
    "##### Датасет:\n",
    "\n",
    "https://www.kaggle.com/datasets/shivamb/netflix-shows\n",
    "\n",
    "\n",
    "Netflix — одна из самых популярных платформ потокового видео и мультимедиа. На платформе доступно более 8000 фильмов и сериалов, а по состоянию на середину 2021 года у сервиса было более 200 миллионов подписчиков по всему миру. Этот табличный набор данных содержит списки всех фильмов и сериалов, доступных на Netflix, а также информацию об актёрском составе, режиссёрах, рейтингах, годе выхода, продолжительности и т. д.\n",
    "\n",
    "##### Необходимо провести аналитику по данному датасету и выполнить задания"
   ]
  },
  {
   "cell_type": "code",
   "execution_count": 1,
   "id": "cda80149-cb1f-4c74-bb57-743bb5dda6f0",
   "metadata": {},
   "outputs": [],
   "source": [
    "# Импорт необходимых библиотек"
   ]
  },
  {
   "cell_type": "code",
   "execution_count": 3,
   "id": "64d0c90d-f3a0-4cc1-b871-60c8c055f3c6",
   "metadata": {},
   "outputs": [],
   "source": [
    "import pandas as pd"
   ]
  },
  {
   "cell_type": "code",
   "execution_count": 5,
   "id": "7bd5f49c-5690-45d4-b9c1-6ede51602901",
   "metadata": {},
   "outputs": [],
   "source": [
    "import numpy as np"
   ]
  },
  {
   "cell_type": "markdown",
   "id": "3a019ca8-bdd7-4d21-9dad-f2b29d92be88",
   "metadata": {},
   "source": [
    "## ✔ Загрузите датасет в DataFrame df и выведите первые 5 строк для ознакомления."
   ]
  },
  {
   "cell_type": "code",
   "execution_count": 6,
   "id": "b3156bb9-d0eb-49ac-b7b7-78c494635c9e",
   "metadata": {},
   "outputs": [],
   "source": [
    "df = pd.read_csv(\"netflix_titles.csv\")"
   ]
  },
  {
   "cell_type": "code",
   "execution_count": 7,
   "id": "f5b0e6f0-cc3d-4c0e-b545-abcdb6a24475",
   "metadata": {},
   "outputs": [
    {
     "data": {
      "text/html": [
       "<div>\n",
       "<style scoped>\n",
       "    .dataframe tbody tr th:only-of-type {\n",
       "        vertical-align: middle;\n",
       "    }\n",
       "\n",
       "    .dataframe tbody tr th {\n",
       "        vertical-align: top;\n",
       "    }\n",
       "\n",
       "    .dataframe thead th {\n",
       "        text-align: right;\n",
       "    }\n",
       "</style>\n",
       "<table border=\"1\" class=\"dataframe\">\n",
       "  <thead>\n",
       "    <tr style=\"text-align: right;\">\n",
       "      <th></th>\n",
       "      <th>show_id</th>\n",
       "      <th>type</th>\n",
       "      <th>title</th>\n",
       "      <th>director</th>\n",
       "      <th>cast</th>\n",
       "      <th>country</th>\n",
       "      <th>date_added</th>\n",
       "      <th>release_year</th>\n",
       "      <th>rating</th>\n",
       "      <th>duration</th>\n",
       "      <th>listed_in</th>\n",
       "      <th>description</th>\n",
       "    </tr>\n",
       "  </thead>\n",
       "  <tbody>\n",
       "    <tr>\n",
       "      <th>0</th>\n",
       "      <td>s1</td>\n",
       "      <td>Movie</td>\n",
       "      <td>Dick Johnson Is Dead</td>\n",
       "      <td>Kirsten Johnson</td>\n",
       "      <td>NaN</td>\n",
       "      <td>United States</td>\n",
       "      <td>September 25, 2021</td>\n",
       "      <td>2020</td>\n",
       "      <td>PG-13</td>\n",
       "      <td>90 min</td>\n",
       "      <td>Documentaries</td>\n",
       "      <td>As her father nears the end of his life, filmm...</td>\n",
       "    </tr>\n",
       "    <tr>\n",
       "      <th>1</th>\n",
       "      <td>s2</td>\n",
       "      <td>TV Show</td>\n",
       "      <td>Blood &amp; Water</td>\n",
       "      <td>NaN</td>\n",
       "      <td>Ama Qamata, Khosi Ngema, Gail Mabalane, Thaban...</td>\n",
       "      <td>South Africa</td>\n",
       "      <td>September 24, 2021</td>\n",
       "      <td>2021</td>\n",
       "      <td>TV-MA</td>\n",
       "      <td>2 Seasons</td>\n",
       "      <td>International TV Shows, TV Dramas, TV Mysteries</td>\n",
       "      <td>After crossing paths at a party, a Cape Town t...</td>\n",
       "    </tr>\n",
       "    <tr>\n",
       "      <th>2</th>\n",
       "      <td>s3</td>\n",
       "      <td>TV Show</td>\n",
       "      <td>Ganglands</td>\n",
       "      <td>Julien Leclercq</td>\n",
       "      <td>Sami Bouajila, Tracy Gotoas, Samuel Jouy, Nabi...</td>\n",
       "      <td>NaN</td>\n",
       "      <td>September 24, 2021</td>\n",
       "      <td>2021</td>\n",
       "      <td>TV-MA</td>\n",
       "      <td>1 Season</td>\n",
       "      <td>Crime TV Shows, International TV Shows, TV Act...</td>\n",
       "      <td>To protect his family from a powerful drug lor...</td>\n",
       "    </tr>\n",
       "    <tr>\n",
       "      <th>3</th>\n",
       "      <td>s4</td>\n",
       "      <td>TV Show</td>\n",
       "      <td>Jailbirds New Orleans</td>\n",
       "      <td>NaN</td>\n",
       "      <td>NaN</td>\n",
       "      <td>NaN</td>\n",
       "      <td>September 24, 2021</td>\n",
       "      <td>2021</td>\n",
       "      <td>TV-MA</td>\n",
       "      <td>1 Season</td>\n",
       "      <td>Docuseries, Reality TV</td>\n",
       "      <td>Feuds, flirtations and toilet talk go down amo...</td>\n",
       "    </tr>\n",
       "    <tr>\n",
       "      <th>4</th>\n",
       "      <td>s5</td>\n",
       "      <td>TV Show</td>\n",
       "      <td>Kota Factory</td>\n",
       "      <td>NaN</td>\n",
       "      <td>Mayur More, Jitendra Kumar, Ranjan Raj, Alam K...</td>\n",
       "      <td>India</td>\n",
       "      <td>September 24, 2021</td>\n",
       "      <td>2021</td>\n",
       "      <td>TV-MA</td>\n",
       "      <td>2 Seasons</td>\n",
       "      <td>International TV Shows, Romantic TV Shows, TV ...</td>\n",
       "      <td>In a city of coaching centers known to train I...</td>\n",
       "    </tr>\n",
       "  </tbody>\n",
       "</table>\n",
       "</div>"
      ],
      "text/plain": [
       "  show_id     type                  title         director  \\\n",
       "0      s1    Movie   Dick Johnson Is Dead  Kirsten Johnson   \n",
       "1      s2  TV Show          Blood & Water              NaN   \n",
       "2      s3  TV Show              Ganglands  Julien Leclercq   \n",
       "3      s4  TV Show  Jailbirds New Orleans              NaN   \n",
       "4      s5  TV Show           Kota Factory              NaN   \n",
       "\n",
       "                                                cast        country  \\\n",
       "0                                                NaN  United States   \n",
       "1  Ama Qamata, Khosi Ngema, Gail Mabalane, Thaban...   South Africa   \n",
       "2  Sami Bouajila, Tracy Gotoas, Samuel Jouy, Nabi...            NaN   \n",
       "3                                                NaN            NaN   \n",
       "4  Mayur More, Jitendra Kumar, Ranjan Raj, Alam K...          India   \n",
       "\n",
       "           date_added  release_year rating   duration  \\\n",
       "0  September 25, 2021          2020  PG-13     90 min   \n",
       "1  September 24, 2021          2021  TV-MA  2 Seasons   \n",
       "2  September 24, 2021          2021  TV-MA   1 Season   \n",
       "3  September 24, 2021          2021  TV-MA   1 Season   \n",
       "4  September 24, 2021          2021  TV-MA  2 Seasons   \n",
       "\n",
       "                                           listed_in  \\\n",
       "0                                      Documentaries   \n",
       "1    International TV Shows, TV Dramas, TV Mysteries   \n",
       "2  Crime TV Shows, International TV Shows, TV Act...   \n",
       "3                             Docuseries, Reality TV   \n",
       "4  International TV Shows, Romantic TV Shows, TV ...   \n",
       "\n",
       "                                         description  \n",
       "0  As her father nears the end of his life, filmm...  \n",
       "1  After crossing paths at a party, a Cape Town t...  \n",
       "2  To protect his family from a powerful drug lor...  \n",
       "3  Feuds, flirtations and toilet talk go down amo...  \n",
       "4  In a city of coaching centers known to train I...  "
      ]
     },
     "execution_count": 7,
     "metadata": {},
     "output_type": "execute_result"
    }
   ],
   "source": [
    "df.head(5)"
   ]
  },
  {
   "cell_type": "markdown",
   "id": "289b4b39-e0b5-4f0b-9deb-4e22b6060a7b",
   "metadata": {},
   "source": [
    "## ✔ Проверьте информацию о датасете: количество строк и столбцов, типы данных."
   ]
  },
  {
   "cell_type": "code",
   "execution_count": 8,
   "id": "58de6be8-8d53-4032-9c25-f80fa89562b4",
   "metadata": {},
   "outputs": [
    {
     "data": {
      "text/plain": [
       "(8807, 12)"
      ]
     },
     "execution_count": 8,
     "metadata": {},
     "output_type": "execute_result"
    }
   ],
   "source": [
    "# Строки и столбцы\n",
    "df.shape"
   ]
  },
  {
   "cell_type": "code",
   "execution_count": 9,
   "id": "8297e3e9-d105-46c5-84e3-69200799097c",
   "metadata": {
    "scrolled": true
   },
   "outputs": [
    {
     "data": {
      "text/plain": [
       "<bound method DataFrame.info of      show_id     type                  title         director  \\\n",
       "0         s1    Movie   Dick Johnson Is Dead  Kirsten Johnson   \n",
       "1         s2  TV Show          Blood & Water              NaN   \n",
       "2         s3  TV Show              Ganglands  Julien Leclercq   \n",
       "3         s4  TV Show  Jailbirds New Orleans              NaN   \n",
       "4         s5  TV Show           Kota Factory              NaN   \n",
       "...      ...      ...                    ...              ...   \n",
       "8802   s8803    Movie                 Zodiac    David Fincher   \n",
       "8803   s8804  TV Show            Zombie Dumb              NaN   \n",
       "8804   s8805    Movie             Zombieland  Ruben Fleischer   \n",
       "8805   s8806    Movie                   Zoom     Peter Hewitt   \n",
       "8806   s8807    Movie                 Zubaan      Mozez Singh   \n",
       "\n",
       "                                                   cast        country  \\\n",
       "0                                                   NaN  United States   \n",
       "1     Ama Qamata, Khosi Ngema, Gail Mabalane, Thaban...   South Africa   \n",
       "2     Sami Bouajila, Tracy Gotoas, Samuel Jouy, Nabi...            NaN   \n",
       "3                                                   NaN            NaN   \n",
       "4     Mayur More, Jitendra Kumar, Ranjan Raj, Alam K...          India   \n",
       "...                                                 ...            ...   \n",
       "8802  Mark Ruffalo, Jake Gyllenhaal, Robert Downey J...  United States   \n",
       "8803                                                NaN            NaN   \n",
       "8804  Jesse Eisenberg, Woody Harrelson, Emma Stone, ...  United States   \n",
       "8805  Tim Allen, Courteney Cox, Chevy Chase, Kate Ma...  United States   \n",
       "8806  Vicky Kaushal, Sarah-Jane Dias, Raaghav Chanan...          India   \n",
       "\n",
       "              date_added  release_year rating   duration  \\\n",
       "0     September 25, 2021          2020  PG-13     90 min   \n",
       "1     September 24, 2021          2021  TV-MA  2 Seasons   \n",
       "2     September 24, 2021          2021  TV-MA   1 Season   \n",
       "3     September 24, 2021          2021  TV-MA   1 Season   \n",
       "4     September 24, 2021          2021  TV-MA  2 Seasons   \n",
       "...                  ...           ...    ...        ...   \n",
       "8802   November 20, 2019          2007      R    158 min   \n",
       "8803        July 1, 2019          2018  TV-Y7  2 Seasons   \n",
       "8804    November 1, 2019          2009      R     88 min   \n",
       "8805    January 11, 2020          2006     PG     88 min   \n",
       "8806       March 2, 2019          2015  TV-14    111 min   \n",
       "\n",
       "                                              listed_in  \\\n",
       "0                                         Documentaries   \n",
       "1       International TV Shows, TV Dramas, TV Mysteries   \n",
       "2     Crime TV Shows, International TV Shows, TV Act...   \n",
       "3                                Docuseries, Reality TV   \n",
       "4     International TV Shows, Romantic TV Shows, TV ...   \n",
       "...                                                 ...   \n",
       "8802                     Cult Movies, Dramas, Thrillers   \n",
       "8803             Kids' TV, Korean TV Shows, TV Comedies   \n",
       "8804                            Comedies, Horror Movies   \n",
       "8805                 Children & Family Movies, Comedies   \n",
       "8806     Dramas, International Movies, Music & Musicals   \n",
       "\n",
       "                                            description  \n",
       "0     As her father nears the end of his life, filmm...  \n",
       "1     After crossing paths at a party, a Cape Town t...  \n",
       "2     To protect his family from a powerful drug lor...  \n",
       "3     Feuds, flirtations and toilet talk go down amo...  \n",
       "4     In a city of coaching centers known to train I...  \n",
       "...                                                 ...  \n",
       "8802  A political cartoonist, a crime reporter and a...  \n",
       "8803  While living alone in a spooky town, a young g...  \n",
       "8804  Looking to survive in a world taken over by zo...  \n",
       "8805  Dragged from civilian life, a former superhero...  \n",
       "8806  A scrappy but poor boy worms his way into a ty...  \n",
       "\n",
       "[8807 rows x 12 columns]>"
      ]
     },
     "execution_count": 9,
     "metadata": {},
     "output_type": "execute_result"
    }
   ],
   "source": [
    "# Типы данных + пропуски\n",
    "df.info"
   ]
  },
  {
   "cell_type": "code",
   "execution_count": 10,
   "id": "e6f073da-c637-415e-8e71-caeef9eabc53",
   "metadata": {},
   "outputs": [
    {
     "data": {
      "text/plain": [
       "show_id         object\n",
       "type            object\n",
       "title           object\n",
       "director        object\n",
       "cast            object\n",
       "country         object\n",
       "date_added      object\n",
       "release_year     int64\n",
       "rating          object\n",
       "duration        object\n",
       "listed_in       object\n",
       "description     object\n",
       "dtype: object"
      ]
     },
     "execution_count": 10,
     "metadata": {},
     "output_type": "execute_result"
    }
   ],
   "source": [
    "# Только типы данных\n",
    "df.dtypes"
   ]
  },
  {
   "cell_type": "code",
   "execution_count": 11,
   "id": "a2bf9526-fce7-4bfc-ba5a-85810d73ceac",
   "metadata": {},
   "outputs": [
    {
     "data": {
      "text/html": [
       "<div>\n",
       "<style scoped>\n",
       "    .dataframe tbody tr th:only-of-type {\n",
       "        vertical-align: middle;\n",
       "    }\n",
       "\n",
       "    .dataframe tbody tr th {\n",
       "        vertical-align: top;\n",
       "    }\n",
       "\n",
       "    .dataframe thead th {\n",
       "        text-align: right;\n",
       "    }\n",
       "</style>\n",
       "<table border=\"1\" class=\"dataframe\">\n",
       "  <thead>\n",
       "    <tr style=\"text-align: right;\">\n",
       "      <th></th>\n",
       "      <th>release_year</th>\n",
       "    </tr>\n",
       "  </thead>\n",
       "  <tbody>\n",
       "    <tr>\n",
       "      <th>count</th>\n",
       "      <td>8807.000000</td>\n",
       "    </tr>\n",
       "    <tr>\n",
       "      <th>mean</th>\n",
       "      <td>2014.180198</td>\n",
       "    </tr>\n",
       "    <tr>\n",
       "      <th>std</th>\n",
       "      <td>8.819312</td>\n",
       "    </tr>\n",
       "    <tr>\n",
       "      <th>min</th>\n",
       "      <td>1925.000000</td>\n",
       "    </tr>\n",
       "    <tr>\n",
       "      <th>25%</th>\n",
       "      <td>2013.000000</td>\n",
       "    </tr>\n",
       "    <tr>\n",
       "      <th>50%</th>\n",
       "      <td>2017.000000</td>\n",
       "    </tr>\n",
       "    <tr>\n",
       "      <th>75%</th>\n",
       "      <td>2019.000000</td>\n",
       "    </tr>\n",
       "    <tr>\n",
       "      <th>max</th>\n",
       "      <td>2021.000000</td>\n",
       "    </tr>\n",
       "  </tbody>\n",
       "</table>\n",
       "</div>"
      ],
      "text/plain": [
       "       release_year\n",
       "count   8807.000000\n",
       "mean    2014.180198\n",
       "std        8.819312\n",
       "min     1925.000000\n",
       "25%     2013.000000\n",
       "50%     2017.000000\n",
       "75%     2019.000000\n",
       "max     2021.000000"
      ]
     },
     "execution_count": 11,
     "metadata": {},
     "output_type": "execute_result"
    }
   ],
   "source": [
    "# Статистика по числовым колонкам\n",
    "df.describe()"
   ]
  },
  {
   "cell_type": "markdown",
   "id": "c5f22ab4-e2dc-4690-afba-d15da00772b2",
   "metadata": {},
   "source": [
    "## ✔ Определите количество пропущенных значений (NaN) в каждом столбце."
   ]
  },
  {
   "cell_type": "code",
   "execution_count": 12,
   "id": "44f67de6-4325-466d-8c19-383486d0eb6c",
   "metadata": {},
   "outputs": [
    {
     "data": {
      "text/plain": [
       "show_id            0\n",
       "type               0\n",
       "title              0\n",
       "director        2634\n",
       "cast             825\n",
       "country          831\n",
       "date_added        10\n",
       "release_year       0\n",
       "rating             4\n",
       "duration           0\n",
       "listed_in          0\n",
       "description        0\n",
       "dtype: int64"
      ]
     },
     "execution_count": 12,
     "metadata": {},
     "output_type": "execute_result"
    }
   ],
   "source": [
    "# Количество пропусков в каждом столбце\n",
    "df.isna().sum()"
   ]
  },
  {
   "cell_type": "code",
   "execution_count": 13,
   "id": "6ebb8ffb-af64-4153-a378-791d9c36a2cc",
   "metadata": {},
   "outputs": [
    {
     "data": {
      "text/plain": [
       "show_id          0.000000\n",
       "type             0.000000\n",
       "title            0.000000\n",
       "director        29.908028\n",
       "cast             9.367549\n",
       "country          9.435676\n",
       "date_added       0.113546\n",
       "release_year     0.000000\n",
       "rating           0.045418\n",
       "duration         0.000000\n",
       "listed_in        0.000000\n",
       "description      0.000000\n",
       "dtype: float64"
      ]
     },
     "execution_count": 13,
     "metadata": {},
     "output_type": "execute_result"
    }
   ],
   "source": [
    "# Процент пропусков\n",
    "df.isna().mean() * 100"
   ]
  },
  {
   "cell_type": "code",
   "execution_count": 14,
   "id": "28d820d9-783a-438a-91f1-7f815b159574",
   "metadata": {},
   "outputs": [
    {
     "data": {
      "text/html": [
       "<div>\n",
       "<style scoped>\n",
       "    .dataframe tbody tr th:only-of-type {\n",
       "        vertical-align: middle;\n",
       "    }\n",
       "\n",
       "    .dataframe tbody tr th {\n",
       "        vertical-align: top;\n",
       "    }\n",
       "\n",
       "    .dataframe thead th {\n",
       "        text-align: right;\n",
       "    }\n",
       "</style>\n",
       "<table border=\"1\" class=\"dataframe\">\n",
       "  <thead>\n",
       "    <tr style=\"text-align: right;\">\n",
       "      <th></th>\n",
       "      <th>Пропуски</th>\n",
       "      <th>Процент</th>\n",
       "    </tr>\n",
       "  </thead>\n",
       "  <tbody>\n",
       "    <tr>\n",
       "      <th>show_id</th>\n",
       "      <td>0</td>\n",
       "      <td>0.000000</td>\n",
       "    </tr>\n",
       "    <tr>\n",
       "      <th>type</th>\n",
       "      <td>0</td>\n",
       "      <td>0.000000</td>\n",
       "    </tr>\n",
       "    <tr>\n",
       "      <th>title</th>\n",
       "      <td>0</td>\n",
       "      <td>0.000000</td>\n",
       "    </tr>\n",
       "    <tr>\n",
       "      <th>director</th>\n",
       "      <td>2634</td>\n",
       "      <td>29.908028</td>\n",
       "    </tr>\n",
       "    <tr>\n",
       "      <th>cast</th>\n",
       "      <td>825</td>\n",
       "      <td>9.367549</td>\n",
       "    </tr>\n",
       "    <tr>\n",
       "      <th>country</th>\n",
       "      <td>831</td>\n",
       "      <td>9.435676</td>\n",
       "    </tr>\n",
       "    <tr>\n",
       "      <th>date_added</th>\n",
       "      <td>10</td>\n",
       "      <td>0.113546</td>\n",
       "    </tr>\n",
       "    <tr>\n",
       "      <th>release_year</th>\n",
       "      <td>0</td>\n",
       "      <td>0.000000</td>\n",
       "    </tr>\n",
       "    <tr>\n",
       "      <th>rating</th>\n",
       "      <td>4</td>\n",
       "      <td>0.045418</td>\n",
       "    </tr>\n",
       "    <tr>\n",
       "      <th>duration</th>\n",
       "      <td>0</td>\n",
       "      <td>0.000000</td>\n",
       "    </tr>\n",
       "    <tr>\n",
       "      <th>listed_in</th>\n",
       "      <td>0</td>\n",
       "      <td>0.000000</td>\n",
       "    </tr>\n",
       "    <tr>\n",
       "      <th>description</th>\n",
       "      <td>0</td>\n",
       "      <td>0.000000</td>\n",
       "    </tr>\n",
       "  </tbody>\n",
       "</table>\n",
       "</div>"
      ],
      "text/plain": [
       "              Пропуски    Процент\n",
       "show_id              0   0.000000\n",
       "type                 0   0.000000\n",
       "title                0   0.000000\n",
       "director          2634  29.908028\n",
       "cast               825   9.367549\n",
       "country            831   9.435676\n",
       "date_added          10   0.113546\n",
       "release_year         0   0.000000\n",
       "rating               4   0.045418\n",
       "duration             0   0.000000\n",
       "listed_in            0   0.000000\n",
       "description          0   0.000000"
      ]
     },
     "execution_count": 14,
     "metadata": {},
     "output_type": "execute_result"
    }
   ],
   "source": [
    "# Детальная таблица\n",
    "pd.DataFrame({\n",
    "    'Пропуски': df.isna().sum(),\n",
    "    'Процент': (df.isna().sum() / len(df)) * 100\n",
    "})"
   ]
  },
  {
   "cell_type": "markdown",
   "id": "fb92b63d-40dd-4b2e-a38c-85354925ec7b",
   "metadata": {},
   "source": [
    "## ✔ Заполните пропуски в столбцах:"
   ]
  },
  {
   "cell_type": "markdown",
   "id": "8cf4977e-d534-471b-9c7d-1cd78b456f29",
   "metadata": {},
   "source": [
    "#### А⇣\n",
    "* `director, cast, country заполните строкой 'Unknown'.`"
   ]
  },
  {
   "cell_type": "code",
   "execution_count": 15,
   "id": "aa6aee77-0fcb-4bb4-89ac-0f3dc6e162ee",
   "metadata": {},
   "outputs": [],
   "source": [
    "df[['director', 'cast', 'country']] = df[['director', 'cast', 'country']].fillna('Unknown')"
   ]
  },
  {
   "cell_type": "code",
   "execution_count": 16,
   "id": "80e0635f-a311-4f74-8dde-ed942ed44b50",
   "metadata": {},
   "outputs": [
    {
     "data": {
      "text/html": [
       "<div>\n",
       "<style scoped>\n",
       "    .dataframe tbody tr th:only-of-type {\n",
       "        vertical-align: middle;\n",
       "    }\n",
       "\n",
       "    .dataframe tbody tr th {\n",
       "        vertical-align: top;\n",
       "    }\n",
       "\n",
       "    .dataframe thead th {\n",
       "        text-align: right;\n",
       "    }\n",
       "</style>\n",
       "<table border=\"1\" class=\"dataframe\">\n",
       "  <thead>\n",
       "    <tr style=\"text-align: right;\">\n",
       "      <th></th>\n",
       "      <th>show_id</th>\n",
       "      <th>type</th>\n",
       "      <th>title</th>\n",
       "      <th>director</th>\n",
       "      <th>cast</th>\n",
       "      <th>country</th>\n",
       "      <th>date_added</th>\n",
       "      <th>release_year</th>\n",
       "      <th>rating</th>\n",
       "      <th>duration</th>\n",
       "      <th>listed_in</th>\n",
       "      <th>description</th>\n",
       "    </tr>\n",
       "  </thead>\n",
       "  <tbody>\n",
       "    <tr>\n",
       "      <th>0</th>\n",
       "      <td>s1</td>\n",
       "      <td>Movie</td>\n",
       "      <td>Dick Johnson Is Dead</td>\n",
       "      <td>Kirsten Johnson</td>\n",
       "      <td>Unknown</td>\n",
       "      <td>United States</td>\n",
       "      <td>September 25, 2021</td>\n",
       "      <td>2020</td>\n",
       "      <td>PG-13</td>\n",
       "      <td>90 min</td>\n",
       "      <td>Documentaries</td>\n",
       "      <td>As her father nears the end of his life, filmm...</td>\n",
       "    </tr>\n",
       "    <tr>\n",
       "      <th>1</th>\n",
       "      <td>s2</td>\n",
       "      <td>TV Show</td>\n",
       "      <td>Blood &amp; Water</td>\n",
       "      <td>Unknown</td>\n",
       "      <td>Ama Qamata, Khosi Ngema, Gail Mabalane, Thaban...</td>\n",
       "      <td>South Africa</td>\n",
       "      <td>September 24, 2021</td>\n",
       "      <td>2021</td>\n",
       "      <td>TV-MA</td>\n",
       "      <td>2 Seasons</td>\n",
       "      <td>International TV Shows, TV Dramas, TV Mysteries</td>\n",
       "      <td>After crossing paths at a party, a Cape Town t...</td>\n",
       "    </tr>\n",
       "    <tr>\n",
       "      <th>2</th>\n",
       "      <td>s3</td>\n",
       "      <td>TV Show</td>\n",
       "      <td>Ganglands</td>\n",
       "      <td>Julien Leclercq</td>\n",
       "      <td>Sami Bouajila, Tracy Gotoas, Samuel Jouy, Nabi...</td>\n",
       "      <td>Unknown</td>\n",
       "      <td>September 24, 2021</td>\n",
       "      <td>2021</td>\n",
       "      <td>TV-MA</td>\n",
       "      <td>1 Season</td>\n",
       "      <td>Crime TV Shows, International TV Shows, TV Act...</td>\n",
       "      <td>To protect his family from a powerful drug lor...</td>\n",
       "    </tr>\n",
       "    <tr>\n",
       "      <th>3</th>\n",
       "      <td>s4</td>\n",
       "      <td>TV Show</td>\n",
       "      <td>Jailbirds New Orleans</td>\n",
       "      <td>Unknown</td>\n",
       "      <td>Unknown</td>\n",
       "      <td>Unknown</td>\n",
       "      <td>September 24, 2021</td>\n",
       "      <td>2021</td>\n",
       "      <td>TV-MA</td>\n",
       "      <td>1 Season</td>\n",
       "      <td>Docuseries, Reality TV</td>\n",
       "      <td>Feuds, flirtations and toilet talk go down amo...</td>\n",
       "    </tr>\n",
       "    <tr>\n",
       "      <th>4</th>\n",
       "      <td>s5</td>\n",
       "      <td>TV Show</td>\n",
       "      <td>Kota Factory</td>\n",
       "      <td>Unknown</td>\n",
       "      <td>Mayur More, Jitendra Kumar, Ranjan Raj, Alam K...</td>\n",
       "      <td>India</td>\n",
       "      <td>September 24, 2021</td>\n",
       "      <td>2021</td>\n",
       "      <td>TV-MA</td>\n",
       "      <td>2 Seasons</td>\n",
       "      <td>International TV Shows, Romantic TV Shows, TV ...</td>\n",
       "      <td>In a city of coaching centers known to train I...</td>\n",
       "    </tr>\n",
       "  </tbody>\n",
       "</table>\n",
       "</div>"
      ],
      "text/plain": [
       "  show_id     type                  title         director  \\\n",
       "0      s1    Movie   Dick Johnson Is Dead  Kirsten Johnson   \n",
       "1      s2  TV Show          Blood & Water          Unknown   \n",
       "2      s3  TV Show              Ganglands  Julien Leclercq   \n",
       "3      s4  TV Show  Jailbirds New Orleans          Unknown   \n",
       "4      s5  TV Show           Kota Factory          Unknown   \n",
       "\n",
       "                                                cast        country  \\\n",
       "0                                            Unknown  United States   \n",
       "1  Ama Qamata, Khosi Ngema, Gail Mabalane, Thaban...   South Africa   \n",
       "2  Sami Bouajila, Tracy Gotoas, Samuel Jouy, Nabi...        Unknown   \n",
       "3                                            Unknown        Unknown   \n",
       "4  Mayur More, Jitendra Kumar, Ranjan Raj, Alam K...          India   \n",
       "\n",
       "           date_added  release_year rating   duration  \\\n",
       "0  September 25, 2021          2020  PG-13     90 min   \n",
       "1  September 24, 2021          2021  TV-MA  2 Seasons   \n",
       "2  September 24, 2021          2021  TV-MA   1 Season   \n",
       "3  September 24, 2021          2021  TV-MA   1 Season   \n",
       "4  September 24, 2021          2021  TV-MA  2 Seasons   \n",
       "\n",
       "                                           listed_in  \\\n",
       "0                                      Documentaries   \n",
       "1    International TV Shows, TV Dramas, TV Mysteries   \n",
       "2  Crime TV Shows, International TV Shows, TV Act...   \n",
       "3                             Docuseries, Reality TV   \n",
       "4  International TV Shows, Romantic TV Shows, TV ...   \n",
       "\n",
       "                                         description  \n",
       "0  As her father nears the end of his life, filmm...  \n",
       "1  After crossing paths at a party, a Cape Town t...  \n",
       "2  To protect his family from a powerful drug lor...  \n",
       "3  Feuds, flirtations and toilet talk go down amo...  \n",
       "4  In a city of coaching centers known to train I...  "
      ]
     },
     "execution_count": 16,
     "metadata": {},
     "output_type": "execute_result"
    }
   ],
   "source": [
    "df.head()  # check"
   ]
  },
  {
   "cell_type": "code",
   "execution_count": 17,
   "id": "294042ce-0494-4ff8-9271-7e757469acce",
   "metadata": {
    "scrolled": true
   },
   "outputs": [
    {
     "data": {
      "text/html": [
       "<div>\n",
       "<style scoped>\n",
       "    .dataframe tbody tr th:only-of-type {\n",
       "        vertical-align: middle;\n",
       "    }\n",
       "\n",
       "    .dataframe tbody tr th {\n",
       "        vertical-align: top;\n",
       "    }\n",
       "\n",
       "    .dataframe thead th {\n",
       "        text-align: right;\n",
       "    }\n",
       "</style>\n",
       "<table border=\"1\" class=\"dataframe\">\n",
       "  <thead>\n",
       "    <tr style=\"text-align: right;\">\n",
       "      <th></th>\n",
       "      <th>show_id</th>\n",
       "      <th>type</th>\n",
       "      <th>title</th>\n",
       "      <th>director</th>\n",
       "      <th>cast</th>\n",
       "      <th>country</th>\n",
       "      <th>date_added</th>\n",
       "      <th>release_year</th>\n",
       "      <th>rating</th>\n",
       "      <th>duration</th>\n",
       "      <th>listed_in</th>\n",
       "      <th>description</th>\n",
       "    </tr>\n",
       "  </thead>\n",
       "  <tbody>\n",
       "    <tr>\n",
       "      <th>0</th>\n",
       "      <td>s1</td>\n",
       "      <td>Movie</td>\n",
       "      <td>Dick Johnson Is Dead</td>\n",
       "      <td>Kirsten Johnson</td>\n",
       "      <td>Unknown</td>\n",
       "      <td>United States</td>\n",
       "      <td>September 25, 2021</td>\n",
       "      <td>2020</td>\n",
       "      <td>PG-13</td>\n",
       "      <td>90 min</td>\n",
       "      <td>Documentaries</td>\n",
       "      <td>As her father nears the end of his life, filmm...</td>\n",
       "    </tr>\n",
       "    <tr>\n",
       "      <th>1</th>\n",
       "      <td>s2</td>\n",
       "      <td>TV Show</td>\n",
       "      <td>Blood &amp; Water</td>\n",
       "      <td>Unknown</td>\n",
       "      <td>Ama Qamata, Khosi Ngema, Gail Mabalane, Thaban...</td>\n",
       "      <td>South Africa</td>\n",
       "      <td>September 24, 2021</td>\n",
       "      <td>2021</td>\n",
       "      <td>TV-MA</td>\n",
       "      <td>2 Seasons</td>\n",
       "      <td>International TV Shows, TV Dramas, TV Mysteries</td>\n",
       "      <td>After crossing paths at a party, a Cape Town t...</td>\n",
       "    </tr>\n",
       "    <tr>\n",
       "      <th>2</th>\n",
       "      <td>s3</td>\n",
       "      <td>TV Show</td>\n",
       "      <td>Ganglands</td>\n",
       "      <td>Julien Leclercq</td>\n",
       "      <td>Sami Bouajila, Tracy Gotoas, Samuel Jouy, Nabi...</td>\n",
       "      <td>Unknown</td>\n",
       "      <td>September 24, 2021</td>\n",
       "      <td>2021</td>\n",
       "      <td>TV-MA</td>\n",
       "      <td>1 Season</td>\n",
       "      <td>Crime TV Shows, International TV Shows, TV Act...</td>\n",
       "      <td>To protect his family from a powerful drug lor...</td>\n",
       "    </tr>\n",
       "    <tr>\n",
       "      <th>3</th>\n",
       "      <td>s4</td>\n",
       "      <td>TV Show</td>\n",
       "      <td>Jailbirds New Orleans</td>\n",
       "      <td>Unknown</td>\n",
       "      <td>Unknown</td>\n",
       "      <td>Unknown</td>\n",
       "      <td>September 24, 2021</td>\n",
       "      <td>2021</td>\n",
       "      <td>TV-MA</td>\n",
       "      <td>1 Season</td>\n",
       "      <td>Docuseries, Reality TV</td>\n",
       "      <td>Feuds, flirtations and toilet talk go down amo...</td>\n",
       "    </tr>\n",
       "    <tr>\n",
       "      <th>4</th>\n",
       "      <td>s5</td>\n",
       "      <td>TV Show</td>\n",
       "      <td>Kota Factory</td>\n",
       "      <td>Unknown</td>\n",
       "      <td>Mayur More, Jitendra Kumar, Ranjan Raj, Alam K...</td>\n",
       "      <td>India</td>\n",
       "      <td>September 24, 2021</td>\n",
       "      <td>2021</td>\n",
       "      <td>TV-MA</td>\n",
       "      <td>2 Seasons</td>\n",
       "      <td>International TV Shows, Romantic TV Shows, TV ...</td>\n",
       "      <td>In a city of coaching centers known to train I...</td>\n",
       "    </tr>\n",
       "    <tr>\n",
       "      <th>...</th>\n",
       "      <td>...</td>\n",
       "      <td>...</td>\n",
       "      <td>...</td>\n",
       "      <td>...</td>\n",
       "      <td>...</td>\n",
       "      <td>...</td>\n",
       "      <td>...</td>\n",
       "      <td>...</td>\n",
       "      <td>...</td>\n",
       "      <td>...</td>\n",
       "      <td>...</td>\n",
       "      <td>...</td>\n",
       "    </tr>\n",
       "    <tr>\n",
       "      <th>8802</th>\n",
       "      <td>s8803</td>\n",
       "      <td>Movie</td>\n",
       "      <td>Zodiac</td>\n",
       "      <td>David Fincher</td>\n",
       "      <td>Mark Ruffalo, Jake Gyllenhaal, Robert Downey J...</td>\n",
       "      <td>United States</td>\n",
       "      <td>November 20, 2019</td>\n",
       "      <td>2007</td>\n",
       "      <td>R</td>\n",
       "      <td>158 min</td>\n",
       "      <td>Cult Movies, Dramas, Thrillers</td>\n",
       "      <td>A political cartoonist, a crime reporter and a...</td>\n",
       "    </tr>\n",
       "    <tr>\n",
       "      <th>8803</th>\n",
       "      <td>s8804</td>\n",
       "      <td>TV Show</td>\n",
       "      <td>Zombie Dumb</td>\n",
       "      <td>Unknown</td>\n",
       "      <td>Unknown</td>\n",
       "      <td>Unknown</td>\n",
       "      <td>July 1, 2019</td>\n",
       "      <td>2018</td>\n",
       "      <td>TV-Y7</td>\n",
       "      <td>2 Seasons</td>\n",
       "      <td>Kids' TV, Korean TV Shows, TV Comedies</td>\n",
       "      <td>While living alone in a spooky town, a young g...</td>\n",
       "    </tr>\n",
       "    <tr>\n",
       "      <th>8804</th>\n",
       "      <td>s8805</td>\n",
       "      <td>Movie</td>\n",
       "      <td>Zombieland</td>\n",
       "      <td>Ruben Fleischer</td>\n",
       "      <td>Jesse Eisenberg, Woody Harrelson, Emma Stone, ...</td>\n",
       "      <td>United States</td>\n",
       "      <td>November 1, 2019</td>\n",
       "      <td>2009</td>\n",
       "      <td>R</td>\n",
       "      <td>88 min</td>\n",
       "      <td>Comedies, Horror Movies</td>\n",
       "      <td>Looking to survive in a world taken over by zo...</td>\n",
       "    </tr>\n",
       "    <tr>\n",
       "      <th>8805</th>\n",
       "      <td>s8806</td>\n",
       "      <td>Movie</td>\n",
       "      <td>Zoom</td>\n",
       "      <td>Peter Hewitt</td>\n",
       "      <td>Tim Allen, Courteney Cox, Chevy Chase, Kate Ma...</td>\n",
       "      <td>United States</td>\n",
       "      <td>January 11, 2020</td>\n",
       "      <td>2006</td>\n",
       "      <td>PG</td>\n",
       "      <td>88 min</td>\n",
       "      <td>Children &amp; Family Movies, Comedies</td>\n",
       "      <td>Dragged from civilian life, a former superhero...</td>\n",
       "    </tr>\n",
       "    <tr>\n",
       "      <th>8806</th>\n",
       "      <td>s8807</td>\n",
       "      <td>Movie</td>\n",
       "      <td>Zubaan</td>\n",
       "      <td>Mozez Singh</td>\n",
       "      <td>Vicky Kaushal, Sarah-Jane Dias, Raaghav Chanan...</td>\n",
       "      <td>India</td>\n",
       "      <td>March 2, 2019</td>\n",
       "      <td>2015</td>\n",
       "      <td>TV-14</td>\n",
       "      <td>111 min</td>\n",
       "      <td>Dramas, International Movies, Music &amp; Musicals</td>\n",
       "      <td>A scrappy but poor boy worms his way into a ty...</td>\n",
       "    </tr>\n",
       "  </tbody>\n",
       "</table>\n",
       "<p>8807 rows × 12 columns</p>\n",
       "</div>"
      ],
      "text/plain": [
       "     show_id     type                  title         director  \\\n",
       "0         s1    Movie   Dick Johnson Is Dead  Kirsten Johnson   \n",
       "1         s2  TV Show          Blood & Water          Unknown   \n",
       "2         s3  TV Show              Ganglands  Julien Leclercq   \n",
       "3         s4  TV Show  Jailbirds New Orleans          Unknown   \n",
       "4         s5  TV Show           Kota Factory          Unknown   \n",
       "...      ...      ...                    ...              ...   \n",
       "8802   s8803    Movie                 Zodiac    David Fincher   \n",
       "8803   s8804  TV Show            Zombie Dumb          Unknown   \n",
       "8804   s8805    Movie             Zombieland  Ruben Fleischer   \n",
       "8805   s8806    Movie                   Zoom     Peter Hewitt   \n",
       "8806   s8807    Movie                 Zubaan      Mozez Singh   \n",
       "\n",
       "                                                   cast        country  \\\n",
       "0                                               Unknown  United States   \n",
       "1     Ama Qamata, Khosi Ngema, Gail Mabalane, Thaban...   South Africa   \n",
       "2     Sami Bouajila, Tracy Gotoas, Samuel Jouy, Nabi...        Unknown   \n",
       "3                                               Unknown        Unknown   \n",
       "4     Mayur More, Jitendra Kumar, Ranjan Raj, Alam K...          India   \n",
       "...                                                 ...            ...   \n",
       "8802  Mark Ruffalo, Jake Gyllenhaal, Robert Downey J...  United States   \n",
       "8803                                            Unknown        Unknown   \n",
       "8804  Jesse Eisenberg, Woody Harrelson, Emma Stone, ...  United States   \n",
       "8805  Tim Allen, Courteney Cox, Chevy Chase, Kate Ma...  United States   \n",
       "8806  Vicky Kaushal, Sarah-Jane Dias, Raaghav Chanan...          India   \n",
       "\n",
       "              date_added  release_year rating   duration  \\\n",
       "0     September 25, 2021          2020  PG-13     90 min   \n",
       "1     September 24, 2021          2021  TV-MA  2 Seasons   \n",
       "2     September 24, 2021          2021  TV-MA   1 Season   \n",
       "3     September 24, 2021          2021  TV-MA   1 Season   \n",
       "4     September 24, 2021          2021  TV-MA  2 Seasons   \n",
       "...                  ...           ...    ...        ...   \n",
       "8802   November 20, 2019          2007      R    158 min   \n",
       "8803        July 1, 2019          2018  TV-Y7  2 Seasons   \n",
       "8804    November 1, 2019          2009      R     88 min   \n",
       "8805    January 11, 2020          2006     PG     88 min   \n",
       "8806       March 2, 2019          2015  TV-14    111 min   \n",
       "\n",
       "                                              listed_in  \\\n",
       "0                                         Documentaries   \n",
       "1       International TV Shows, TV Dramas, TV Mysteries   \n",
       "2     Crime TV Shows, International TV Shows, TV Act...   \n",
       "3                                Docuseries, Reality TV   \n",
       "4     International TV Shows, Romantic TV Shows, TV ...   \n",
       "...                                                 ...   \n",
       "8802                     Cult Movies, Dramas, Thrillers   \n",
       "8803             Kids' TV, Korean TV Shows, TV Comedies   \n",
       "8804                            Comedies, Horror Movies   \n",
       "8805                 Children & Family Movies, Comedies   \n",
       "8806     Dramas, International Movies, Music & Musicals   \n",
       "\n",
       "                                            description  \n",
       "0     As her father nears the end of his life, filmm...  \n",
       "1     After crossing paths at a party, a Cape Town t...  \n",
       "2     To protect his family from a powerful drug lor...  \n",
       "3     Feuds, flirtations and toilet talk go down amo...  \n",
       "4     In a city of coaching centers known to train I...  \n",
       "...                                                 ...  \n",
       "8802  A political cartoonist, a crime reporter and a...  \n",
       "8803  While living alone in a spooky town, a young g...  \n",
       "8804  Looking to survive in a world taken over by zo...  \n",
       "8805  Dragged from civilian life, a former superhero...  \n",
       "8806  A scrappy but poor boy worms his way into a ty...  \n",
       "\n",
       "[8807 rows x 12 columns]"
      ]
     },
     "execution_count": 17,
     "metadata": {},
     "output_type": "execute_result"
    }
   ],
   "source": [
    "df # check"
   ]
  },
  {
   "cell_type": "markdown",
   "id": "cc3fde08-d5f8-487a-bbb2-609fac6e1a58",
   "metadata": {},
   "source": [
    "#### B⇣\n",
    "* `date_added заполните самым частым значением (модой) этого столбца.`"
   ]
  },
  {
   "cell_type": "code",
   "execution_count": 18,
   "id": "9b9652c9-8d2e-4ccd-8941-035dd02d619e",
   "metadata": {},
   "outputs": [],
   "source": [
    "df['date_added'] = df['date_added'].fillna(df['date_added'].mode()[0])"
   ]
  },
  {
   "cell_type": "markdown",
   "id": "906316a9-e59c-476d-a7e6-dda215ea7ec6",
   "metadata": {},
   "source": [
    "#### C⇣\n",
    "* `rating заполните модой, но сгруппированной по type (для фильмов и сериалов могут быть разные самые частые рейтинги).`"
   ]
  },
  {
   "cell_type": "code",
   "execution_count": 19,
   "id": "515c0e87-2219-447d-b156-b49ab3f28135",
   "metadata": {},
   "outputs": [
    {
     "name": "stdout",
     "output_type": "stream",
     "text": [
      "Пропуски после заполнения:\n",
      "show_id         0\n",
      "type            0\n",
      "title           0\n",
      "director        0\n",
      "cast            0\n",
      "country         0\n",
      "date_added      0\n",
      "release_year    0\n",
      "rating          0\n",
      "duration        0\n",
      "listed_in       0\n",
      "description     0\n",
      "dtype: int64\n"
     ]
    }
   ],
   "source": [
    "df['rating'] = df.groupby('type')['rating'].transform(\n",
    "    lambda x: x.fillna(x.mode()[0] if not x.mode().empty else 'Unknown')\n",
    ")\n",
    "\n",
    "print(\"Пропуски после заполнения:\")\n",
    "print(df.isna().sum())"
   ]
  },
  {
   "cell_type": "code",
   "execution_count": 20,
   "id": "a6a48030-3c15-4ebe-805d-5b228b6da499",
   "metadata": {},
   "outputs": [
    {
     "name": "stdout",
     "output_type": "stream",
     "text": [
      "     show_id     type                  title         director  \\\n",
      "0         s1    Movie   Dick Johnson Is Dead  Kirsten Johnson   \n",
      "1         s2  TV Show          Blood & Water          Unknown   \n",
      "2         s3  TV Show              Ganglands  Julien Leclercq   \n",
      "3         s4  TV Show  Jailbirds New Orleans          Unknown   \n",
      "4         s5  TV Show           Kota Factory          Unknown   \n",
      "...      ...      ...                    ...              ...   \n",
      "8802   s8803    Movie                 Zodiac    David Fincher   \n",
      "8803   s8804  TV Show            Zombie Dumb          Unknown   \n",
      "8804   s8805    Movie             Zombieland  Ruben Fleischer   \n",
      "8805   s8806    Movie                   Zoom     Peter Hewitt   \n",
      "8806   s8807    Movie                 Zubaan      Mozez Singh   \n",
      "\n",
      "                                                   cast        country  \\\n",
      "0                                               Unknown  United States   \n",
      "1     Ama Qamata, Khosi Ngema, Gail Mabalane, Thaban...   South Africa   \n",
      "2     Sami Bouajila, Tracy Gotoas, Samuel Jouy, Nabi...        Unknown   \n",
      "3                                               Unknown        Unknown   \n",
      "4     Mayur More, Jitendra Kumar, Ranjan Raj, Alam K...          India   \n",
      "...                                                 ...            ...   \n",
      "8802  Mark Ruffalo, Jake Gyllenhaal, Robert Downey J...  United States   \n",
      "8803                                            Unknown        Unknown   \n",
      "8804  Jesse Eisenberg, Woody Harrelson, Emma Stone, ...  United States   \n",
      "8805  Tim Allen, Courteney Cox, Chevy Chase, Kate Ma...  United States   \n",
      "8806  Vicky Kaushal, Sarah-Jane Dias, Raaghav Chanan...          India   \n",
      "\n",
      "              date_added  release_year rating   duration  \\\n",
      "0     September 25, 2021          2020  PG-13     90 min   \n",
      "1     September 24, 2021          2021  TV-MA  2 Seasons   \n",
      "2     September 24, 2021          2021  TV-MA   1 Season   \n",
      "3     September 24, 2021          2021  TV-MA   1 Season   \n",
      "4     September 24, 2021          2021  TV-MA  2 Seasons   \n",
      "...                  ...           ...    ...        ...   \n",
      "8802   November 20, 2019          2007      R    158 min   \n",
      "8803        July 1, 2019          2018  TV-Y7  2 Seasons   \n",
      "8804    November 1, 2019          2009      R     88 min   \n",
      "8805    January 11, 2020          2006     PG     88 min   \n",
      "8806       March 2, 2019          2015  TV-14    111 min   \n",
      "\n",
      "                                              listed_in  \\\n",
      "0                                         Documentaries   \n",
      "1       International TV Shows, TV Dramas, TV Mysteries   \n",
      "2     Crime TV Shows, International TV Shows, TV Act...   \n",
      "3                                Docuseries, Reality TV   \n",
      "4     International TV Shows, Romantic TV Shows, TV ...   \n",
      "...                                                 ...   \n",
      "8802                     Cult Movies, Dramas, Thrillers   \n",
      "8803             Kids' TV, Korean TV Shows, TV Comedies   \n",
      "8804                            Comedies, Horror Movies   \n",
      "8805                 Children & Family Movies, Comedies   \n",
      "8806     Dramas, International Movies, Music & Musicals   \n",
      "\n",
      "                                            description  \n",
      "0     As her father nears the end of his life, filmm...  \n",
      "1     After crossing paths at a party, a Cape Town t...  \n",
      "2     To protect his family from a powerful drug lor...  \n",
      "3     Feuds, flirtations and toilet talk go down amo...  \n",
      "4     In a city of coaching centers known to train I...  \n",
      "...                                                 ...  \n",
      "8802  A political cartoonist, a crime reporter and a...  \n",
      "8803  While living alone in a spooky town, a young g...  \n",
      "8804  Looking to survive in a world taken over by zo...  \n",
      "8805  Dragged from civilian life, a former superhero...  \n",
      "8806  A scrappy but poor boy worms his way into a ty...  \n",
      "\n",
      "[8807 rows x 12 columns]\n"
     ]
    }
   ],
   "source": [
    "# Находим моду для каждой группы\n",
    "mode_by_type = df.groupby('type')['rating'].transform(lambda x: x.mode()[0])\n",
    "\n",
    "# Заполняем пропуски\n",
    "df['rating'] = df['rating'].fillna(mode_by_type)\n",
    "\n",
    "# Выводим информацию о результатах\n",
    "print(df)"
   ]
  },
  {
   "cell_type": "code",
   "execution_count": 21,
   "id": "a8afe3e7-f24d-46d0-b5f1-2ac8eec5674f",
   "metadata": {},
   "outputs": [],
   "source": [
    "# Проверка результата"
   ]
  },
  {
   "cell_type": "code",
   "execution_count": 22,
   "id": "7b7d5611-0eac-4413-9161-866858b3a64e",
   "metadata": {},
   "outputs": [
    {
     "name": "stdout",
     "output_type": "stream",
     "text": [
      "show_id         0\n",
      "type            0\n",
      "title           0\n",
      "director        0\n",
      "cast            0\n",
      "country         0\n",
      "date_added      0\n",
      "release_year    0\n",
      "rating          0\n",
      "duration        0\n",
      "listed_in       0\n",
      "description     0\n",
      "dtype: int64\n"
     ]
    }
   ],
   "source": [
    "## Проверяем, что нет пропущенных значений\n",
    "print(df.isna().sum())"
   ]
  },
  {
   "cell_type": "code",
   "execution_count": 23,
   "id": "ae7b2668-8dad-4909-be64-f071c0317f57",
   "metadata": {},
   "outputs": [
    {
     "name": "stdout",
     "output_type": "stream",
     "text": [
      "        count unique    top  freq\n",
      "type                             \n",
      "Movie    6131     17  TV-MA  2064\n",
      "TV Show  2676      9  TV-MA  1147\n"
     ]
    }
   ],
   "source": [
    "## Проверяем распределение рейтингов по типам\n",
    "print(df.groupby('type')['rating'].describe())"
   ]
  },
  {
   "cell_type": "markdown",
   "id": "0f9b4c27-761b-4bca-851c-3663f6c26084",
   "metadata": {},
   "source": [
    "## ✔ Проверьте наличие и удалите полностью дублирующиеся строки."
   ]
  },
  {
   "cell_type": "code",
   "execution_count": 24,
   "id": "b382836f-17e0-405b-a602-32df647f95b7",
   "metadata": {},
   "outputs": [
    {
     "name": "stdout",
     "output_type": "stream",
     "text": [
      "0\n"
     ]
    }
   ],
   "source": [
    "# Проверка дубликатов\n",
    "# Вариант 1\n",
    "\n",
    "duplicates = df.duplicated()\n",
    "print(duplicates.sum())  # Выводит количество дубликатов\n",
    "\n",
    "# Результат: 0"
   ]
  },
  {
   "cell_type": "code",
   "execution_count": 25,
   "id": "bdfa49dd-1c95-4600-9e15-8d35381eeae8",
   "metadata": {},
   "outputs": [
    {
     "name": "stdout",
     "output_type": "stream",
     "text": [
      "Дубликатов: 0\n"
     ]
    }
   ],
   "source": [
    "# Проверка дубликатов\n",
    "# Вариант 2\n",
    "print(f\"Дубликатов: {df.duplicated().sum()}\")\n",
    "# Результат: 0"
   ]
  },
  {
   "cell_type": "code",
   "execution_count": 26,
   "id": "56837e17-c178-4e42-943d-c61358a6bc03",
   "metadata": {},
   "outputs": [],
   "source": [
    "# Удаление полных дубликатов\n",
    "df = df.drop_duplicates()"
   ]
  },
  {
   "cell_type": "code",
   "execution_count": 27,
   "id": "6acfc44e-7fb3-455d-9f10-a4cfa100a6c3",
   "metadata": {},
   "outputs": [
    {
     "name": "stdout",
     "output_type": "stream",
     "text": [
      "Осталось строк: 8807\n"
     ]
    }
   ],
   "source": [
    "# Проверка после удаления\n",
    "print(f\"Осталось строк: {len(df)}\")\n",
    "\n",
    "# Результат: \"Осталось строк: 8807\"\n",
    "# Было: \"[8807 rows x 12 columns]\""
   ]
  },
  {
   "cell_type": "markdown",
   "id": "e93a1476-fb3b-416f-9b56-9c83320e0328",
   "metadata": {},
   "source": [
    "## ✔ Преобразуйте тип данных в столбце date_added из object в datetime"
   ]
  },
  {
   "cell_type": "markdown",
   "id": "54c97137-cc45-47e4-a9c7-df872b7a7e70",
   "metadata": {},
   "source": [
    "###### `🔴Не рабочие варианты:`"
   ]
  },
  {
   "cell_type": "markdown",
   "id": "176018d9-f73e-46de-bdbc-5fc560050996",
   "metadata": {
    "jp-MarkdownHeadingCollapsed": true
   },
   "source": [
    "🔴\n",
    "* `Преобразование в datetime`\n",
    "df['date_added'] = pd.to_datetime(df['date_added'], format='%B %d, %Y')\n",
    "\n",
    "* `Проверка типа`\n",
    "print(df['date_added'].dtype)"
   ]
  },
  {
   "cell_type": "markdown",
   "id": "435de56e-5901-427a-be0e-46978fc2d748",
   "metadata": {},
   "source": [
    "🔴\n",
    "* `input: Преобразуйте тип данных`\n",
    "\n",
    "df['date_added'] = pd.to_datetime(df['date_added'])\n",
    "\n",
    "* `output: `\n",
    "\n",
    "ValueError: time data \" August 4, 2017\" doesn't match format \"%B %d, %Y\", at position 1441. You might want to try:\n",
    "    - passing `format` if your strings have a consistent format;\n",
    "    - passing `format='ISO8601'` if your strings are all ISO8601 but not necessarily in exactly the same format;\n",
    "    - passing `format='mixed'`, and the format will be inferred for each element individually. You might want to use `dayfirst` alongside this.\n"
   ]
  },
  {
   "cell_type": "markdown",
   "id": "e40b8d1a-52ba-4719-bca9-592d7c7fbe3b",
   "metadata": {},
   "source": [
    "🔴\n",
    "    # input: Преобразование в datetime\n",
    "df['date_added'] = pd.to_datetime(df['date_added'])\n",
    "\n",
    "    # Проверка типа\n",
    "print(df['date_added'].dtype)\n",
    "\n",
    "    # output: Ошибка в формате даты."
   ]
  },
  {
   "cell_type": "markdown",
   "id": "773c12d7-7a7e-4a0c-acab-0048faa96284",
   "metadata": {},
   "source": [
    "###### 🟢Решение:"
   ]
  },
  {
   "cell_type": "code",
   "execution_count": 28,
   "id": "2a5b5683-0d2c-4222-9a8c-8e61da8b1f02",
   "metadata": {},
   "outputs": [
    {
     "name": "stdout",
     "output_type": "stream",
     "text": [
      "object\n"
     ]
    }
   ],
   "source": [
    "# input: Проверьте текущий тип данных столбца date_added:\n",
    "\n",
    "print(df['date_added'].dtype)\n",
    "\n",
    "# output: object"
   ]
  },
  {
   "cell_type": "code",
   "execution_count": 29,
   "id": "d2e76bbf-9e71-46eb-a67c-54cbd16356ae",
   "metadata": {
    "scrolled": true
   },
   "outputs": [
    {
     "name": "stdout",
     "output_type": "stream",
     "text": [
      "Requirement already satisfied: datetime in d:\\apps\\anaconda\\lib\\site-packages (5.5)Note: you may need to restart the kernel to use updated packages.\n",
      "\n",
      "Requirement already satisfied: zope.interface in d:\\apps\\anaconda\\lib\\site-packages (from datetime) (7.1.1)\n",
      "Requirement already satisfied: pytz in d:\\apps\\anaconda\\lib\\site-packages (from datetime) (2024.1)\n",
      "Requirement already satisfied: setuptools in d:\\apps\\anaconda\\lib\\site-packages (from zope.interface->datetime) (72.1.0)\n"
     ]
    }
   ],
   "source": [
    "pip install datetime"
   ]
  },
  {
   "cell_type": "code",
   "execution_count": 30,
   "id": "55a4c265-f7fc-47a0-8cac-9be94f21205f",
   "metadata": {},
   "outputs": [],
   "source": [
    "import datetime"
   ]
  },
  {
   "cell_type": "markdown",
   "id": "8e7d8d9e-df63-4e36-bbe4-f4ddde6eec2f",
   "metadata": {},
   "source": [
    "    <!-- 🔴\n",
    "\n",
    "    # input: \n",
    "\n",
    "    ## Убираем лишние пробелы и преобразуем\n",
    "\n",
    "df['date_added'] = pd.to_datetime(df['date_added'].str.strip(), format='%B %d, %Y')\n",
    "\n",
    "    # output: \n",
    "    ---------------------------------------------------------------------------\n",
    "    AttributeError                            Traceback (most recent call last)\n",
    "    Cell In[36], line 4\n",
    "          1 # input: \n",
    "          2 \n",
    "          3 # Убираем лишние пробелы и преобразуем\n",
    "    ----> 4 df['date_added'] = pd.to_datetime(df['date_added'].str.strip(), format='%B %d, %Y')\n",
    "    \n",
    "    File D:\\Apps\\Anaconda\\Lib\\site-packages\\pandas\\core\\generic.py:6299, in NDFrame.__getattr__(self, name)\n",
    "       6292 if (\n",
    "       6293     name not in self._internal_names_set\n",
    "       6294     and name not in self._metadata\n",
    "       6295     and name not in self._accessors\n",
    "       6296     and self._info_axis._can_hold_identifiers_and_holds_name(name)\n",
    "       6297 ):\n",
    "       6298     return self[name]\n",
    "    --> 6299 return object.__getattribute__(self, name)\n",
    "    \n",
    "    File D:\\Apps\\Anaconda\\Lib\\site-packages\\pandas\\core\\accessor.py:224, in CachedAccessor.__get__(self, obj, cls)\n",
    "        221 if obj is None:\n",
    "        222     # we're accessing the attribute of the class, i.e., Dataset.geo\n",
    "        223     return self._accessor\n",
    "    --> 224 accessor_obj = self._accessor(obj)\n",
    "        225 # Replace the property with the accessor object. Inspired by:\n",
    "        226 # https://www.pydanny.com/cached-property.html\n",
    "        227 # We need to use object.__setattr__ because we overwrite __setattr__ on\n",
    "        228 # NDFrame\n",
    "        229 object.__setattr__(obj, self._name, accessor_obj)\n",
    "    \n",
    "    File D:\\Apps\\Anaconda\\Lib\\site-packages\\pandas\\core\\strings\\accessor.py:191, in StringMethods.__init__(self, data)\n",
    "        188 def __init__(self, data) -> None:\n",
    "        189     from pandas.core.arrays.string_ import StringDtype\n",
    "    --> 191     self._inferred_dtype = self._validate(data)\n",
    "        192     self._is_categorical = isinstance(data.dtype, CategoricalDtype)\n",
    "        193     self._is_string = isinstance(data.dtype, StringDtype)\n",
    "    \n",
    "    File D:\\Apps\\Anaconda\\Lib\\site-packages\\pandas\\core\\strings\\accessor.py:245, in StringMethods._validate(data)\n",
    "        242 inferred_dtype = lib.infer_dtype(values, skipna=True)\n",
    "        244 if inferred_dtype not in allowed_types:\n",
    "    --> 245     raise AttributeError(\"Can only use .str accessor with string values!\")\n",
    "        246 return inferred_dtype\n",
    "    \n",
    "    AttributeError: Can only use .str accessor with string values!"
   ]
  },
  {
   "cell_type": "code",
   "execution_count": 49,
   "id": "29386b88-d128-4712-a15e-61b28873e6ee",
   "metadata": {},
   "outputs": [
    {
     "name": "stderr",
     "output_type": "stream",
     "text": [
      "C:\\Users\\Станислав\\AppData\\Local\\Temp\\ipykernel_9324\\78844436.py:3: UserWarning: The argument 'infer_datetime_format' is deprecated and will be removed in a future version. A strict version of it is now the default, see https://pandas.pydata.org/pdeps/0004-consistent-to-datetime-parsing.html. You can safely remove this argument.\n",
      "  df['date_added'] = pd.to_datetime(df['date_added'], infer_datetime_format=True)\n"
     ]
    }
   ],
   "source": [
    "# input: Автоматическое определение формата\n",
    "\n",
    "df['date_added'] = pd.to_datetime(df['date_added'], infer_datetime_format=True)\n",
    "\n",
    "# output: Error\n",
    "# C:\\Users\\Станислав\\AppData\\Local\\Temp\\ipykernel_9324\\3357763631.py:3: UserWarning: The argument 'infer_datetime_format' is deprecated and will be removed in a future version. A strict version of it is now the default, see https://pandas.pydata.org/pdeps/0004-consistent-to-datetime-parsing.html. You can safely remove this argument.\n",
    "#   df['date_added'] = pd.to_datetime(df['date_added'], infer_datetime_format=True)"
   ]
  },
  {
   "cell_type": "code",
   "execution_count": 45,
   "id": "2f10ea1a-914d-4af3-a0b9-b2ebc5da8b1d",
   "metadata": {},
   "outputs": [],
   "source": [
    "from pandas._libs.tslibs.parsing import guess_datetime_format"
   ]
  },
  {
   "cell_type": "code",
   "execution_count": 46,
   "id": "c3d20a7f-be87-41bf-958a-ac55ac04433b",
   "metadata": {},
   "outputs": [],
   "source": [
    "# input: Обработка ошибок\n",
    "\n",
    "df['date_added'] = pd.to_datetime(df['date_added'], errors='coerce')\n",
    "\n",
    "# output: "
   ]
  },
  {
   "cell_type": "code",
   "execution_count": 48,
   "id": "fefffa4b-3d9f-4934-8b84-2a54e9718b9c",
   "metadata": {},
   "outputs": [
    {
     "name": "stdout",
     "output_type": "stream",
     "text": [
      "datetime64[ns]\n"
     ]
    }
   ],
   "source": [
    "# input: Check (Проверьте текущий тип данных столбца date_added)\n",
    "\n",
    "print(df['date_added'].dtype)\n",
    "\n",
    "# Old output: object\n",
    "# New output: datetime64[ns]"
   ]
  },
  {
   "cell_type": "markdown",
   "id": "4d5ed64c-2cab-4153-a998-090978313351",
   "metadata": {},
   "source": [
    "## ✔ Создайте новый столбец year_added, извлекая год из date_added"
   ]
  },
  {
   "cell_type": "code",
   "execution_count": 51,
   "id": "47bc17dc-2eb7-4861-97fe-a82bc57345b7",
   "metadata": {},
   "outputs": [
    {
     "name": "stdout",
     "output_type": "stream",
     "text": [
      "  date_added  year_added\n",
      "0 2021-09-25        2021\n",
      "1 2021-09-24        2021\n",
      "2 2021-09-24        2021\n",
      "3 2021-09-24        2021\n",
      "4 2021-09-24        2021\n"
     ]
    }
   ],
   "source": [
    "# input: \n",
    "\n",
    "## Создаем столбец с годом\n",
    "df['year_added'] = df['date_added'].dt.year\n",
    "\n",
    "## Проверяем\n",
    "print(df[['date_added', 'year_added']].head())\n",
    "\n",
    "# output: \n",
    "# date_added  year_added\n",
    "# 0 2021-09-25        2021\n",
    "# 1 2021-09-24        2021\n",
    "# 2 2021-09-24        2021\n",
    "# 3 2021-09-24        2021\n",
    "# 4 2021-09-24        2021"
   ]
  },
  {
   "cell_type": "markdown",
   "id": "afb5066f-0d43-40b1-8c63-1050bbb57b81",
   "metadata": {},
   "source": [
    "## ✔ Сколько всего фильмов (Movie) и сериалов (TV Show) в датасете? Постройте круговую диаграмму (pie chart), чтобы визуализировать соотношение."
   ]
  },
  {
   "cell_type": "code",
   "execution_count": 59,
   "id": "b7c8e3a9-0bfd-498e-8268-74ad0f0f7ed9",
   "metadata": {},
   "outputs": [
    {
     "name": "stdout",
     "output_type": "stream",
     "text": [
      "type\n",
      "Movie      6131\n",
      "TV Show    2676\n",
      "Name: count, dtype: int64\n"
     ]
    },
    {
     "data": {
      "image/png": "[encoded data removed]",
      "text/plain": [
       "<Figure size 400x400 with 1 Axes>"
      ]
     },
     "metadata": {},
     "output_type": "display_data"
    }
   ],
   "source": [
    "# input: \n",
    "\n",
    "    # Считаем количество фильмов и сериалов\n",
    "\n",
    "count_by_type = df['type'].value_counts()\n",
    "print(count_by_type)\n",
    "\n",
    "    # Круговая диаграмма\n",
    "\n",
    "import matplotlib.pyplot as plt\n",
    "\n",
    "plt.figure(figsize=(4, 4))\n",
    "plt.pie(count_by_type.values, labels=count_by_type.index, autopct='%1.1f%%')\n",
    "plt.title('Соотношение фильмов и сериалов')\n",
    "plt.show()\n",
    "\n",
    "# Ожидаемый результат:\n",
    "    # Результат покажет:\n",
    "        # Количество Movie\n",
    "        # Количество TV Show\n",
    "    # Круговую диаграмму с процентами\n",
    "\n",
    "# output: \n",
    "    # type\n",
    "    # Movie      6131\n",
    "    # TV Show    2676\n",
    "    # Name: count, dtype: int64\n",
    "    # И круговая диаграмма с \"Соотношением фильмов и сериалов. Фильмы: 69.6%. А TV Show: 30.4%\" Размер 4х4 вывел. "
   ]
  },
  {
   "cell_type": "markdown",
   "id": "dd3b2382-b8e3-4fe6-90d2-92b06a12ea45",
   "metadata": {},
   "source": [
    "## ✔ Какой рейтинг (rating) самый распространенный среди всего контента? Постройте barplot (столбчатую диаграмму) для топ-5 рейтингов."
   ]
  },
  {
   "cell_type": "code",
   "execution_count": 60,
   "id": "ac6bad51-9bfb-41b2-a22a-db724f983eb1",
   "metadata": {},
   "outputs": [
    {
     "name": "stdout",
     "output_type": "stream",
     "text": [
      "Топ-5 рейтингов:\n",
      "rating\n",
      "TV-MA    3211\n",
      "TV-14    2160\n",
      "TV-PG     863\n",
      "R         799\n",
      "PG-13     490\n",
      "Name: count, dtype: int64\n"
     ]
    },
    {
     "data": {
      "image/png": "[encoded data removed]",
      "text/plain": [
       "<Figure size 600x200 with 1 Axes>"
      ]
     },
     "metadata": {},
     "output_type": "display_data"
    }
   ],
   "source": [
    "# input: \n",
    "\n",
    "    # Самый распространенный рейтинг\n",
    "top_ratings = df['rating'].value_counts().head()\n",
    "print(\"Топ-5 рейтингов:\")\n",
    "print(top_ratings)\n",
    "\n",
    "    # Barplot\n",
    "import seaborn as sns\n",
    "\n",
    "plt.figure(figsize=(6, 2\n",
    "                ))\n",
    "sns.barplot(x=top_ratings.index, y=top_ratings.values)\n",
    "plt.title('Топ-5 самых распространенных рейтингов')\n",
    "plt.xlabel('Рейтинг')\n",
    "plt.ylabel('Количество')\n",
    "plt.xticks(rotation=45)\n",
    "plt.show()\n",
    "\n",
    "# Ожидаемый результат:\n",
    "    # Покажет самый частый рейтинг\n",
    "    # Barplot с топ-5 рейтингами\n",
    "# output:\n",
    "    # Топ-5 рейтингов:\n",
    "    # rating\n",
    "    # TV-MA    3211\n",
    "    # TV-14    2160\n",
    "    # TV-PG     863\n",
    "    # R         799\n",
    "    # PG-13     490\n",
    "    # Name: count, dtype: int64"
   ]
  },
  {
   "cell_type": "markdown",
   "id": "e9f49a95-4105-44d3-96ac-ca6930da6dba",
   "metadata": {},
   "source": [
    "## ✔ Найдите топ-5 стран (country), которые производят больше всего контента для Netflix."
   ]
  },
  {
   "cell_type": "code",
   "execution_count": 62,
   "id": "4fd9a1ff-a912-4657-b236-34cd96055ae4",
   "metadata": {},
   "outputs": [
    {
     "name": "stdout",
     "output_type": "stream",
     "text": [
      "Топ-5 стран:\n",
      "country\n",
      "United States     2818\n",
      "India              972\n",
      "Unknown            831\n",
      "United Kingdom     419\n",
      "Japan              245\n",
      "Name: count, dtype: int64\n"
     ]
    },
    {
     "data": {
      "image/png": "[encoded data removed]",
      "text/plain": [
       "<Figure size 600x200 with 1 Axes>"
      ]
     },
     "metadata": {},
     "output_type": "display_data"
    }
   ],
   "source": [
    "# input: \n",
    "\n",
    "    # Топ-5 стран по производству контента\n",
    "top_countries = df['country'].value_counts().head()\n",
    "print(\"Топ-5 стран:\")\n",
    "print(top_countries)\n",
    "\n",
    "    # Barplot\n",
    "plt.figure(figsize=(6, 2))\n",
    "sns.barplot(x=top_countries.values, y=top_countries.index)\n",
    "plt.title('Топ-5 стран по производству контента')\n",
    "plt.xlabel('Количество контента')\n",
    "plt.ylabel('Страна')\n",
    "plt.show()\n",
    "\n",
    "# Ожидаемый результат:\n",
    "    # Покажет топ-5 стран\n",
    "    # Горизонтальный barplot для удобства чтения\n",
    "# output:\n",
    "    # Топ-5 стран (country):\n",
    "        # United States     2818\n",
    "        # India              972\n",
    "        # Unknown            831\n",
    "        # United Kingdom     419\n",
    "        # Japan              245\n",
    "    # Name: count, dtype: int64"
   ]
  },
  {
   "cell_type": "markdown",
   "id": "ea2a4cd8-8fd3-4a47-9cbf-9c7327748b73",
   "metadata": {},
   "source": [
    "## ✔ Сколько фильмов/сериалов в жанре \"Horror\" (столбец listed_in)? "
   ]
  },
  {
   "cell_type": "code",
   "execution_count": 68,
   "id": "40f7e9e2-aa85-4ce5-8513-123b21520ca7",
   "metadata": {},
   "outputs": [
    {
     "data": {
      "text/html": [
       "<div>\n",
       "<style scoped>\n",
       "    .dataframe tbody tr th:only-of-type {\n",
       "        vertical-align: middle;\n",
       "    }\n",
       "\n",
       "    .dataframe tbody tr th {\n",
       "        vertical-align: top;\n",
       "    }\n",
       "\n",
       "    .dataframe thead th {\n",
       "        text-align: right;\n",
       "    }\n",
       "</style>\n",
       "<table border=\"1\" class=\"dataframe\">\n",
       "  <thead>\n",
       "    <tr style=\"text-align: right;\">\n",
       "      <th></th>\n",
       "      <th>show_id</th>\n",
       "      <th>type</th>\n",
       "      <th>title</th>\n",
       "      <th>director</th>\n",
       "      <th>cast</th>\n",
       "      <th>country</th>\n",
       "      <th>date_added</th>\n",
       "      <th>release_year</th>\n",
       "      <th>rating</th>\n",
       "      <th>duration</th>\n",
       "      <th>listed_in</th>\n",
       "      <th>description</th>\n",
       "      <th>year_added</th>\n",
       "    </tr>\n",
       "  </thead>\n",
       "  <tbody>\n",
       "    <tr>\n",
       "      <th>0</th>\n",
       "      <td>s1</td>\n",
       "      <td>Movie</td>\n",
       "      <td>Dick Johnson Is Dead</td>\n",
       "      <td>Kirsten Johnson</td>\n",
       "      <td>Unknown</td>\n",
       "      <td>United States</td>\n",
       "      <td>2021-09-25</td>\n",
       "      <td>2020</td>\n",
       "      <td>PG-13</td>\n",
       "      <td>90 min</td>\n",
       "      <td>Documentaries</td>\n",
       "      <td>As her father nears the end of his life, filmm...</td>\n",
       "      <td>2021</td>\n",
       "    </tr>\n",
       "    <tr>\n",
       "      <th>1</th>\n",
       "      <td>s2</td>\n",
       "      <td>TV Show</td>\n",
       "      <td>Blood &amp; Water</td>\n",
       "      <td>Unknown</td>\n",
       "      <td>Ama Qamata, Khosi Ngema, Gail Mabalane, Thaban...</td>\n",
       "      <td>South Africa</td>\n",
       "      <td>2021-09-24</td>\n",
       "      <td>2021</td>\n",
       "      <td>TV-MA</td>\n",
       "      <td>2 Seasons</td>\n",
       "      <td>International TV Shows, TV Dramas, TV Mysteries</td>\n",
       "      <td>After crossing paths at a party, a Cape Town t...</td>\n",
       "      <td>2021</td>\n",
       "    </tr>\n",
       "    <tr>\n",
       "      <th>2</th>\n",
       "      <td>s3</td>\n",
       "      <td>TV Show</td>\n",
       "      <td>Ganglands</td>\n",
       "      <td>Julien Leclercq</td>\n",
       "      <td>Sami Bouajila, Tracy Gotoas, Samuel Jouy, Nabi...</td>\n",
       "      <td>Unknown</td>\n",
       "      <td>2021-09-24</td>\n",
       "      <td>2021</td>\n",
       "      <td>TV-MA</td>\n",
       "      <td>1 Season</td>\n",
       "      <td>Crime TV Shows, International TV Shows, TV Act...</td>\n",
       "      <td>To protect his family from a powerful drug lor...</td>\n",
       "      <td>2021</td>\n",
       "    </tr>\n",
       "    <tr>\n",
       "      <th>3</th>\n",
       "      <td>s4</td>\n",
       "      <td>TV Show</td>\n",
       "      <td>Jailbirds New Orleans</td>\n",
       "      <td>Unknown</td>\n",
       "      <td>Unknown</td>\n",
       "      <td>Unknown</td>\n",
       "      <td>2021-09-24</td>\n",
       "      <td>2021</td>\n",
       "      <td>TV-MA</td>\n",
       "      <td>1 Season</td>\n",
       "      <td>Docuseries, Reality TV</td>\n",
       "      <td>Feuds, flirtations and toilet talk go down amo...</td>\n",
       "      <td>2021</td>\n",
       "    </tr>\n",
       "    <tr>\n",
       "      <th>4</th>\n",
       "      <td>s5</td>\n",
       "      <td>TV Show</td>\n",
       "      <td>Kota Factory</td>\n",
       "      <td>Unknown</td>\n",
       "      <td>Mayur More, Jitendra Kumar, Ranjan Raj, Alam K...</td>\n",
       "      <td>India</td>\n",
       "      <td>2021-09-24</td>\n",
       "      <td>2021</td>\n",
       "      <td>TV-MA</td>\n",
       "      <td>2 Seasons</td>\n",
       "      <td>International TV Shows, Romantic TV Shows, TV ...</td>\n",
       "      <td>In a city of coaching centers known to train I...</td>\n",
       "      <td>2021</td>\n",
       "    </tr>\n",
       "  </tbody>\n",
       "</table>\n",
       "</div>"
      ],
      "text/plain": [
       "  show_id     type                  title         director  \\\n",
       "0      s1    Movie   Dick Johnson Is Dead  Kirsten Johnson   \n",
       "1      s2  TV Show          Blood & Water          Unknown   \n",
       "2      s3  TV Show              Ganglands  Julien Leclercq   \n",
       "3      s4  TV Show  Jailbirds New Orleans          Unknown   \n",
       "4      s5  TV Show           Kota Factory          Unknown   \n",
       "\n",
       "                                                cast        country  \\\n",
       "0                                            Unknown  United States   \n",
       "1  Ama Qamata, Khosi Ngema, Gail Mabalane, Thaban...   South Africa   \n",
       "2  Sami Bouajila, Tracy Gotoas, Samuel Jouy, Nabi...        Unknown   \n",
       "3                                            Unknown        Unknown   \n",
       "4  Mayur More, Jitendra Kumar, Ranjan Raj, Alam K...          India   \n",
       "\n",
       "  date_added  release_year rating   duration  \\\n",
       "0 2021-09-25          2020  PG-13     90 min   \n",
       "1 2021-09-24          2021  TV-MA  2 Seasons   \n",
       "2 2021-09-24          2021  TV-MA   1 Season   \n",
       "3 2021-09-24          2021  TV-MA   1 Season   \n",
       "4 2021-09-24          2021  TV-MA  2 Seasons   \n",
       "\n",
       "                                           listed_in  \\\n",
       "0                                      Documentaries   \n",
       "1    International TV Shows, TV Dramas, TV Mysteries   \n",
       "2  Crime TV Shows, International TV Shows, TV Act...   \n",
       "3                             Docuseries, Reality TV   \n",
       "4  International TV Shows, Romantic TV Shows, TV ...   \n",
       "\n",
       "                                         description  year_added  \n",
       "0  As her father nears the end of his life, filmm...        2021  \n",
       "1  After crossing paths at a party, a Cape Town t...        2021  \n",
       "2  To protect his family from a powerful drug lor...        2021  \n",
       "3  Feuds, flirtations and toilet talk go down amo...        2021  \n",
       "4  In a city of coaching centers known to train I...        2021  "
      ]
     },
     "execution_count": 68,
     "metadata": {},
     "output_type": "execute_result"
    }
   ],
   "source": [
    "df.head()"
   ]
  },
  {
   "cell_type": "code",
   "execution_count": 66,
   "id": "76f30aac-fd14-4b10-bb51-690daf147444",
   "metadata": {},
   "outputs": [
    {
     "name": "stdout",
     "output_type": "stream",
     "text": [
      "Информации в жанре Horror: 432\n"
     ]
    }
   ],
   "source": [
    "# input: \n",
    "\n",
    "    # Считаем материал в жанре \"Horror\"\n",
    "horror_count = df[df['listed_in'].str.contains('Horror', na=False)].shape[0]\n",
    "print(f\"Информации в жанре Horror: {horror_count}\")\n",
    "\n",
    "# output: \n",
    "    # Информации в жанре Horror: 432"
   ]
  },
  {
   "cell_type": "code",
   "execution_count": 70,
   "id": "b35f6d28-e26d-42e9-b15c-d60e358b5392",
   "metadata": {},
   "outputs": [
    {
     "name": "stdout",
     "output_type": "stream",
     "text": [
      "Horror по типам:\n",
      "type\n",
      "Movie      357\n",
      "TV Show     75\n",
      "Name: count, dtype: int64\n"
     ]
    }
   ],
   "source": [
    "# input: С разбивкой по типам\n",
    "\n",
    "horror_by_type = df[df['listed_in'].str.contains('Horror', na=False)]['type'].value_counts()\n",
    "print(\"Horror по типам:\")\n",
    "print(horror_by_type)\n",
    "\n",
    "# output:\n",
    "    # Horror по типам (type):\n",
    "        # Movie      357\n",
    "        # TV Show     75\n",
    "    # Name: count, dtype: int64"
   ]
  },
  {
   "cell_type": "markdown",
   "id": "2bff391e-d03e-4ae8-b625-c0554fbb8f2f",
   "metadata": {},
   "source": [
    "## ✔ В каком году вышел самый старый фильм (release_year) на Netflix? А в каком самый новый сериал?"
   ]
  },
  {
   "cell_type": "code",
   "execution_count": 71,
   "id": "3425350b-d24c-475c-960d-18e1b34ee2a5",
   "metadata": {},
   "outputs": [
    {
     "name": "stdout",
     "output_type": "stream",
     "text": [
      "Самый старый фильм: 1942 год\n",
      "Самый новый сериал: 2021 год\n"
     ]
    }
   ],
   "source": [
    "# input: \n",
    "\n",
    "    # Самый старый фильм\n",
    "oldest_movie = df[df['type'] == 'Movie']['release_year'].min()\n",
    "    \n",
    "    # Самый новый сериал\n",
    "newest_tv = df[df['type'] == 'TV Show']['release_year'].max()\n",
    "\n",
    "print(f\"Самый старый фильм: {oldest_movie} год\")\n",
    "print(f\"Самый новый сериал: {newest_tv} год\")\n",
    "\n",
    "# output: \n",
    "    # Самый старый фильм: 1942 год\n",
    "    # Самый новый сериал: 2021 год"
   ]
  }
 ],
 "metadata": {
  "kernelspec": {
   "display_name": "Python [conda env:base] *",
   "language": "python",
   "name": "conda-base-py"
  },
  "language_info": {
   "codemirror_mode": {
    "name": "ipython",
    "version": 3
   },
   "file_extension": ".py",
   "mimetype": "text/x-python",
   "name": "python",
   "nbconvert_exporter": "python",
   "pygments_lexer": "ipython3",
   "version": "3.13.5"
  }
 },
 "nbformat": 4,
 "nbformat_minor": 5
}
